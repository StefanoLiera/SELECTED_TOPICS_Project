{
 "cells": [
  {
   "cell_type": "code",
   "execution_count": null,
   "id": "27974832",
   "metadata": {},
   "outputs": [],
   "source": [
    "import numpy as np\n",
    "import pandas as pd\n",
    "import matplotlib.pyplot as plt\n",
    "from pathlib import Path\n",
    "import librosa\n",
    "import sklearn\n",
    "import tensorflow as tf\n",
    "from sklearn.model_selection import train_test_split\n",
    "from sklearn.preprocessing import StandardScaler\n",
    "import os\n",
    "\n",
    "import wget\n",
    "\n",
    "import matplotlib.pyplot as plt\n",
    "import librosa.display\n",
    "\n",
    "import zipfile\n",
    "import os\n",
    "import pandas as pd\n",
    "from sklearn.preprocessing import LabelEncoder\n",
    "from tensorflow.keras.utils import to_categorical\n",
    "from io import TextIOWrapper\n",
    "\n",
    "from tqdm import tqdm\n",
    "import requests\n",
    "\n",
    "\n",
    "from sklearn.metrics import balanced_accuracy_score\n",
    "\n",
    "from sklearn.metrics import classification_report, confusion_matrix\n",
    "import seaborn as sns\n",
    "\n",
    "from scipy.signal import hilbert\n",
    "\n",
    "\n",
    "import random\n",
    "from scipy.signal import fftconvolve\n",
    "\n",
    "from scipy.signal import hilbert\n",
    "import numpy as np\n",
    "import librosa\n",
    "from tqdm import tqdm"
   ]
  },
  {
   "cell_type": "code",
   "execution_count": 3,
   "id": "c6de22b0",
   "metadata": {},
   "outputs": [],
   "source": [
    "# ----------------------------------------------------------------------------------\n",
    "# FUNCTIONS\n",
    "# ----------------------------------------------------------------------------------\n",
    "\n",
    "\n",
    "# ----------------------------------------------------------------------------------\n",
    "# DATASET IMPORT, EXTRACTION, ANALYSIS\n",
    "# ----------------------------------------------------------------------------------\n",
    "\n",
    "def extract_zip_if_needed(zip_path, extract_to=None):\n",
    "    \"\"\"\n",
    "    Estrae il file ZIP se la cartella di destinazione non esiste già.\n",
    "\n",
    "    Args:\n",
    "        zip_path (str): Percorso al file ZIP\n",
    "        extract_to (str, optional): Cartella dove estrarre i file. Se None, usa il nome del file ZIP.\n",
    "\n",
    "    Returns:\n",
    "        str: Percorso alla cartella estratta\n",
    "    \"\"\"\n",
    "\n",
    "    # Se la directory di estrazione non è specificata, usa il nome del file ZIP\n",
    "    if extract_to is None:\n",
    "        extract_to = os.path.splitext(zip_path)[0]\n",
    "\n",
    "    # Controlla se la directory di estrazione esiste già\n",
    "    if os.path.exists(extract_to) and os.path.isdir(extract_to):\n",
    "        print(f\"La directory '{extract_to}' esiste già, l'estrazione verrà saltata.\")\n",
    "        return extract_to\n",
    "\n",
    "    # Estrai lo ZIP se esiste\n",
    "    if os.path.exists(zip_path):\n",
    "        print(f\"Estrazione di '{zip_path}' in '{extract_to}'...\")\n",
    "\n",
    "        # Ottieni la lista dei file nello ZIP per la progress bar\n",
    "        with zipfile.ZipFile(zip_path, 'r') as zip_ref:\n",
    "            file_list = zip_ref.namelist()\n",
    "            total_files = len(file_list)\n",
    "\n",
    "        # Estrai i file con progress bar\n",
    "        with zipfile.ZipFile(zip_path, 'r') as zip_ref:\n",
    "            os.makedirs(extract_to, exist_ok=True)\n",
    "            for file in tqdm(file_list, desc=\"Estrazione files\", total=total_files):\n",
    "                zip_ref.extract(file, extract_to)\n",
    "\n",
    "        print(f\"Estrazione completata in '{extract_to}'\")\n",
    "    else:\n",
    "        raise FileNotFoundError(f\"Il file ZIP '{zip_path}' non esiste.\")\n",
    "\n",
    "    return extract_to\n",
    "\n",
    "\n",
    "\n",
    "def import_idmt_traffic_dataset(fn_txt: str = \"idmt_traffic_all\") -> pd.DataFrame:\n",
    "    \"\"\" Import IDMT-Traffic dataset\n",
    "    Args:\n",
    "        fn_txt (str): Text file with all WAV files\n",
    "    Returns:\n",
    "        df_dataset (pd.Dataframe): File-wise metadata\n",
    "            Columns:\n",
    "                'file': WAV filename,\n",
    "                'is_background': True if recording contains background noise (no vehicle), False else\n",
    "                'date_time': Recording time (YYYY-MM-DD-HH-mm)\n",
    "                'location': Recording location\n",
    "                'speed_kmh': Speed limit at recording site (km/h), UNK if unknown,\n",
    "                'sample_pos': Sample position (centered) within the original audio recording,\n",
    "                'daytime': M(orning) or (A)fternoon,\n",
    "                'weather': (D)ry or (W)et road condition,\n",
    "                'vehicle': (B)us, (C)ar, (M)otorcycle, or (T)ruck,\n",
    "                'source_direction': Source direction of passing vehicle: from (L)eft or from (R)ight,\n",
    "                'microphone': (SE)= (high-quality) sE8 microphones, (ME) = (low-quality) MEMS microphones (ICS-43434),\n",
    "                'channel': Original stereo pair channel (12) or (34)\n",
    "    \"\"\"\n",
    "\n",
    "    df_files = pd.read_csv(fn_txt, names=('file',))\n",
    "    fn_file_list = df_files['file'].to_list()\n",
    "\n",
    "    df_dataset = []\n",
    "\n",
    "    for f, fn in enumerate(fn_file_list):\n",
    "        fn = fn.replace('.wav', '')\n",
    "        parts = fn.split('_')\n",
    "\n",
    "        # background noise files\n",
    "        if '-BG' in fn:\n",
    "            date_time, location, speed_kmh, sample_pos, mic, channel = parts\n",
    "            vehicle, source_direction, weather, daytime = 'None', 'None', 'None', 'None'\n",
    "            is_background = True\n",
    "\n",
    "        # files with vehicle passings\n",
    "        else:\n",
    "            date_time, location, speed_kmh, sample_pos, daytime, weather, vehicle_direction, mic, channel = parts\n",
    "            vehicle, source_direction = vehicle_direction\n",
    "            is_background = False\n",
    "\n",
    "        channel = channel.replace('-BG', '')\n",
    "        speed_kmh = speed_kmh.replace('unknownKmh', 'UNK')\n",
    "        speed_kmh = speed_kmh.replace('Kmh', '')\n",
    "\n",
    "        df_dataset.append({'file': fn,\n",
    "                           'is_background': is_background,\n",
    "                           'date_time': date_time,\n",
    "                           'location': location,\n",
    "                           'speed_kmh': speed_kmh,\n",
    "                           'sample_pos': sample_pos,\n",
    "                           'daytime': daytime,\n",
    "                           'weather': weather,\n",
    "                           'vehicle': vehicle,\n",
    "                           'source_direction': source_direction,\n",
    "                           'microphone': mic,\n",
    "                           'channel': channel})\n",
    "\n",
    "    df_dataset = pd.DataFrame(df_dataset, columns=('file', 'is_background', 'date_time', 'location', 'speed_kmh', 'sample_pos', 'daytime', 'weather', 'vehicle',\n",
    "                                                   'source_direction', 'microphone', 'channel'))\n",
    "\n",
    "    return df_dataset\n",
    "\n",
    "def analyze_audio_channels(file_list):\n",
    "    \"\"\"\n",
    "    Analizza il numero di canali audio nei file del database.\n",
    "\n",
    "    Args:\n",
    "        file_list: Lista di percorsi ai file audio\n",
    "\n",
    "    Returns:\n",
    "        tuple: (conteggio_stereo, conteggio_mono, dettagli_per_file)\n",
    "    \"\"\"\n",
    "    mono_count = 0\n",
    "    stereo_count = 0\n",
    "    file_details = []\n",
    "\n",
    "    # Loop attraverso tutti i file con progress bar\n",
    "    for file_path in tqdm(file_list, desc=\"Analisi file audio\"):\n",
    "        try:\n",
    "            # Carica il file preservando i canali\n",
    "            y, sr = librosa.load(file_path, sr=None, mono=False)\n",
    "\n",
    "            # Controlla se è mono o stereo\n",
    "            if y.ndim == 1:  # Mono (1 dimensione)\n",
    "                mono_count += 1\n",
    "                channels = 1\n",
    "            else:  # Stereo (2 dimensioni)\n",
    "                stereo_count += 1\n",
    "                channels = y.shape[0]\n",
    "\n",
    "            # Aggiungi dettagli\n",
    "            file_name = os.path.basename(file_path)\n",
    "            file_details.append({\n",
    "                'file': file_name,\n",
    "                'channels': channels,\n",
    "                'tipo': 'mono' if channels == 1 else 'stereo'\n",
    "            })\n",
    "\n",
    "        except Exception as e:\n",
    "            print(f\"Errore nell'analisi del file {file_path}: {e}\")\n",
    "\n",
    "    return stereo_count, mono_count, file_details\n",
    "\n",
    "\n",
    "# ----------------------------------------------------------------------\n",
    "# DATA AUGMENTATION\n",
    "# ----------------------------------------------------------------------\n",
    "\n",
    "# 1. Rumore\n",
    "def add_noise(y, snr_db=10):\n",
    "    signal_power = np.mean(y**2)\n",
    "    snr = 10**(snr_db / 10)\n",
    "    noise_power = signal_power / snr\n",
    "    noise = np.random.normal(0, np.sqrt(noise_power), size=y.shape)\n",
    "    return y + noise\n",
    "\n",
    "# 2. Pitch shift\n",
    "\n",
    "def apply_pitch_shift(y, sr):\n",
    "    is_stereo = y.ndim > 1\n",
    "    \n",
    "    if is_stereo:\n",
    "        # Gestione stereo (separatamente per ogni canale)\n",
    "        ch1 = librosa.effects.pitch_shift(y[0], sr=sr, n_steps=2)\n",
    "        ch2 = librosa.effects.pitch_shift(y[1], sr=sr, n_steps=2)\n",
    "        \n",
    "        # Ricombina i canali\n",
    "        return np.array([ch1, ch2])\n",
    "    else:\n",
    "        # Caso mono originale\n",
    "        return librosa.effects.pitch_shift(y, sr=sr, n_steps=2)\n",
    "\n",
    "# 3. Time stretch\n",
    "\n",
    "def apply_time_stretch(y, rate=1.2):\n",
    "    is_stereo = y.ndim > 1\n",
    "    \n",
    "    if is_stereo:\n",
    "        # Gestione stereo (separatamente per ogni canale)\n",
    "        ch1 = librosa.effects.time_stretch(y[0], rate=rate)\n",
    "        ch2 = librosa.effects.time_stretch(y[1], rate=rate)\n",
    "        \n",
    "        if len(ch1) > len(y[0]):\n",
    "            ch1 = ch1[:len(y[0])]\n",
    "        elif len(ch1) < len(y[0]):\n",
    "            ch1= np.pad(ch1, (0, len(y[0])-len(ch1)), mode='constant', constant_values=(0,0))\n",
    "\n",
    "        if len(ch2) > len(y[1]):\n",
    "            ch2 = ch2[:len(y[1])]\n",
    "        elif len(ch2) < len(y[1]):\n",
    "            ch2 = np.pad(ch2, (0, len(y[1])-len(ch2)), mode='constant', constant_values=(0,0))\n",
    "        \n",
    "        # print(len(y[0]))\n",
    "        # print(len(y[1]))\n",
    "        # print(len(ch1))\n",
    "        # print(len(ch2))\n",
    "\n",
    "        return np.array([ch1, ch2])\n",
    "    else:\n",
    "        # Caso mono originale\n",
    "        y_stretched = librosa.effects.time_stretch(y, rate=rate)\n",
    "        if len(y_stretched) > len(y):\n",
    "            return y_stretched[:len(y)]\n",
    "        else:\n",
    "            return np.pad(y_stretched, (0, len(y) - len(y_stretched)), mode='constant')\n",
    "\n",
    "'''\n",
    "def apply_random_crop(y, sr, target_duration=2.0):\n",
    "    # Rileva se l'audio è stereo o mono\n",
    "    is_stereo = y.ndim > 1\n",
    "    \n",
    "    # Ottiene il numero di campioni correttamente\n",
    "    if is_stereo:\n",
    "        n_samples = len(y[0])  # Per audio stereo\n",
    "    else:\n",
    "        n_samples = len(y)      # Per audio mono\n",
    "    \n",
    "    # Calcola parametri di crop\n",
    "    crop_duration = random.uniform(0.5, target_duration - 0.01)\n",
    "    crop_length = np.floor(crop_duration * sr)\n",
    "    target_length = np.floor(target_duration * sr)\n",
    "    \n",
    "    # Gestisce il caso in cui l'audio è più corto della lunghezza di crop\n",
    "    if n_samples <= crop_length:\n",
    "        y_crop = y\n",
    "    else:\n",
    "        start = np.random.randint(0, n_samples - crop_length)\n",
    "        if is_stereo:\n",
    "            y_crop = y[:, start:start + crop_length]  # Slice per stereo\n",
    "        else:\n",
    "            y_crop = y[start:start + crop_length]     # Slice per mono\n",
    "    \n",
    "    # Padding alla lunghezza target\n",
    "    if is_stereo:\n",
    "        crop_samples = y_crop.shape[1]\n",
    "        y_padded = np.pad(y_crop, ((0, 0), (0, target_length - crop_samples)), mode='constant')\n",
    "    else:\n",
    "        y_padded = np.pad(y_crop, (0, target_length - len(y_crop)), mode='constant')\n",
    "    \n",
    "    print(len(y[0]))\n",
    "    print(len(y[1]))\n",
    "    print(len(y_padded[0]))\n",
    "    print(len(y_padded[1]))\n",
    "    \n",
    "    return y_padded\n",
    "'''\n",
    "\n",
    "# Lista delle augmentazioni disponibili\n",
    "AUGMENTATION_FUNCTIONS = [\n",
    "    apply_pitch_shift,\n",
    "    apply_time_stretch,\n",
    "    add_noise,\n",
    "    # apply_random_crop\n",
    "]\n",
    "\n",
    "# Funzione principale di augmentazione\n",
    "def augment_audio(y, sr, n_augmentations=2):\n",
    "    \"\"\"\n",
    "    Applica n_augmentations funzioni di augmentation casuali all'audio.\n",
    "    \n",
    "    Args:\n",
    "        y: array audio di input (stereo o mono)\n",
    "        sr: sample rate\n",
    "        n_augmentations: numero di augmentations da applicare in sequenza\n",
    "    \n",
    "    Returns:\n",
    "        array audio modificato nello stesso formato dell'input\n",
    "    \"\"\"\n",
    "    # Seleziona n_augmentations funzioni casuali dalla lista disponibile\n",
    "    selected_augs = random.sample(AUGMENTATION_FUNCTIONS, k=n_augmentations)\n",
    "    \n",
    "    # Audio da modificare (inizialmente l'originale)\n",
    "    y_aug = y.copy()\n",
    "    \n",
    "    # Applica le augmentations in sequenza\n",
    "    for aug_fn in selected_augs:\n",
    "        args = aug_fn.__code__.co_varnames\n",
    "        if 'sr' in args and 'target_duration' in args:\n",
    "            y_aug = aug_fn(y_aug, sr, target_duration=2.0)\n",
    "        elif 'sr' in args:\n",
    "            y_aug = aug_fn(y_aug, sr)\n",
    "        else:\n",
    "            y_aug = aug_fn(y_aug)\n",
    "    \n",
    "    return y_aug\n",
    "\n",
    "\n",
    "# ----------------------------------------------------------------------------------\n",
    "# FEATURE EXTRACTION\n",
    "# ----------------------------------------------------------------------------------\n",
    "\n",
    "def normalize_spectrogram(spec):\n",
    "    spec_min = np.min(spec)\n",
    "    spec_max = np.max(spec)\n",
    "    return (spec - spec_min) / (spec_max - spec_min + 1e-6)\n",
    "\n",
    "def compute_ild_ipd(left, right):\n",
    "    \"\"\"\n",
    "    Calcola ILD e IPD da due canali separati.\n",
    "    \"\"\"\n",
    "    eps = 1e-10\n",
    "    with np.errstate(divide='ignore', invalid='ignore'):\n",
    "        ild = 20 * np.log10(np.abs(left) / (np.abs(right) + eps))\n",
    "        ild[np.isinf(ild)] = 0  # sostituisci inf con 0\n",
    "    \n",
    "    analytic_left = hilbert(left)\n",
    "    analytic_right = hilbert(right)\n",
    "    phase_left = np.angle(analytic_left)\n",
    "    phase_right = np.angle(analytic_right)\n",
    "    ipd = phase_left - phase_right\n",
    "    ipd = (ipd + np.pi) % (2 * np.pi) - np.pi\n",
    "    \n",
    "    ild_stats = np.array([np.mean(ild), np.std(ild), np.max(ild), np.median(ild)])\n",
    "    ipd_stats = np.array([np.mean(ipd), np.std(ipd), np.max(ipd), np.median(ipd)])\n",
    "    \n",
    "    return ild_stats, ipd_stats\n",
    "\n",
    "\n",
    "\n",
    "def extract_stats(feature):\n",
    "    # First calculate statistics across the time/feature dimension (axis=2)\n",
    "    mean_val = np.mean(feature, axis=2)\n",
    "    std_val = np.std(feature, axis=2)\n",
    "    max_val = np.max(feature, axis=2)\n",
    "    median_val = np.median(feature, axis=2)\n",
    "    \n",
    "    # Reshape to remove the middle dimension of 1 and stack the statistics along a new dimension\n",
    "    # This will result in shape (17506, 4)\n",
    "    return np.column_stack([\n",
    "        mean_val.reshape(-1),\n",
    "        std_val.reshape(-1),\n",
    "        max_val.reshape(-1),\n",
    "        median_val.reshape(-1)\n",
    "    ])\n",
    "\n",
    "\n",
    "# ----------------------------------------------------------------------------------\n",
    "# PLOTS\n",
    "# ----------------------------------------------------------------------------------\n",
    "\n",
    "def plot_single_output_model(history, y_true, y_pred, class_names=None):\n",
    "    \"\"\"\n",
    "    Visualizza le metriche di addestramento e genera il classification report\n",
    "    per un modello con singolo output usando predizioni pre-calcolate.\n",
    "    \n",
    "    Args:\n",
    "        history: Oggetto history restituito da model.fit()\n",
    "        y_true: Label vere (indici di classe, non one-hot encoded)\n",
    "        y_pred: Predizioni del modello (indici di classe, non one-hot encoded)\n",
    "        class_names: Lista con i nomi delle classi (opzionale)\n",
    "    \"\"\"\n",
    "    \n",
    "    # Crea una figura per i grafici di accuracy e loss\n",
    "    plt.figure(figsize=(12, 5))\n",
    "    \n",
    "    # Grafico per l'accuracy\n",
    "    plt.subplot(1, 2, 1)\n",
    "    plt.plot(history.history['accuracy'], label='Train Accuracy')\n",
    "    plt.plot(history.history['val_accuracy'], label='Validation Accuracy')\n",
    "    plt.title('Model Accuracy')\n",
    "    plt.xlabel('Epoch')\n",
    "    plt.ylabel('Accuracy')\n",
    "    plt.legend()\n",
    "    \n",
    "    # Grafico per la loss\n",
    "    plt.subplot(1, 2, 2)\n",
    "    plt.plot(history.history['loss'], label='Train Loss')\n",
    "    plt.plot(history.history['val_loss'], label='Validation Loss')\n",
    "    plt.title('Model Loss')\n",
    "    plt.xlabel('Epoch')\n",
    "    plt.ylabel('Loss')\n",
    "    plt.legend()\n",
    "    \n",
    "    plt.tight_layout()\n",
    "    plt.show()\n",
    "    \n",
    "    # Trova e stampa la migliore accuracy\n",
    "    best_acc = max(history.history['val_accuracy'])\n",
    "    best_epoch = history.history['val_accuracy'].index(best_acc) + 1\n",
    "    \n",
    "    print(f\"Miglior accuracy: {best_acc:.4f} (epoch {best_epoch})\")\n",
    "    \n",
    "    # Se non sono forniti i nomi delle classi, usa etichette numeriche\n",
    "    if class_names is None:\n",
    "        class_names = [f'Class {i}' for i in range(len(np.unique(y_true)))]\n",
    "    \n",
    "    # Genera e stampa il classification report\n",
    "    print(\"\\n--- Classification Report ---\")\n",
    "    print(classification_report(y_true, y_pred, target_names=class_names))\n",
    "    \n",
    "    # Visualizza la matrice di confusione\n",
    "    plt.figure(figsize=(10, 8))\n",
    "    cm = confusion_matrix(y_true, y_pred, normalize='true')\n",
    "    sns.heatmap(cm, annot=True, fmt='.2f', cmap='Blues', xticklabels=class_names, yticklabels=class_names)\n",
    "    plt.title('Confusion Matrix')\n",
    "    plt.ylabel('True Label')\n",
    "    plt.xlabel('Predicted Label')\n",
    "    plt.tight_layout()\n",
    "    plt.show()\n",
    "\n",
    "def plot_vehicle_test_results(vehicle_true, vehicle_pred, vehicle_class_names, test_results=None):\n",
    "    \"\"\"\n",
    "    Visualizza e valuta i risultati di test per un modello con singolo output (veicolo).\n",
    "    \n",
    "    Args:\n",
    "        vehicle_true: Label vere dei veicoli (indici di classe)\n",
    "        vehicle_pred: Predizioni del modello per veicoli (indici di classe)\n",
    "        vehicle_class_names: Lista con i nomi delle classi di veicoli\n",
    "        test_results: Tupla con (loss, accuracy) dalla valutazione del modello (opzionale)\n",
    "    \"\"\"\n",
    "    \n",
    "    # ----- STATISTICHE DI PRESTAZIONE -----\n",
    "    \n",
    "    print(\"\\n===== RISULTATI CLASSIFICAZIONE VEICOLI =====\")\n",
    "    \n",
    "    # Accuratezza veicoli\n",
    "    vehicle_accuracy = np.mean(vehicle_true == vehicle_pred)\n",
    "    print(f\"Vehicle accuracy: {vehicle_accuracy:.4f}\")\n",
    "    \n",
    "    if test_results is not None:\n",
    "        print(f\"Test loss: {test_results[0]:.4f}\")\n",
    "        print(f\"Test accuracy: {test_results[1]:.4f}\")\n",
    "    \n",
    "    # Classification report veicoli\n",
    "    print(\"\\n--- Vehicle Classification Report ---\")\n",
    "    print(classification_report(vehicle_true, vehicle_pred, target_names=vehicle_class_names))\n",
    "    \n",
    "    # Matrice di confusione veicoli\n",
    "    plt.figure(figsize=(12, 10))\n",
    "    cm_vehicle = confusion_matrix(vehicle_true, vehicle_pred, normalize='true')\n",
    "    sns.heatmap(cm_vehicle, annot=True, fmt='.2f', cmap='Blues',\n",
    "                xticklabels=vehicle_class_names, yticklabels=vehicle_class_names)\n",
    "    plt.title('Vehicle Confusion Matrix')\n",
    "    plt.ylabel('True Label')\n",
    "    plt.xlabel('Predicted Label')\n",
    "    plt.tight_layout()\n",
    "    plt.show()\n",
    "    \n",
    "    # Balanced accuracy\n",
    "    bal_acc = balanced_accuracy_score(vehicle_true, vehicle_pred)\n",
    "    print(f\"\\nBalanced accuracy score: {bal_acc:.4f}\")\n",
    "\n",
    "def plot_direction_test_results(direction_true, direction_pred, direction_class_names, test_results=None):\n",
    "    \"\"\"\n",
    "    Visualizza e valuta i risultati di test per un modello con singolo output (direzione).\n",
    "    \n",
    "    Args:\n",
    "        direction_true: Label vere delle direzioni (indici di classe)\n",
    "        direction_pred: Predizioni del modello per direzioni (indici di classe)\n",
    "        direction_class_names: Lista con i nomi delle classi di direzione\n",
    "        test_results: Tupla con (loss, accuracy) dalla valutazione del modello (opzionale)\n",
    "    \"\"\"\n",
    "    \n",
    "    # ----- STATISTICHE DI PRESTAZIONE -----\n",
    "    \n",
    "    print(\"\\n===== RISULTATI CLASSIFICAZIONE DIREZIONI =====\")\n",
    "    \n",
    "    # Accuratezza direzioni\n",
    "    direction_accuracy = np.mean(direction_true == direction_pred)\n",
    "    print(f\"Direction accuracy: {direction_accuracy:.4f}\")\n",
    "    \n",
    "    if test_results is not None:\n",
    "        print(f\"Test loss: {test_results[0]:.4f}\")\n",
    "        print(f\"Test accuracy: {test_results[1]:.4f}\")\n",
    "    \n",
    "    # Classification report direzioni\n",
    "    print(\"\\n--- Direction Classification Report ---\")\n",
    "    print(classification_report(direction_true, direction_pred, target_names=direction_class_names))\n",
    "    \n",
    "    # Matrice di confusione direzioni\n",
    "    plt.figure(figsize=(12, 10))\n",
    "    cm_direction = confusion_matrix(direction_true, direction_pred, normalize='true')\n",
    "    sns.heatmap(cm_direction, annot=True, fmt='.2f', cmap='Blues',\n",
    "                xticklabels=direction_class_names, yticklabels=direction_class_names)\n",
    "    plt.title('Direction Confusion Matrix')\n",
    "    plt.ylabel('True Label')\n",
    "    plt.xlabel('Predicted Label')\n",
    "    plt.tight_layout()\n",
    "    plt.show()\n",
    "    \n",
    "    # Balanced accuracy\n",
    "    bal_acc = balanced_accuracy_score(direction_true, direction_pred)\n",
    "    print(f\"\\nBalanced accuracy score: {bal_acc:.4f}\")\n",
    "\n",
    "    \n",
    "def plot_and_evaluate_multi_output_model(history,\n",
    "                                         vehicle_true, vehicle_pred, vehicle_class_names,\n",
    "                                         direction_true, direction_pred, direction_class_names):\n",
    "    \"\"\"\n",
    "    Visualizza le metriche di addestramento e genera i classification report\n",
    "    per un modello con doppio output (veicolo e direzione).\n",
    "\n",
    "    Args:\n",
    "        history: Oggetto history restituito da model.fit()\n",
    "        vehicle_true: Label vere dei veicoli (indici di classe)\n",
    "        vehicle_pred: Predizioni del modello per veicoli (indici di classe)\n",
    "        vehicle_class_names: Lista con i nomi delle classi di veicoli\n",
    "        direction_true: Label vere di direzione (indici di classe)\n",
    "        direction_pred: Predizioni del modello per direzione (indici di classe)\n",
    "        direction_class_names: Lista con i nomi delle classi di direzione\n",
    "    \"\"\"\n",
    "\n",
    "    # ----- METRICHE DI TRAINING -----\n",
    "\n",
    "    # Crea una figura per i grafici di accuracy e loss\n",
    "    plt.figure(figsize=(15, 10))\n",
    "\n",
    "    # Grafico accuratezza veicoli\n",
    "    plt.subplot(2, 2, 1)\n",
    "    plt.plot(history.history['vehicle_output_accuracy'], label='Train Vehicle Accuracy')\n",
    "    plt.plot(history.history['val_vehicle_output_accuracy'], label='Validation Vehicle Accuracy')\n",
    "    plt.title('Vehicle Classification Accuracy')\n",
    "    plt.xlabel('Epoch')\n",
    "    plt.ylabel('Accuracy')\n",
    "    plt.legend()\n",
    "\n",
    "    # Grafico loss veicoli\n",
    "    plt.subplot(2, 2, 2)\n",
    "    plt.plot(history.history['vehicle_output_loss'], label='Train Vehicle Loss')\n",
    "    plt.plot(history.history['val_vehicle_output_loss'], label='Validation Vehicle Loss')\n",
    "    plt.title('Vehicle Classification Loss')\n",
    "    plt.xlabel('Epoch')\n",
    "    plt.ylabel('Loss')\n",
    "    plt.legend()\n",
    "\n",
    "    # Grafico accuratezza direzione\n",
    "    plt.subplot(2, 2, 3)\n",
    "    plt.plot(history.history['direction_output_accuracy'], label='Train Direction Accuracy')\n",
    "    plt.plot(history.history['val_direction_output_accuracy'], label='Validation Direction Accuracy')\n",
    "    plt.title('Direction Classification Accuracy')\n",
    "    plt.xlabel('Epoch')\n",
    "    plt.ylabel('Accuracy')\n",
    "    plt.legend()\n",
    "\n",
    "    # Grafico loss direzione\n",
    "    plt.subplot(2, 2, 4)\n",
    "    plt.plot(history.history['direction_output_loss'], label='Train Direction Loss')\n",
    "    plt.plot(history.history['val_direction_output_loss'], label='Validation Direction Loss')\n",
    "    plt.title('Direction Classification Loss')\n",
    "    plt.xlabel('Epoch')\n",
    "    plt.ylabel('Loss')\n",
    "    plt.legend()\n",
    "\n",
    "    plt.tight_layout()\n",
    "    plt.show()\n",
    "\n",
    "    # ----- STATISTICHE DI PRESTAZIONE -----\n",
    "\n",
    "    print(\"\\n===== RISULTATI CLASSIFICAZIONE VEICOLI =====\")\n",
    "\n",
    "    # Trova e stampa la migliore accuracy per veicoli\n",
    "    best_vehicle_acc = max(history.history['val_vehicle_output_accuracy'])\n",
    "    best_vehicle_epoch = history.history['val_vehicle_output_accuracy'].index(best_vehicle_acc) + 1\n",
    "    print(f\"Miglior vehicle accuracy: {best_vehicle_acc:.4f} (epoch {best_vehicle_epoch})\")\n",
    "\n",
    "    # Classification report veicoli\n",
    "    print(\"\\n--- Vehicle Classification Report ---\")\n",
    "    print(classification_report(vehicle_true, vehicle_pred, target_names=vehicle_class_names))\n",
    "\n",
    "    # Matrice di confusione veicoli\n",
    "    plt.figure(figsize=(12, 8))\n",
    "    cm_vehicle = confusion_matrix(vehicle_true, vehicle_pred, normalize='true')\n",
    "    sns.heatmap(cm_vehicle, annot=True, fmt='.2f', cmap='Blues',\n",
    "                xticklabels=vehicle_class_names, yticklabels=vehicle_class_names)\n",
    "    plt.title('Vehicle Confusion Matrix')\n",
    "    plt.ylabel('True Label')\n",
    "    plt.xlabel('Predicted Label')\n",
    "    plt.tight_layout()\n",
    "    plt.show()\n",
    "\n",
    "    print(\"\\n===== RISULTATI CLASSIFICAZIONE DIREZIONE =====\")\n",
    "\n",
    "    # Trova e stampa la migliore accuracy per direzione\n",
    "    best_direction_acc = max(history.history['val_direction_output_accuracy'])\n",
    "    best_direction_epoch = history.history['val_direction_output_accuracy'].index(best_direction_acc) + 1\n",
    "    print(f\"Miglior direction accuracy: {best_direction_acc:.4f} (epoch {best_direction_epoch})\")\n",
    "\n",
    "    # Classification report direzione\n",
    "    print(\"\\n--- Direction Classification Report ---\")\n",
    "    print(classification_report(direction_true, direction_pred, target_names=direction_class_names))\n",
    "\n",
    "    # Matrice di confusione direzione\n",
    "    plt.figure(figsize=(10, 8))\n",
    "    cm_direction = confusion_matrix(direction_true, direction_pred, normalize='true')\n",
    "    sns.heatmap(cm_direction, annot=True, fmt='.2f', cmap='Blues',\n",
    "                xticklabels=direction_class_names, yticklabels=direction_class_names)\n",
    "    plt.title('Direction Confusion Matrix')\n",
    "    plt.ylabel('True Label')\n",
    "    plt.xlabel('Predicted Label')\n",
    "    plt.tight_layout()\n",
    "    plt.show()\n",
    "\n",
    "\n",
    "\n",
    "def plot_test_results_multi_output_model(vehicle_true, vehicle_pred, vehicle_class_names,\n",
    "                     direction_true, direction_pred, direction_class_names,\n",
    "                     test_results=None):\n",
    "    \"\"\"\n",
    "    Visualizza e valuta i risultati di test per un modello con doppio output.\n",
    "    \n",
    "    Args:\n",
    "        vehicle_true: Label vere dei veicoli (indici di classe)\n",
    "        vehicle_pred: Predizioni del modello per veicoli (indici di classe)\n",
    "        vehicle_class_names: Lista con i nomi delle classi di veicoli\n",
    "        direction_true: Label vere di direzione (indici di classe)\n",
    "        direction_pred: Predizioni del modello per direzione (indici di classe)\n",
    "        direction_class_names: Lista con i nomi delle classi di direzione\n",
    "        test_results: Risultati della valutazione del modello (opzionale)\n",
    "    \"\"\"\n",
    "    \n",
    "    # ----- STATISTICHE DI PRESTAZIONE -----\n",
    "    \n",
    "    print(\"\\n===== RISULTATI CLASSIFICAZIONE VEICOLI =====\")\n",
    "    \n",
    "    # Accuratezza veicoli\n",
    "    vehicle_accuracy = np.mean(vehicle_true == vehicle_pred)\n",
    "    print(f\"Vehicle accuracy: {vehicle_accuracy:.4f}\")\n",
    "    \n",
    "    if test_results is not None:\n",
    "        print(f\"Vehicle loss: {test_results[1]:.4f}\")\n",
    "    \n",
    "    # Classification report veicoli\n",
    "    print(\"\\n--- Vehicle Classification Report ---\")\n",
    "    print(classification_report(vehicle_true, vehicle_pred, target_names=vehicle_class_names))\n",
    "    \n",
    "    # Matrice di confusione veicoli\n",
    "    plt.figure(figsize=(12, 8))\n",
    "    cm_vehicle = confusion_matrix(vehicle_true, vehicle_pred, normalize='true')\n",
    "    sns.heatmap(cm_vehicle, annot=True, fmt='.2f', cmap='Blues',\n",
    "                xticklabels=vehicle_class_names, yticklabels=vehicle_class_names)\n",
    "    plt.title('Vehicle Confusion Matrix')\n",
    "    plt.ylabel('True Label')\n",
    "    plt.xlabel('Predicted Label')\n",
    "    plt.tight_layout()\n",
    "    plt.show()\n",
    "    \n",
    "    print(\"\\n===== RISULTATI CLASSIFICAZIONE DIREZIONE =====\")\n",
    "    \n",
    "    # Accuratezza direzione\n",
    "    direction_accuracy = np.mean(direction_true == direction_pred)\n",
    "    print(f\"Direction accuracy: {direction_accuracy:.4f}\")\n",
    "    \n",
    "    if test_results is not None:\n",
    "        print(f\"Direction loss: {test_results[2]:.4f}\")\n",
    "    \n",
    "    # Classification report direzione\n",
    "    print(\"\\n--- Direction Classification Report ---\")\n",
    "    print(classification_report(direction_true, direction_pred, target_names=direction_class_names))\n",
    "    \n",
    "    # Matrice di confusione direzione\n",
    "    plt.figure(figsize=(10, 8))\n",
    "    cm_direction = confusion_matrix(direction_true, direction_pred, normalize='true')\n",
    "    sns.heatmap(cm_direction, annot=True, fmt='.2f', cmap='Blues',\n",
    "                xticklabels=direction_class_names, yticklabels=direction_class_names)\n",
    "    plt.title('Direction Confusion Matrix')\n",
    "    plt.ylabel('True Label')\n",
    "    plt.xlabel('Predicted Label')\n",
    "    plt.tight_layout()\n",
    "    plt.show()"
   ]
  },
  {
   "cell_type": "code",
   "execution_count": 4,
   "id": "3d50876a",
   "metadata": {},
   "outputs": [
    {
     "name": "stdout",
     "output_type": "stream",
     "text": [
      "File IDMT_Traffic.zip already exists, skipping download.\n",
      "La directory 'IDMT_Traffic' esiste già, l'estrazione verrà saltata.\n",
      "\n",
      "Numero totale di file audio trovati: 17506\n",
      "['B' 'C' 'M' 'None' 'T']\n",
      "['L' 'None' 'R']\n"
     ]
    },
    {
     "name": "stderr",
     "output_type": "stream",
     "text": [
      "Analisi file audio: 100%|██████████| 17506/17506 [03:15<00:00, 89.49it/s] "
     ]
    },
    {
     "name": "stdout",
     "output_type": "stream",
     "text": [
      "\n",
      "------ ANALISI CANALI AUDIO ------\n",
      "Numero di file stereo: 17506\n",
      "Numero di file mono: 0\n",
      "Totale file analizzati: 17506\n",
      "Percentuale stereo: 100.0%\n",
      "Percentuale mono: 0.0%\n",
      "\n",
      "Primi 5 file analizzati:\n",
      "                                                file  channels    tipo\n",
      "0  2019-10-22-08-40_Fraunhofer-IDMT_30Kmh_1007744...         2  stereo\n",
      "1  2019-10-22-08-40_Fraunhofer-IDMT_30Kmh_1007744...         2  stereo\n",
      "2  2019-10-22-08-40_Fraunhofer-IDMT_30Kmh_1017344...         2  stereo\n",
      "3  2019-10-22-08-40_Fraunhofer-IDMT_30Kmh_1017344...         2  stereo\n",
      "4  2019-10-22-08-40_Fraunhofer-IDMT_30Kmh_1026944...         2  stereo\n"
     ]
    },
    {
     "name": "stderr",
     "output_type": "stream",
     "text": [
      "\n"
     ]
    }
   ],
   "source": [
    "# ------------------------------------------------------------------------------------\n",
    "# IMPORT DATASET AND ANALYSIS\n",
    "# ------------------------------------------------------------------------------------\n",
    "\n",
    "\n",
    "# Percorso assoluto del file ZIP\n",
    "# ZIP_PATH = \"/Volumes/Extreme SSD/IDMT_Traffic.zip\" # di Stefano\n",
    "ZIP_PATH = \"IDMT_Traffic.zip\"\n",
    "# AUDIO_DIR = \"IDMT_Traffic/audio/\"\n",
    "# ANN_DIR = \"IDMT_Traffic/annotation/idmt_traffic_all.txt\"\n",
    "\n",
    "# Download file if it doesn't exist\n",
    "if not os.path.exists(ZIP_PATH):\n",
    "    url = \"https://zenodo.org/records/7551553/files/IDMT_Traffic.zip?download=1\"\n",
    "    print(f\"Downloading {ZIP_PATH}...\")\n",
    "    response = requests.get(url, stream=True)\n",
    "    total_size = int(response.headers.get('content-length', 0))\n",
    "\n",
    "    with open(ZIP_PATH, 'wb') as file:\n",
    "        with tqdm(\n",
    "                desc=ZIP_PATH,\n",
    "                total=total_size,\n",
    "                unit='iB',\n",
    "                unit_scale=True,\n",
    "                unit_divisor=1024,\n",
    "            ) as bar:\n",
    "            for data in response.iter_content(chunk_size=1024):\n",
    "                size = file.write(data)\n",
    "                bar.update(size)\n",
    "    print(\"Download complete!\")\n",
    "else:\n",
    "    print(f\"File {ZIP_PATH} already exists, skipping download.\")\n",
    "\n",
    "\n",
    "# Estrai lo ZIP se necessario\n",
    "extracted_dir = extract_zip_if_needed(ZIP_PATH)\n",
    "\n",
    "AUDIO_DIR_PATH = os.path.join(extracted_dir, \"IDMT_Traffic/audio/\")\n",
    "ANN_FILE_PATH = os.path.join(extracted_dir, \"IDMT_Traffic/annotation/idmt_traffic_all.txt\")\n",
    "\n",
    "all_audio_files = [os.path.join(AUDIO_DIR_PATH, f) for f in os.listdir(AUDIO_DIR_PATH) if f.endswith('.wav')]\n",
    "print(f\"\\nNumero totale di file audio trovati: {len(all_audio_files)}\")\n",
    "\n",
    "# Leggi il file di annotazione\n",
    "# df_dataset = pd.read_csv(ANN_FILE_PATH, sep=\"\\t\", header=None)\n",
    "df_dataset = import_idmt_traffic_dataset(ANN_FILE_PATH)\n",
    "vehicle = df_dataset[\"vehicle\"]\n",
    "direction = df_dataset[\"source_direction\"]\n",
    "print(np.unique(vehicle))\n",
    "print(np.unique(direction))\n",
    "\n",
    "\n",
    "# LABEL ENCODING\n",
    "# Use separate encoders for different label types\n",
    "le_vehicle = LabelEncoder()\n",
    "labels_encoded_vehicle = le_vehicle.fit_transform(vehicle)\n",
    "labels_cat_vehicles = to_categorical(labels_encoded_vehicle)\n",
    "\n",
    "le_direction = LabelEncoder()\n",
    "labels_encoded_direction = le_direction.fit_transform(direction)\n",
    "labels_cat_direction = to_categorical(labels_encoded_direction)\n",
    "\n",
    "# Esegui l'analisi\n",
    "stereo_count, mono_count, details = analyze_audio_channels(all_audio_files)\n",
    "\n",
    "# Stampa i risultati\n",
    "print(\"\\n------ ANALISI CANALI AUDIO ------\")\n",
    "print(f\"Numero di file stereo: {stereo_count}\")\n",
    "print(f\"Numero di file mono: {mono_count}\")\n",
    "print(f\"Totale file analizzati: {stereo_count + mono_count}\")\n",
    "print(f\"Percentuale stereo: {stereo_count/(stereo_count + mono_count)*100:.1f}%\")\n",
    "print(f\"Percentuale mono: {mono_count/(stereo_count + mono_count)*100:.1f}%\")\n",
    "\n",
    "df_details = pd.DataFrame(details)\n",
    "print(\"\\nPrimi 5 file analizzati:\")\n",
    "print(df_details.head())"
   ]
  },
  {
   "cell_type": "code",
   "execution_count": 5,
   "id": "f4641c86",
   "metadata": {},
   "outputs": [
    {
     "name": "stdout",
     "output_type": "stream",
     "text": [
      "Spectrograms shape: (17506, 2, 128, 188)\n",
      "Spectral Centroids shape: (17506, 1, 188)\n",
      "Spectral Rolloffs shape: (17506, 1, 188)\n",
      "Spectral Contrasts shape: (17506, 2, 188)\n",
      "Low freq energies shape: (17506,)\n",
      "ILD features shape: (17506, 4)\n",
      "IPD features shape: (17506, 4)\n",
      "Input shape for model: (2, 128, 188)\n",
      "Centroid stats shape: (17506, 4)\n",
      "Rolloff stats shape: (17506, 4)\n",
      "Contrast stats shape (left): (17506, 4)\n",
      "Contrast stats shape (right): (17506, 4)\n",
      "Low frequency energies shape: (17506,)\n",
      "ILD features shape: (17506, 4)\n",
      "IPD features shape: (17506, 4)\n",
      "\n",
      "(17506, 17)\n",
      "(17506, 8)\n"
     ]
    }
   ],
   "source": [
    "# -------------------------------------------------------------------------------------\n",
    "# FEATURE EXTRACTION\n",
    "# -------------------------------------------------------------------------------------\n",
    "\n",
    "spectrograms = []\n",
    "spectral_centroids = []\n",
    "spectral_rolloffs = []\n",
    "spectral_contrasts = []\n",
    "low_freq_energies = []\n",
    "fixed_length = None\n",
    "\n",
    "ild_features = []\n",
    "ipd_features = []\n",
    "\n",
    "\n",
    "# --- Parametri comuni ---\n",
    "n_fft = 2048\n",
    "hop_length = 512\n",
    "n_mels = 128\n",
    "\n",
    "\n",
    "file_counter = 0\n",
    "for audio_path in all_audio_files[:]:\n",
    "\n",
    "    y, sr = librosa.load(audio_path, sr=None, mono=False)\n",
    "\n",
    "    file_counter += 1\n",
    "\n",
    "    # Augment 1 sample every 10\n",
    "    if file_counter % 10 == 0:\n",
    "        y = augment_audio(y, sr, n_augmentations=1)\n",
    "    \n",
    "    mel_spectrogram = librosa.feature.melspectrogram(y=y, sr=sr, n_fft=n_fft, hop_length=hop_length, n_mels=n_mels)\n",
    "    mel_spectrogram_db = librosa.power_to_db(mel_spectrogram, ref=np.max)\n",
    "\n",
    "\n",
    "    # 1 centroide per ogni frame\n",
    "    spectral_centroid = librosa.feature.spectral_centroid(y=y, sr=sr)[0]\n",
    "    # 1 rolloff per ogni frame\n",
    "    spectral_rolloff = librosa.feature.spectral_rolloff(y=y, sr=sr, roll_percent=0.85)[0]\n",
    "    # 1 contrasto per banda (default 6+1 bande)\n",
    "    spectral_contrast = np.mean(librosa.feature.spectral_contrast(y=y, sr=sr), axis=1)\n",
    "\n",
    "    low_freq_energy = np.sum(mel_spectrogram[:10, :]) / (np.sum(mel_spectrogram) + 1e-10)\n",
    "\n",
    "    if fixed_length is None:\n",
    "        fixed_length = mel_spectrogram_db.shape[1]\n",
    "    \n",
    "    # Padding o troncamento\n",
    "    if mel_spectrogram_db.shape[1] < fixed_length:\n",
    "        mel_spectrogram_db = np.pad(mel_spectrogram_db,\n",
    "                                    ((0, 0), (0, fixed_length - mel_spectrogram_db.shape[1])),\n",
    "                                    mode='constant')\n",
    "    else:\n",
    "        mel_spectrogram_db = mel_spectrogram_db[:, :fixed_length]\n",
    "    \n",
    "    # Normalizzazione\n",
    "    mel_spectrogram_db = normalize_spectrogram(mel_spectrogram_db)\n",
    "    \n",
    "    spectrograms.append(mel_spectrogram_db) \n",
    "    spectral_centroids.append(spectral_centroid)\n",
    "    spectral_rolloffs.append(spectral_rolloff)\n",
    "    spectral_contrasts.append(spectral_contrast)\n",
    "    low_freq_energies.append(low_freq_energy)      \n",
    "\n",
    "    # ILD/IPD stats\n",
    "    ild_stats, ipd_stats = compute_ild_ipd(y[0], y[1])  # Assuming stereo audio\n",
    "    ild_features.append(ild_stats)\n",
    "    ipd_features.append(ipd_stats)\n",
    "\n",
    "\n",
    "spectrograms = np.array(spectrograms)\n",
    "spectrograms = spectrograms / np.max(np.abs(spectrograms))\n",
    "\n",
    "spectral_centroids = np.array(spectral_centroids)\n",
    "spectral_rolloffs = np.array(spectral_rolloffs)\n",
    "spectral_contrasts = np.array(spectral_contrasts)\n",
    "low_freq_energies = np.array(low_freq_energies)\n",
    "\n",
    "ild_features = np.array(ild_features)\n",
    "ipd_features = np.array(ipd_features)\n",
    "\n",
    "input_shape = spectrograms.shape[1:]\n",
    "\n",
    "print(\"Spectrograms shape:\", spectrograms.shape)\n",
    "print(\"Spectral Centroids shape:\", spectral_centroids.shape)\n",
    "print(\"Spectral Rolloffs shape:\", spectral_rolloffs.shape)\n",
    "print(\"Spectral Contrasts shape:\", spectral_contrasts.shape)\n",
    "print(\"Low freq energies shape:\", low_freq_energies.shape)\n",
    "print(\"ILD features shape:\", ild_features.shape)\n",
    "print(\"IPD features shape:\", ipd_features.shape)\n",
    "print(\"Input shape for model:\", input_shape)\n",
    "\n",
    "\n",
    "# Statistics from the features -------------\n",
    "\n",
    "centroid_stats = extract_stats(spectral_centroids)  # (17506, 4)\n",
    "rolloff_stats = extract_stats(spectral_rolloffs)    # (17506, 4) \n",
    "contrast_stats_left = extract_stats(spectral_contrasts[:, :spectral_contrasts.shape[1] // 2, :])  # Left channel\n",
    "contrast_stats_right = extract_stats(spectral_contrasts[:, spectral_contrasts.shape[1] // 2:, :])  # Right channel\n",
    "\n",
    "print(f\"Centroid stats shape: {centroid_stats.shape}\")\n",
    "print(f\"Rolloff stats shape: {rolloff_stats.shape}\")\n",
    "print(f\"Contrast stats shape (left): {contrast_stats_left.shape}\")\n",
    "print(f\"Contrast stats shape (right): {contrast_stats_right.shape}\")\n",
    "print(f\"Low frequency energies shape: {low_freq_energies.shape}\")\n",
    "print(f\"ILD features shape: {ild_features.shape}\")\n",
    "print(f\"IPD features shape: {ipd_features.shape}\")\n",
    "\n",
    "audio_features = np.concatenate([\n",
    "    centroid_stats,                     # (17506, 4)\n",
    "    rolloff_stats,                      # (17506, 4) \n",
    "    contrast_stats_left,                # (17506, 4)\n",
    "    contrast_stats_right,               # (17506, 4)\n",
    "    low_freq_energies.reshape(-1, 1)   # (17506, 1)\n",
    "], axis=1)  # Risultato: (17506, 17)\n",
    "\n",
    "direction_features = np.concatenate([\n",
    "    ild_features,                       # (17506, 4)\n",
    "    ipd_features                        # (17506, 4) \n",
    "], axis=1)  # Risultato: (17506, 8)\n",
    "\n",
    "# \"Cleaning\"\n",
    "audio_features = np.nan_to_num(audio_features, nan=0.0, posinf=0.0, neginf=0.0)\n",
    "direction_features = np.nan_to_num(direction_features, nan=0.0, posinf=0.0, neginf=0.0)\n",
    "\n",
    "# Normalize\n",
    "scaler = StandardScaler()\n",
    "audio_features_scaled = scaler.fit_transform(audio_features)\n",
    "direction_features_scaled = scaler.fit_transform(direction_features)\n",
    "\n",
    "print()\n",
    "print(audio_features_scaled.shape)\n",
    "print(direction_features_scaled.shape)"
   ]
  },
  {
   "cell_type": "code",
   "execution_count": 6,
   "id": "1ed60c75",
   "metadata": {},
   "outputs": [
    {
     "name": "stdout",
     "output_type": "stream",
     "text": [
      "Dimensione spettrogrammi prima del reshape: (17506, 2, 128, 188)\n",
      "Dimensione spettrogrammi dopo il reshape: (17506, 128, 188, 2)\n",
      "\n",
      "Train set: 12254 campioni\n",
      "Validation set: 2626 campioni\n",
      "Test set: 2626 campioni\n",
      "Dimensione input spettrogrammi: (128, 188, 2)\n",
      "Dimensione input feature audio: (17,)\n",
      "Dimensione input feature direzione: (8,)\n"
     ]
    }
   ],
   "source": [
    "# ------------------------------------------------------------------------------\n",
    "# DATASET SPLIT\n",
    "# ------------------------------------------------------------------------------\n",
    "\n",
    "print(f\"Dimensione spettrogrammi prima del reshape: {spectrograms.shape}\")\n",
    "# spectrograms_reshaped = spectrograms.reshape(spectrograms.shape[0], spectrograms.shape[1], spectrograms.shape[2], 1)\n",
    "spectrograms_reshaped = spectrograms.transpose(0, 2, 3, 1)  # (17506, 128, 188, 2)\n",
    "print(f\"Dimensione spettrogrammi dopo il reshape: {spectrograms_reshaped.shape}\")\n",
    "\n",
    "# 1. Primo split: Train (70%) e Temporary (30%)\n",
    "X_train, X_temp, audio_features_train, audio_features_temp, direction_features_train, direction_features_temp, y_train_vehicle, y_temp_vehicle, y_train_direction, y_temp_direction = train_test_split(\n",
    "    spectrograms_reshaped,\n",
    "    audio_features_scaled,\n",
    "    direction_features_scaled,\n",
    "    labels_cat_vehicles,\n",
    "    labels_cat_direction,\n",
    "    test_size=0.30,         # 70% train, 30% temporary\n",
    "    random_state=42,\n",
    "    shuffle=True\n",
    ")\n",
    "\n",
    "# 2. Secondo split: Temporary in Validation (15%) e Test (15%)\n",
    "X_val, X_test, audio_features_val, audio_features_test, direction_features_val, direction_features_test, y_val_vehicle, y_test_vehicle, y_val_direction, y_test_direction = train_test_split(\n",
    "    X_temp,\n",
    "    audio_features_temp,\n",
    "    direction_features_temp,\n",
    "    y_temp_vehicle,\n",
    "    y_temp_direction,\n",
    "    test_size=0.50,        # 15% validation, 15% test (metà del 30% temporary)\n",
    "    random_state=42,\n",
    "    shuffle=True\n",
    ")\n",
    "\n",
    "print()\n",
    "print(f\"Train set: {len(X_train)} campioni\")\n",
    "print(f\"Validation set: {len(X_val)} campioni\")\n",
    "print(f\"Test set: {len(X_test)} campioni\")\n",
    "\n",
    "# Verifica dimensioni input per il modello\n",
    "print(f\"Dimensione input spettrogrammi: {X_train.shape[1:]}\")\n",
    "print(f\"Dimensione input feature audio: {audio_features_train.shape[1:]}\")\n",
    "print(f\"Dimensione input feature direzione: {direction_features_train.shape[1:]}\")"
   ]
  },
  {
   "cell_type": "code",
   "execution_count": 7,
   "id": "2a72ffc5",
   "metadata": {},
   "outputs": [
    {
     "data": {
      "text/html": [
       "<pre style=\"white-space:pre;overflow-x:auto;line-height:normal;font-family:Menlo,'DejaVu Sans Mono',consolas,'Courier New',monospace\"><span style=\"font-weight: bold\">Model: \"functional\"</span>\n",
       "</pre>\n"
      ],
      "text/plain": [
       "\u001b[1mModel: \"functional\"\u001b[0m\n"
      ]
     },
     "metadata": {},
     "output_type": "display_data"
    },
    {
     "data": {
      "text/html": [
       "<pre style=\"white-space:pre;overflow-x:auto;line-height:normal;font-family:Menlo,'DejaVu Sans Mono',consolas,'Courier New',monospace\">┏━━━━━━━━━━━━━━━━━━━━━┳━━━━━━━━━━━━━━━━━━━┳━━━━━━━━━━━━┳━━━━━━━━━━━━━━━━━━━┓\n",
       "┃<span style=\"font-weight: bold\"> Layer (type)        </span>┃<span style=\"font-weight: bold\"> Output Shape      </span>┃<span style=\"font-weight: bold\">    Param # </span>┃<span style=\"font-weight: bold\"> Connected to      </span>┃\n",
       "┡━━━━━━━━━━━━━━━━━━━━━╇━━━━━━━━━━━━━━━━━━━╇━━━━━━━━━━━━╇━━━━━━━━━━━━━━━━━━━┩\n",
       "│ spectrogram_input   │ (<span style=\"color: #00d7ff; text-decoration-color: #00d7ff\">None</span>, <span style=\"color: #00af00; text-decoration-color: #00af00\">128</span>, <span style=\"color: #00af00; text-decoration-color: #00af00\">188</span>,  │          <span style=\"color: #00af00; text-decoration-color: #00af00\">0</span> │ -                 │\n",
       "│ (<span style=\"color: #0087ff; text-decoration-color: #0087ff\">InputLayer</span>)        │ <span style=\"color: #00af00; text-decoration-color: #00af00\">2</span>)                │            │                   │\n",
       "├─────────────────────┼───────────────────┼────────────┼───────────────────┤\n",
       "│ conv2d (<span style=\"color: #0087ff; text-decoration-color: #0087ff\">Conv2D</span>)     │ (<span style=\"color: #00d7ff; text-decoration-color: #00d7ff\">None</span>, <span style=\"color: #00af00; text-decoration-color: #00af00\">126</span>, <span style=\"color: #00af00; text-decoration-color: #00af00\">186</span>,  │      <span style=\"color: #00af00; text-decoration-color: #00af00\">1,216</span> │ spectrogram_inpu… │\n",
       "│                     │ <span style=\"color: #00af00; text-decoration-color: #00af00\">64</span>)               │            │                   │\n",
       "├─────────────────────┼───────────────────┼────────────┼───────────────────┤\n",
       "│ max_pooling2d       │ (<span style=\"color: #00d7ff; text-decoration-color: #00d7ff\">None</span>, <span style=\"color: #00af00; text-decoration-color: #00af00\">63</span>, <span style=\"color: #00af00; text-decoration-color: #00af00\">93</span>,    │          <span style=\"color: #00af00; text-decoration-color: #00af00\">0</span> │ conv2d[<span style=\"color: #00af00; text-decoration-color: #00af00\">0</span>][<span style=\"color: #00af00; text-decoration-color: #00af00\">0</span>]      │\n",
       "│ (<span style=\"color: #0087ff; text-decoration-color: #0087ff\">MaxPooling2D</span>)      │ <span style=\"color: #00af00; text-decoration-color: #00af00\">64</span>)               │            │                   │\n",
       "├─────────────────────┼───────────────────┼────────────┼───────────────────┤\n",
       "│ dropout (<span style=\"color: #0087ff; text-decoration-color: #0087ff\">Dropout</span>)   │ (<span style=\"color: #00d7ff; text-decoration-color: #00d7ff\">None</span>, <span style=\"color: #00af00; text-decoration-color: #00af00\">63</span>, <span style=\"color: #00af00; text-decoration-color: #00af00\">93</span>,    │          <span style=\"color: #00af00; text-decoration-color: #00af00\">0</span> │ max_pooling2d[<span style=\"color: #00af00; text-decoration-color: #00af00\">0</span>]… │\n",
       "│                     │ <span style=\"color: #00af00; text-decoration-color: #00af00\">64</span>)               │            │                   │\n",
       "├─────────────────────┼───────────────────┼────────────┼───────────────────┤\n",
       "│ conv2d_1 (<span style=\"color: #0087ff; text-decoration-color: #0087ff\">Conv2D</span>)   │ (<span style=\"color: #00d7ff; text-decoration-color: #00d7ff\">None</span>, <span style=\"color: #00af00; text-decoration-color: #00af00\">61</span>, <span style=\"color: #00af00; text-decoration-color: #00af00\">91</span>,    │     <span style=\"color: #00af00; text-decoration-color: #00af00\">36,928</span> │ dropout[<span style=\"color: #00af00; text-decoration-color: #00af00\">0</span>][<span style=\"color: #00af00; text-decoration-color: #00af00\">0</span>]     │\n",
       "│                     │ <span style=\"color: #00af00; text-decoration-color: #00af00\">64</span>)               │            │                   │\n",
       "├─────────────────────┼───────────────────┼────────────┼───────────────────┤\n",
       "│ max_pooling2d_1     │ (<span style=\"color: #00d7ff; text-decoration-color: #00d7ff\">None</span>, <span style=\"color: #00af00; text-decoration-color: #00af00\">30</span>, <span style=\"color: #00af00; text-decoration-color: #00af00\">45</span>,    │          <span style=\"color: #00af00; text-decoration-color: #00af00\">0</span> │ conv2d_1[<span style=\"color: #00af00; text-decoration-color: #00af00\">0</span>][<span style=\"color: #00af00; text-decoration-color: #00af00\">0</span>]    │\n",
       "│ (<span style=\"color: #0087ff; text-decoration-color: #0087ff\">MaxPooling2D</span>)      │ <span style=\"color: #00af00; text-decoration-color: #00af00\">64</span>)               │            │                   │\n",
       "├─────────────────────┼───────────────────┼────────────┼───────────────────┤\n",
       "│ dropout_1 (<span style=\"color: #0087ff; text-decoration-color: #0087ff\">Dropout</span>) │ (<span style=\"color: #00d7ff; text-decoration-color: #00d7ff\">None</span>, <span style=\"color: #00af00; text-decoration-color: #00af00\">30</span>, <span style=\"color: #00af00; text-decoration-color: #00af00\">45</span>,    │          <span style=\"color: #00af00; text-decoration-color: #00af00\">0</span> │ max_pooling2d_1[<span style=\"color: #00af00; text-decoration-color: #00af00\">…</span> │\n",
       "│                     │ <span style=\"color: #00af00; text-decoration-color: #00af00\">64</span>)               │            │                   │\n",
       "├─────────────────────┼───────────────────┼────────────┼───────────────────┤\n",
       "│ conv2d_2 (<span style=\"color: #0087ff; text-decoration-color: #0087ff\">Conv2D</span>)   │ (<span style=\"color: #00d7ff; text-decoration-color: #00d7ff\">None</span>, <span style=\"color: #00af00; text-decoration-color: #00af00\">28</span>, <span style=\"color: #00af00; text-decoration-color: #00af00\">43</span>,    │     <span style=\"color: #00af00; text-decoration-color: #00af00\">18,464</span> │ dropout_1[<span style=\"color: #00af00; text-decoration-color: #00af00\">0</span>][<span style=\"color: #00af00; text-decoration-color: #00af00\">0</span>]   │\n",
       "│                     │ <span style=\"color: #00af00; text-decoration-color: #00af00\">32</span>)               │            │                   │\n",
       "├─────────────────────┼───────────────────┼────────────┼───────────────────┤\n",
       "│ audio_features_inp… │ (<span style=\"color: #00d7ff; text-decoration-color: #00d7ff\">None</span>, <span style=\"color: #00af00; text-decoration-color: #00af00\">17</span>)        │          <span style=\"color: #00af00; text-decoration-color: #00af00\">0</span> │ -                 │\n",
       "│ (<span style=\"color: #0087ff; text-decoration-color: #0087ff\">InputLayer</span>)        │                   │            │                   │\n",
       "├─────────────────────┼───────────────────┼────────────┼───────────────────┤\n",
       "│ max_pooling2d_2     │ (<span style=\"color: #00d7ff; text-decoration-color: #00d7ff\">None</span>, <span style=\"color: #00af00; text-decoration-color: #00af00\">14</span>, <span style=\"color: #00af00; text-decoration-color: #00af00\">21</span>,    │          <span style=\"color: #00af00; text-decoration-color: #00af00\">0</span> │ conv2d_2[<span style=\"color: #00af00; text-decoration-color: #00af00\">0</span>][<span style=\"color: #00af00; text-decoration-color: #00af00\">0</span>]    │\n",
       "│ (<span style=\"color: #0087ff; text-decoration-color: #0087ff\">MaxPooling2D</span>)      │ <span style=\"color: #00af00; text-decoration-color: #00af00\">32</span>)               │            │                   │\n",
       "├─────────────────────┼───────────────────┼────────────┼───────────────────┤\n",
       "│ dense (<span style=\"color: #0087ff; text-decoration-color: #0087ff\">Dense</span>)       │ (<span style=\"color: #00d7ff; text-decoration-color: #00d7ff\">None</span>, <span style=\"color: #00af00; text-decoration-color: #00af00\">64</span>)        │      <span style=\"color: #00af00; text-decoration-color: #00af00\">1,152</span> │ audio_features_i… │\n",
       "├─────────────────────┼───────────────────┼────────────┼───────────────────┤\n",
       "│ dropout_2 (<span style=\"color: #0087ff; text-decoration-color: #0087ff\">Dropout</span>) │ (<span style=\"color: #00d7ff; text-decoration-color: #00d7ff\">None</span>, <span style=\"color: #00af00; text-decoration-color: #00af00\">14</span>, <span style=\"color: #00af00; text-decoration-color: #00af00\">21</span>,    │          <span style=\"color: #00af00; text-decoration-color: #00af00\">0</span> │ max_pooling2d_2[<span style=\"color: #00af00; text-decoration-color: #00af00\">…</span> │\n",
       "│                     │ <span style=\"color: #00af00; text-decoration-color: #00af00\">32</span>)               │            │                   │\n",
       "├─────────────────────┼───────────────────┼────────────┼───────────────────┤\n",
       "│ dropout_4 (<span style=\"color: #0087ff; text-decoration-color: #0087ff\">Dropout</span>) │ (<span style=\"color: #00d7ff; text-decoration-color: #00d7ff\">None</span>, <span style=\"color: #00af00; text-decoration-color: #00af00\">64</span>)        │          <span style=\"color: #00af00; text-decoration-color: #00af00\">0</span> │ dense[<span style=\"color: #00af00; text-decoration-color: #00af00\">0</span>][<span style=\"color: #00af00; text-decoration-color: #00af00\">0</span>]       │\n",
       "├─────────────────────┼───────────────────┼────────────┼───────────────────┤\n",
       "│ conv2d_3 (<span style=\"color: #0087ff; text-decoration-color: #0087ff\">Conv2D</span>)   │ (<span style=\"color: #00d7ff; text-decoration-color: #00d7ff\">None</span>, <span style=\"color: #00af00; text-decoration-color: #00af00\">12</span>, <span style=\"color: #00af00; text-decoration-color: #00af00\">19</span>,    │      <span style=\"color: #00af00; text-decoration-color: #00af00\">4,624</span> │ dropout_2[<span style=\"color: #00af00; text-decoration-color: #00af00\">0</span>][<span style=\"color: #00af00; text-decoration-color: #00af00\">0</span>]   │\n",
       "│                     │ <span style=\"color: #00af00; text-decoration-color: #00af00\">16</span>)               │            │                   │\n",
       "├─────────────────────┼───────────────────┼────────────┼───────────────────┤\n",
       "│ dense_1 (<span style=\"color: #0087ff; text-decoration-color: #0087ff\">Dense</span>)     │ (<span style=\"color: #00d7ff; text-decoration-color: #00d7ff\">None</span>, <span style=\"color: #00af00; text-decoration-color: #00af00\">64</span>)        │      <span style=\"color: #00af00; text-decoration-color: #00af00\">4,160</span> │ dropout_4[<span style=\"color: #00af00; text-decoration-color: #00af00\">0</span>][<span style=\"color: #00af00; text-decoration-color: #00af00\">0</span>]   │\n",
       "├─────────────────────┼───────────────────┼────────────┼───────────────────┤\n",
       "│ max_pooling2d_3     │ (<span style=\"color: #00d7ff; text-decoration-color: #00d7ff\">None</span>, <span style=\"color: #00af00; text-decoration-color: #00af00\">6</span>, <span style=\"color: #00af00; text-decoration-color: #00af00\">9</span>, <span style=\"color: #00af00; text-decoration-color: #00af00\">16</span>)  │          <span style=\"color: #00af00; text-decoration-color: #00af00\">0</span> │ conv2d_3[<span style=\"color: #00af00; text-decoration-color: #00af00\">0</span>][<span style=\"color: #00af00; text-decoration-color: #00af00\">0</span>]    │\n",
       "│ (<span style=\"color: #0087ff; text-decoration-color: #0087ff\">MaxPooling2D</span>)      │                   │            │                   │\n",
       "├─────────────────────┼───────────────────┼────────────┼───────────────────┤\n",
       "│ dropout_5 (<span style=\"color: #0087ff; text-decoration-color: #0087ff\">Dropout</span>) │ (<span style=\"color: #00d7ff; text-decoration-color: #00d7ff\">None</span>, <span style=\"color: #00af00; text-decoration-color: #00af00\">64</span>)        │          <span style=\"color: #00af00; text-decoration-color: #00af00\">0</span> │ dense_1[<span style=\"color: #00af00; text-decoration-color: #00af00\">0</span>][<span style=\"color: #00af00; text-decoration-color: #00af00\">0</span>]     │\n",
       "├─────────────────────┼───────────────────┼────────────┼───────────────────┤\n",
       "│ dropout_3 (<span style=\"color: #0087ff; text-decoration-color: #0087ff\">Dropout</span>) │ (<span style=\"color: #00d7ff; text-decoration-color: #00d7ff\">None</span>, <span style=\"color: #00af00; text-decoration-color: #00af00\">6</span>, <span style=\"color: #00af00; text-decoration-color: #00af00\">9</span>, <span style=\"color: #00af00; text-decoration-color: #00af00\">16</span>)  │          <span style=\"color: #00af00; text-decoration-color: #00af00\">0</span> │ max_pooling2d_3[<span style=\"color: #00af00; text-decoration-color: #00af00\">…</span> │\n",
       "├─────────────────────┼───────────────────┼────────────┼───────────────────┤\n",
       "│ dense_2 (<span style=\"color: #0087ff; text-decoration-color: #0087ff\">Dense</span>)     │ (<span style=\"color: #00d7ff; text-decoration-color: #00d7ff\">None</span>, <span style=\"color: #00af00; text-decoration-color: #00af00\">32</span>)        │      <span style=\"color: #00af00; text-decoration-color: #00af00\">2,080</span> │ dropout_5[<span style=\"color: #00af00; text-decoration-color: #00af00\">0</span>][<span style=\"color: #00af00; text-decoration-color: #00af00\">0</span>]   │\n",
       "├─────────────────────┼───────────────────┼────────────┼───────────────────┤\n",
       "│ flatten (<span style=\"color: #0087ff; text-decoration-color: #0087ff\">Flatten</span>)   │ (<span style=\"color: #00d7ff; text-decoration-color: #00d7ff\">None</span>, <span style=\"color: #00af00; text-decoration-color: #00af00\">864</span>)       │          <span style=\"color: #00af00; text-decoration-color: #00af00\">0</span> │ dropout_3[<span style=\"color: #00af00; text-decoration-color: #00af00\">0</span>][<span style=\"color: #00af00; text-decoration-color: #00af00\">0</span>]   │\n",
       "├─────────────────────┼───────────────────┼────────────┼───────────────────┤\n",
       "│ dropout_6 (<span style=\"color: #0087ff; text-decoration-color: #0087ff\">Dropout</span>) │ (<span style=\"color: #00d7ff; text-decoration-color: #00d7ff\">None</span>, <span style=\"color: #00af00; text-decoration-color: #00af00\">32</span>)        │          <span style=\"color: #00af00; text-decoration-color: #00af00\">0</span> │ dense_2[<span style=\"color: #00af00; text-decoration-color: #00af00\">0</span>][<span style=\"color: #00af00; text-decoration-color: #00af00\">0</span>]     │\n",
       "├─────────────────────┼───────────────────┼────────────┼───────────────────┤\n",
       "│ concatenate         │ (<span style=\"color: #00d7ff; text-decoration-color: #00d7ff\">None</span>, <span style=\"color: #00af00; text-decoration-color: #00af00\">896</span>)       │          <span style=\"color: #00af00; text-decoration-color: #00af00\">0</span> │ flatten[<span style=\"color: #00af00; text-decoration-color: #00af00\">0</span>][<span style=\"color: #00af00; text-decoration-color: #00af00\">0</span>],    │\n",
       "│ (<span style=\"color: #0087ff; text-decoration-color: #0087ff\">Concatenate</span>)       │                   │            │ dropout_6[<span style=\"color: #00af00; text-decoration-color: #00af00\">0</span>][<span style=\"color: #00af00; text-decoration-color: #00af00\">0</span>]   │\n",
       "├─────────────────────┼───────────────────┼────────────┼───────────────────┤\n",
       "│ dense_3 (<span style=\"color: #0087ff; text-decoration-color: #0087ff\">Dense</span>)     │ (<span style=\"color: #00d7ff; text-decoration-color: #00d7ff\">None</span>, <span style=\"color: #00af00; text-decoration-color: #00af00\">1024</span>)      │    <span style=\"color: #00af00; text-decoration-color: #00af00\">918,528</span> │ concatenate[<span style=\"color: #00af00; text-decoration-color: #00af00\">0</span>][<span style=\"color: #00af00; text-decoration-color: #00af00\">0</span>] │\n",
       "├─────────────────────┼───────────────────┼────────────┼───────────────────┤\n",
       "│ dense_4 (<span style=\"color: #0087ff; text-decoration-color: #0087ff\">Dense</span>)     │ (<span style=\"color: #00d7ff; text-decoration-color: #00d7ff\">None</span>, <span style=\"color: #00af00; text-decoration-color: #00af00\">512</span>)       │    <span style=\"color: #00af00; text-decoration-color: #00af00\">524,800</span> │ dense_3[<span style=\"color: #00af00; text-decoration-color: #00af00\">0</span>][<span style=\"color: #00af00; text-decoration-color: #00af00\">0</span>]     │\n",
       "├─────────────────────┼───────────────────┼────────────┼───────────────────┤\n",
       "│ dense_5 (<span style=\"color: #0087ff; text-decoration-color: #0087ff\">Dense</span>)     │ (<span style=\"color: #00d7ff; text-decoration-color: #00d7ff\">None</span>, <span style=\"color: #00af00; text-decoration-color: #00af00\">128</span>)       │     <span style=\"color: #00af00; text-decoration-color: #00af00\">65,664</span> │ dense_4[<span style=\"color: #00af00; text-decoration-color: #00af00\">0</span>][<span style=\"color: #00af00; text-decoration-color: #00af00\">0</span>]     │\n",
       "├─────────────────────┼───────────────────┼────────────┼───────────────────┤\n",
       "│ dense_6 (<span style=\"color: #0087ff; text-decoration-color: #0087ff\">Dense</span>)     │ (<span style=\"color: #00d7ff; text-decoration-color: #00d7ff\">None</span>, <span style=\"color: #00af00; text-decoration-color: #00af00\">5</span>)         │        <span style=\"color: #00af00; text-decoration-color: #00af00\">645</span> │ dense_5[<span style=\"color: #00af00; text-decoration-color: #00af00\">0</span>][<span style=\"color: #00af00; text-decoration-color: #00af00\">0</span>]     │\n",
       "└─────────────────────┴───────────────────┴────────────┴───────────────────┘\n",
       "</pre>\n"
      ],
      "text/plain": [
       "┏━━━━━━━━━━━━━━━━━━━━━┳━━━━━━━━━━━━━━━━━━━┳━━━━━━━━━━━━┳━━━━━━━━━━━━━━━━━━━┓\n",
       "┃\u001b[1m \u001b[0m\u001b[1mLayer (type)       \u001b[0m\u001b[1m \u001b[0m┃\u001b[1m \u001b[0m\u001b[1mOutput Shape     \u001b[0m\u001b[1m \u001b[0m┃\u001b[1m \u001b[0m\u001b[1m   Param #\u001b[0m\u001b[1m \u001b[0m┃\u001b[1m \u001b[0m\u001b[1mConnected to     \u001b[0m\u001b[1m \u001b[0m┃\n",
       "┡━━━━━━━━━━━━━━━━━━━━━╇━━━━━━━━━━━━━━━━━━━╇━━━━━━━━━━━━╇━━━━━━━━━━━━━━━━━━━┩\n",
       "│ spectrogram_input   │ (\u001b[38;5;45mNone\u001b[0m, \u001b[38;5;34m128\u001b[0m, \u001b[38;5;34m188\u001b[0m,  │          \u001b[38;5;34m0\u001b[0m │ -                 │\n",
       "│ (\u001b[38;5;33mInputLayer\u001b[0m)        │ \u001b[38;5;34m2\u001b[0m)                │            │                   │\n",
       "├─────────────────────┼───────────────────┼────────────┼───────────────────┤\n",
       "│ conv2d (\u001b[38;5;33mConv2D\u001b[0m)     │ (\u001b[38;5;45mNone\u001b[0m, \u001b[38;5;34m126\u001b[0m, \u001b[38;5;34m186\u001b[0m,  │      \u001b[38;5;34m1,216\u001b[0m │ spectrogram_inpu… │\n",
       "│                     │ \u001b[38;5;34m64\u001b[0m)               │            │                   │\n",
       "├─────────────────────┼───────────────────┼────────────┼───────────────────┤\n",
       "│ max_pooling2d       │ (\u001b[38;5;45mNone\u001b[0m, \u001b[38;5;34m63\u001b[0m, \u001b[38;5;34m93\u001b[0m,    │          \u001b[38;5;34m0\u001b[0m │ conv2d[\u001b[38;5;34m0\u001b[0m][\u001b[38;5;34m0\u001b[0m]      │\n",
       "│ (\u001b[38;5;33mMaxPooling2D\u001b[0m)      │ \u001b[38;5;34m64\u001b[0m)               │            │                   │\n",
       "├─────────────────────┼───────────────────┼────────────┼───────────────────┤\n",
       "│ dropout (\u001b[38;5;33mDropout\u001b[0m)   │ (\u001b[38;5;45mNone\u001b[0m, \u001b[38;5;34m63\u001b[0m, \u001b[38;5;34m93\u001b[0m,    │          \u001b[38;5;34m0\u001b[0m │ max_pooling2d[\u001b[38;5;34m0\u001b[0m]… │\n",
       "│                     │ \u001b[38;5;34m64\u001b[0m)               │            │                   │\n",
       "├─────────────────────┼───────────────────┼────────────┼───────────────────┤\n",
       "│ conv2d_1 (\u001b[38;5;33mConv2D\u001b[0m)   │ (\u001b[38;5;45mNone\u001b[0m, \u001b[38;5;34m61\u001b[0m, \u001b[38;5;34m91\u001b[0m,    │     \u001b[38;5;34m36,928\u001b[0m │ dropout[\u001b[38;5;34m0\u001b[0m][\u001b[38;5;34m0\u001b[0m]     │\n",
       "│                     │ \u001b[38;5;34m64\u001b[0m)               │            │                   │\n",
       "├─────────────────────┼───────────────────┼────────────┼───────────────────┤\n",
       "│ max_pooling2d_1     │ (\u001b[38;5;45mNone\u001b[0m, \u001b[38;5;34m30\u001b[0m, \u001b[38;5;34m45\u001b[0m,    │          \u001b[38;5;34m0\u001b[0m │ conv2d_1[\u001b[38;5;34m0\u001b[0m][\u001b[38;5;34m0\u001b[0m]    │\n",
       "│ (\u001b[38;5;33mMaxPooling2D\u001b[0m)      │ \u001b[38;5;34m64\u001b[0m)               │            │                   │\n",
       "├─────────────────────┼───────────────────┼────────────┼───────────────────┤\n",
       "│ dropout_1 (\u001b[38;5;33mDropout\u001b[0m) │ (\u001b[38;5;45mNone\u001b[0m, \u001b[38;5;34m30\u001b[0m, \u001b[38;5;34m45\u001b[0m,    │          \u001b[38;5;34m0\u001b[0m │ max_pooling2d_1[\u001b[38;5;34m…\u001b[0m │\n",
       "│                     │ \u001b[38;5;34m64\u001b[0m)               │            │                   │\n",
       "├─────────────────────┼───────────────────┼────────────┼───────────────────┤\n",
       "│ conv2d_2 (\u001b[38;5;33mConv2D\u001b[0m)   │ (\u001b[38;5;45mNone\u001b[0m, \u001b[38;5;34m28\u001b[0m, \u001b[38;5;34m43\u001b[0m,    │     \u001b[38;5;34m18,464\u001b[0m │ dropout_1[\u001b[38;5;34m0\u001b[0m][\u001b[38;5;34m0\u001b[0m]   │\n",
       "│                     │ \u001b[38;5;34m32\u001b[0m)               │            │                   │\n",
       "├─────────────────────┼───────────────────┼────────────┼───────────────────┤\n",
       "│ audio_features_inp… │ (\u001b[38;5;45mNone\u001b[0m, \u001b[38;5;34m17\u001b[0m)        │          \u001b[38;5;34m0\u001b[0m │ -                 │\n",
       "│ (\u001b[38;5;33mInputLayer\u001b[0m)        │                   │            │                   │\n",
       "├─────────────────────┼───────────────────┼────────────┼───────────────────┤\n",
       "│ max_pooling2d_2     │ (\u001b[38;5;45mNone\u001b[0m, \u001b[38;5;34m14\u001b[0m, \u001b[38;5;34m21\u001b[0m,    │          \u001b[38;5;34m0\u001b[0m │ conv2d_2[\u001b[38;5;34m0\u001b[0m][\u001b[38;5;34m0\u001b[0m]    │\n",
       "│ (\u001b[38;5;33mMaxPooling2D\u001b[0m)      │ \u001b[38;5;34m32\u001b[0m)               │            │                   │\n",
       "├─────────────────────┼───────────────────┼────────────┼───────────────────┤\n",
       "│ dense (\u001b[38;5;33mDense\u001b[0m)       │ (\u001b[38;5;45mNone\u001b[0m, \u001b[38;5;34m64\u001b[0m)        │      \u001b[38;5;34m1,152\u001b[0m │ audio_features_i… │\n",
       "├─────────────────────┼───────────────────┼────────────┼───────────────────┤\n",
       "│ dropout_2 (\u001b[38;5;33mDropout\u001b[0m) │ (\u001b[38;5;45mNone\u001b[0m, \u001b[38;5;34m14\u001b[0m, \u001b[38;5;34m21\u001b[0m,    │          \u001b[38;5;34m0\u001b[0m │ max_pooling2d_2[\u001b[38;5;34m…\u001b[0m │\n",
       "│                     │ \u001b[38;5;34m32\u001b[0m)               │            │                   │\n",
       "├─────────────────────┼───────────────────┼────────────┼───────────────────┤\n",
       "│ dropout_4 (\u001b[38;5;33mDropout\u001b[0m) │ (\u001b[38;5;45mNone\u001b[0m, \u001b[38;5;34m64\u001b[0m)        │          \u001b[38;5;34m0\u001b[0m │ dense[\u001b[38;5;34m0\u001b[0m][\u001b[38;5;34m0\u001b[0m]       │\n",
       "├─────────────────────┼───────────────────┼────────────┼───────────────────┤\n",
       "│ conv2d_3 (\u001b[38;5;33mConv2D\u001b[0m)   │ (\u001b[38;5;45mNone\u001b[0m, \u001b[38;5;34m12\u001b[0m, \u001b[38;5;34m19\u001b[0m,    │      \u001b[38;5;34m4,624\u001b[0m │ dropout_2[\u001b[38;5;34m0\u001b[0m][\u001b[38;5;34m0\u001b[0m]   │\n",
       "│                     │ \u001b[38;5;34m16\u001b[0m)               │            │                   │\n",
       "├─────────────────────┼───────────────────┼────────────┼───────────────────┤\n",
       "│ dense_1 (\u001b[38;5;33mDense\u001b[0m)     │ (\u001b[38;5;45mNone\u001b[0m, \u001b[38;5;34m64\u001b[0m)        │      \u001b[38;5;34m4,160\u001b[0m │ dropout_4[\u001b[38;5;34m0\u001b[0m][\u001b[38;5;34m0\u001b[0m]   │\n",
       "├─────────────────────┼───────────────────┼────────────┼───────────────────┤\n",
       "│ max_pooling2d_3     │ (\u001b[38;5;45mNone\u001b[0m, \u001b[38;5;34m6\u001b[0m, \u001b[38;5;34m9\u001b[0m, \u001b[38;5;34m16\u001b[0m)  │          \u001b[38;5;34m0\u001b[0m │ conv2d_3[\u001b[38;5;34m0\u001b[0m][\u001b[38;5;34m0\u001b[0m]    │\n",
       "│ (\u001b[38;5;33mMaxPooling2D\u001b[0m)      │                   │            │                   │\n",
       "├─────────────────────┼───────────────────┼────────────┼───────────────────┤\n",
       "│ dropout_5 (\u001b[38;5;33mDropout\u001b[0m) │ (\u001b[38;5;45mNone\u001b[0m, \u001b[38;5;34m64\u001b[0m)        │          \u001b[38;5;34m0\u001b[0m │ dense_1[\u001b[38;5;34m0\u001b[0m][\u001b[38;5;34m0\u001b[0m]     │\n",
       "├─────────────────────┼───────────────────┼────────────┼───────────────────┤\n",
       "│ dropout_3 (\u001b[38;5;33mDropout\u001b[0m) │ (\u001b[38;5;45mNone\u001b[0m, \u001b[38;5;34m6\u001b[0m, \u001b[38;5;34m9\u001b[0m, \u001b[38;5;34m16\u001b[0m)  │          \u001b[38;5;34m0\u001b[0m │ max_pooling2d_3[\u001b[38;5;34m…\u001b[0m │\n",
       "├─────────────────────┼───────────────────┼────────────┼───────────────────┤\n",
       "│ dense_2 (\u001b[38;5;33mDense\u001b[0m)     │ (\u001b[38;5;45mNone\u001b[0m, \u001b[38;5;34m32\u001b[0m)        │      \u001b[38;5;34m2,080\u001b[0m │ dropout_5[\u001b[38;5;34m0\u001b[0m][\u001b[38;5;34m0\u001b[0m]   │\n",
       "├─────────────────────┼───────────────────┼────────────┼───────────────────┤\n",
       "│ flatten (\u001b[38;5;33mFlatten\u001b[0m)   │ (\u001b[38;5;45mNone\u001b[0m, \u001b[38;5;34m864\u001b[0m)       │          \u001b[38;5;34m0\u001b[0m │ dropout_3[\u001b[38;5;34m0\u001b[0m][\u001b[38;5;34m0\u001b[0m]   │\n",
       "├─────────────────────┼───────────────────┼────────────┼───────────────────┤\n",
       "│ dropout_6 (\u001b[38;5;33mDropout\u001b[0m) │ (\u001b[38;5;45mNone\u001b[0m, \u001b[38;5;34m32\u001b[0m)        │          \u001b[38;5;34m0\u001b[0m │ dense_2[\u001b[38;5;34m0\u001b[0m][\u001b[38;5;34m0\u001b[0m]     │\n",
       "├─────────────────────┼───────────────────┼────────────┼───────────────────┤\n",
       "│ concatenate         │ (\u001b[38;5;45mNone\u001b[0m, \u001b[38;5;34m896\u001b[0m)       │          \u001b[38;5;34m0\u001b[0m │ flatten[\u001b[38;5;34m0\u001b[0m][\u001b[38;5;34m0\u001b[0m],    │\n",
       "│ (\u001b[38;5;33mConcatenate\u001b[0m)       │                   │            │ dropout_6[\u001b[38;5;34m0\u001b[0m][\u001b[38;5;34m0\u001b[0m]   │\n",
       "├─────────────────────┼───────────────────┼────────────┼───────────────────┤\n",
       "│ dense_3 (\u001b[38;5;33mDense\u001b[0m)     │ (\u001b[38;5;45mNone\u001b[0m, \u001b[38;5;34m1024\u001b[0m)      │    \u001b[38;5;34m918,528\u001b[0m │ concatenate[\u001b[38;5;34m0\u001b[0m][\u001b[38;5;34m0\u001b[0m] │\n",
       "├─────────────────────┼───────────────────┼────────────┼───────────────────┤\n",
       "│ dense_4 (\u001b[38;5;33mDense\u001b[0m)     │ (\u001b[38;5;45mNone\u001b[0m, \u001b[38;5;34m512\u001b[0m)       │    \u001b[38;5;34m524,800\u001b[0m │ dense_3[\u001b[38;5;34m0\u001b[0m][\u001b[38;5;34m0\u001b[0m]     │\n",
       "├─────────────────────┼───────────────────┼────────────┼───────────────────┤\n",
       "│ dense_5 (\u001b[38;5;33mDense\u001b[0m)     │ (\u001b[38;5;45mNone\u001b[0m, \u001b[38;5;34m128\u001b[0m)       │     \u001b[38;5;34m65,664\u001b[0m │ dense_4[\u001b[38;5;34m0\u001b[0m][\u001b[38;5;34m0\u001b[0m]     │\n",
       "├─────────────────────┼───────────────────┼────────────┼───────────────────┤\n",
       "│ dense_6 (\u001b[38;5;33mDense\u001b[0m)     │ (\u001b[38;5;45mNone\u001b[0m, \u001b[38;5;34m5\u001b[0m)         │        \u001b[38;5;34m645\u001b[0m │ dense_5[\u001b[38;5;34m0\u001b[0m][\u001b[38;5;34m0\u001b[0m]     │\n",
       "└─────────────────────┴───────────────────┴────────────┴───────────────────┘\n"
      ]
     },
     "metadata": {},
     "output_type": "display_data"
    },
    {
     "data": {
      "text/html": [
       "<pre style=\"white-space:pre;overflow-x:auto;line-height:normal;font-family:Menlo,'DejaVu Sans Mono',consolas,'Courier New',monospace\"><span style=\"font-weight: bold\"> Total params: </span><span style=\"color: #00af00; text-decoration-color: #00af00\">1,578,261</span> (6.02 MB)\n",
       "</pre>\n"
      ],
      "text/plain": [
       "\u001b[1m Total params: \u001b[0m\u001b[38;5;34m1,578,261\u001b[0m (6.02 MB)\n"
      ]
     },
     "metadata": {},
     "output_type": "display_data"
    },
    {
     "data": {
      "text/html": [
       "<pre style=\"white-space:pre;overflow-x:auto;line-height:normal;font-family:Menlo,'DejaVu Sans Mono',consolas,'Courier New',monospace\"><span style=\"font-weight: bold\"> Trainable params: </span><span style=\"color: #00af00; text-decoration-color: #00af00\">1,578,261</span> (6.02 MB)\n",
       "</pre>\n"
      ],
      "text/plain": [
       "\u001b[1m Trainable params: \u001b[0m\u001b[38;5;34m1,578,261\u001b[0m (6.02 MB)\n"
      ]
     },
     "metadata": {},
     "output_type": "display_data"
    },
    {
     "data": {
      "text/html": [
       "<pre style=\"white-space:pre;overflow-x:auto;line-height:normal;font-family:Menlo,'DejaVu Sans Mono',consolas,'Courier New',monospace\"><span style=\"font-weight: bold\"> Non-trainable params: </span><span style=\"color: #00af00; text-decoration-color: #00af00\">0</span> (0.00 B)\n",
       "</pre>\n"
      ],
      "text/plain": [
       "\u001b[1m Non-trainable params: \u001b[0m\u001b[38;5;34m0\u001b[0m (0.00 B)\n"
      ]
     },
     "metadata": {},
     "output_type": "display_data"
    }
   ],
   "source": [
    "\n",
    "# ------------------------------------------------------------------------------\n",
    "# MODELLO MONO-OUTPUT - # 13\n",
    "# ------------------------------------------------------------------------------\n",
    "\n",
    "'''\n",
    "PARTE VEICOLI\n",
    "\n",
    "Come modello 9 ma con data aug\n",
    "'''\n",
    "\n",
    "# Definizione del modello\n",
    "\n",
    "# 1. Ramo CNN per spettrogrammi\n",
    "input_spectrogram = tf.keras.Input(shape=spectrograms_reshaped.shape[1:], name='spectrogram_input')\n",
    "\n",
    "x1 = tf.keras.layers.Conv2D(64, (3, 3), activation='relu')(input_spectrogram)\n",
    "x1 = tf.keras.layers.MaxPooling2D((2, 2))(x1)\n",
    "x1 = tf.keras.layers.Dropout(0.3)(x1)\n",
    "\n",
    "x1 = tf.keras.layers.Conv2D(64, (3, 3), activation='relu')(x1)\n",
    "x1 = tf.keras.layers.MaxPooling2D((2, 2))(x1)\n",
    "x1 = tf.keras.layers.Dropout(0.3)(x1)\n",
    "\n",
    "x1 = tf.keras.layers.Conv2D(32, (3, 3), activation='relu')(x1)\n",
    "x1 = tf.keras.layers.MaxPooling2D((2, 2))(x1)\n",
    "x1 = tf.keras.layers.Dropout(0.3)(x1)\n",
    "\n",
    "x1 = tf.keras.layers.Conv2D(16, (3, 3), activation='relu')(x1)\n",
    "x1 = tf.keras.layers.MaxPooling2D((2, 2))(x1)\n",
    "x1 = tf.keras.layers.Dropout(0.3)(x1)\n",
    "\n",
    "x1 = tf.keras.layers.Flatten()(x1)\n",
    "\n",
    "\n",
    "# 2. Ramo per le feature audio\n",
    "input_features = tf.keras.Input(shape=(audio_features_scaled.shape[1],), name='audio_features_input')\n",
    "\n",
    "x2 = tf.keras.layers.Dense(64, activation='relu')(input_features)\n",
    "x2 = tf.keras.layers.Dropout(0.2)(x2)\n",
    "x2 = tf.keras.layers.Dense(64, activation='relu')(x2)\n",
    "x2 = tf.keras.layers.Dropout(0.2)(x2)\n",
    "x2 = tf.keras.layers.Dense(32, activation='relu')(x2)\n",
    "x2 = tf.keras.layers.Dropout(0.2)(x2)\n",
    "\n",
    "# Fusione dei due rami\n",
    "merged = tf.keras.layers.Concatenate()([x1, x2])\n",
    "\n",
    "# Dense layers finali\n",
    "x = tf.keras.layers.Dense(1024, activation='relu')(merged)\n",
    "x = tf.keras.layers.Dense(512, activation='relu')(x)\n",
    "x = tf.keras.layers.Dense(128, activation='relu')(x)\n",
    "\n",
    "output = tf.keras.layers.Dense(5, activation='softmax')(x)\n",
    "\n",
    "# Modello completo\n",
    "model_13 = tf.keras.Model(inputs=[input_spectrogram, input_features], outputs=output)\n",
    "\n",
    "model_13.summary()\n",
    "\n",
    "\n",
    "model_13.compile(optimizer='adam',\n",
    "                loss='categorical_crossentropy',\n",
    "                metrics=['accuracy'])\n",
    "\n",
    "# Callbacks\n",
    "reduce_lr = tf.keras.callbacks.ReduceLROnPlateau(\n",
    "    monitor='val_vehicle_output_loss',\n",
    "    factor=0.5,\n",
    "    patience=8,\n",
    "    min_lr=1e-6\n",
    ")\n",
    "early_stopping = tf.keras.callbacks.EarlyStopping(\n",
    "    monitor='val_loss',\n",
    "    patience=50,\n",
    "    restore_best_weights=True\n",
    ")\n",
    "model_checkpoint = tf.keras.callbacks.ModelCheckpoint(\n",
    "    filepath='best_model_13.h5',\n",
    "    monitor='val_loss',\n",
    "    save_best_only=True\n",
    ")"
   ]
  },
  {
   "cell_type": "code",
   "execution_count": 8,
   "id": "b8c401b9",
   "metadata": {},
   "outputs": [
    {
     "name": "stdout",
     "output_type": "stream",
     "text": [
      "Epoch 1/500\n",
      "\u001b[1m383/383\u001b[0m \u001b[32m━━━━━━━━━━━━━━━━━━━━\u001b[0m\u001b[37m\u001b[0m \u001b[1m0s\u001b[0m 141ms/step - accuracy: 0.7657 - loss: 0.6755"
     ]
    },
    {
     "name": "stderr",
     "output_type": "stream",
     "text": [
      "c:\\Users\\matte\\miniconda3\\envs\\env_STMAE\\lib\\site-packages\\keras\\src\\callbacks\\callback_list.py:145: UserWarning: Learning rate reduction is conditioned on metric `val_vehicle_output_loss` which is not available. Available metrics are: accuracy,loss,val_accuracy,val_loss,learning_rate.\n",
      "  callback.on_epoch_end(epoch, logs)\n",
      "WARNING:absl:You are saving your model as an HDF5 file via `model.save()` or `keras.saving.save_model(model)`. This file format is considered legacy. We recommend using instead the native Keras format, e.g. `model.save('my_model.keras')` or `keras.saving.save_model(model, 'my_model.keras')`. \n"
     ]
    },
    {
     "name": "stdout",
     "output_type": "stream",
     "text": [
      "\u001b[1m383/383\u001b[0m \u001b[32m━━━━━━━━━━━━━━━━━━━━\u001b[0m\u001b[37m\u001b[0m \u001b[1m67s\u001b[0m 156ms/step - accuracy: 0.7659 - loss: 0.6751 - val_accuracy: 0.8637 - val_loss: 0.5290 - learning_rate: 0.0010\n",
      "Epoch 2/500\n",
      "\u001b[1m383/383\u001b[0m \u001b[32m━━━━━━━━━━━━━━━━━━━━\u001b[0m\u001b[37m\u001b[0m \u001b[1m0s\u001b[0m 135ms/step - accuracy: 0.8850 - loss: 0.3830"
     ]
    },
    {
     "name": "stderr",
     "output_type": "stream",
     "text": [
      "WARNING:absl:You are saving your model as an HDF5 file via `model.save()` or `keras.saving.save_model(model)`. This file format is considered legacy. We recommend using instead the native Keras format, e.g. `model.save('my_model.keras')` or `keras.saving.save_model(model, 'my_model.keras')`. \n"
     ]
    },
    {
     "name": "stdout",
     "output_type": "stream",
     "text": [
      "\u001b[1m383/383\u001b[0m \u001b[32m━━━━━━━━━━━━━━━━━━━━\u001b[0m\u001b[37m\u001b[0m \u001b[1m55s\u001b[0m 145ms/step - accuracy: 0.8850 - loss: 0.3830 - val_accuracy: 0.8797 - val_loss: 0.4472 - learning_rate: 0.0010\n",
      "Epoch 3/500\n",
      "\u001b[1m383/383\u001b[0m \u001b[32m━━━━━━━━━━━━━━━━━━━━\u001b[0m\u001b[37m\u001b[0m \u001b[1m0s\u001b[0m 137ms/step - accuracy: 0.9038 - loss: 0.3112"
     ]
    },
    {
     "name": "stderr",
     "output_type": "stream",
     "text": [
      "WARNING:absl:You are saving your model as an HDF5 file via `model.save()` or `keras.saving.save_model(model)`. This file format is considered legacy. We recommend using instead the native Keras format, e.g. `model.save('my_model.keras')` or `keras.saving.save_model(model, 'my_model.keras')`. \n"
     ]
    },
    {
     "name": "stdout",
     "output_type": "stream",
     "text": [
      "\u001b[1m383/383\u001b[0m \u001b[32m━━━━━━━━━━━━━━━━━━━━\u001b[0m\u001b[37m\u001b[0m \u001b[1m56s\u001b[0m 146ms/step - accuracy: 0.9038 - loss: 0.3112 - val_accuracy: 0.9078 - val_loss: 0.2904 - learning_rate: 0.0010\n",
      "Epoch 4/500\n",
      "\u001b[1m383/383\u001b[0m \u001b[32m━━━━━━━━━━━━━━━━━━━━\u001b[0m\u001b[37m\u001b[0m \u001b[1m0s\u001b[0m 136ms/step - accuracy: 0.9054 - loss: 0.2980"
     ]
    },
    {
     "name": "stderr",
     "output_type": "stream",
     "text": [
      "WARNING:absl:You are saving your model as an HDF5 file via `model.save()` or `keras.saving.save_model(model)`. This file format is considered legacy. We recommend using instead the native Keras format, e.g. `model.save('my_model.keras')` or `keras.saving.save_model(model, 'my_model.keras')`. \n"
     ]
    },
    {
     "name": "stdout",
     "output_type": "stream",
     "text": [
      "\u001b[1m383/383\u001b[0m \u001b[32m━━━━━━━━━━━━━━━━━━━━\u001b[0m\u001b[37m\u001b[0m \u001b[1m56s\u001b[0m 145ms/step - accuracy: 0.9054 - loss: 0.2979 - val_accuracy: 0.9124 - val_loss: 0.2818 - learning_rate: 0.0010\n",
      "Epoch 5/500\n",
      "\u001b[1m383/383\u001b[0m \u001b[32m━━━━━━━━━━━━━━━━━━━━\u001b[0m\u001b[37m\u001b[0m \u001b[1m56s\u001b[0m 145ms/step - accuracy: 0.9061 - loss: 0.2956 - val_accuracy: 0.9067 - val_loss: 0.3161 - learning_rate: 0.0010\n",
      "Epoch 6/500\n",
      "\u001b[1m383/383\u001b[0m \u001b[32m━━━━━━━━━━━━━━━━━━━━\u001b[0m\u001b[37m\u001b[0m \u001b[1m0s\u001b[0m 137ms/step - accuracy: 0.9082 - loss: 0.2719"
     ]
    },
    {
     "name": "stderr",
     "output_type": "stream",
     "text": [
      "WARNING:absl:You are saving your model as an HDF5 file via `model.save()` or `keras.saving.save_model(model)`. This file format is considered legacy. We recommend using instead the native Keras format, e.g. `model.save('my_model.keras')` or `keras.saving.save_model(model, 'my_model.keras')`. \n"
     ]
    },
    {
     "name": "stdout",
     "output_type": "stream",
     "text": [
      "\u001b[1m383/383\u001b[0m \u001b[32m━━━━━━━━━━━━━━━━━━━━\u001b[0m\u001b[37m\u001b[0m \u001b[1m56s\u001b[0m 147ms/step - accuracy: 0.9082 - loss: 0.2719 - val_accuracy: 0.9196 - val_loss: 0.2788 - learning_rate: 0.0010\n",
      "Epoch 7/500\n",
      "\u001b[1m383/383\u001b[0m \u001b[32m━━━━━━━━━━━━━━━━━━━━\u001b[0m\u001b[37m\u001b[0m \u001b[1m57s\u001b[0m 147ms/step - accuracy: 0.9121 - loss: 0.2645 - val_accuracy: 0.9181 - val_loss: 0.3088 - learning_rate: 0.0010\n",
      "Epoch 8/500\n",
      "\u001b[1m383/383\u001b[0m \u001b[32m━━━━━━━━━━━━━━━━━━━━\u001b[0m\u001b[37m\u001b[0m \u001b[1m55s\u001b[0m 144ms/step - accuracy: 0.9129 - loss: 0.2590 - val_accuracy: 0.9056 - val_loss: 0.3515 - learning_rate: 0.0010\n",
      "Epoch 9/500\n",
      "\u001b[1m383/383\u001b[0m \u001b[32m━━━━━━━━━━━━━━━━━━━━\u001b[0m\u001b[37m\u001b[0m \u001b[1m0s\u001b[0m 135ms/step - accuracy: 0.9172 - loss: 0.2508"
     ]
    },
    {
     "name": "stderr",
     "output_type": "stream",
     "text": [
      "WARNING:absl:You are saving your model as an HDF5 file via `model.save()` or `keras.saving.save_model(model)`. This file format is considered legacy. We recommend using instead the native Keras format, e.g. `model.save('my_model.keras')` or `keras.saving.save_model(model, 'my_model.keras')`. \n"
     ]
    },
    {
     "name": "stdout",
     "output_type": "stream",
     "text": [
      "\u001b[1m383/383\u001b[0m \u001b[32m━━━━━━━━━━━━━━━━━━━━\u001b[0m\u001b[37m\u001b[0m \u001b[1m55s\u001b[0m 145ms/step - accuracy: 0.9172 - loss: 0.2508 - val_accuracy: 0.9265 - val_loss: 0.2536 - learning_rate: 0.0010\n",
      "Epoch 10/500\n",
      "\u001b[1m383/383\u001b[0m \u001b[32m━━━━━━━━━━━━━━━━━━━━\u001b[0m\u001b[37m\u001b[0m \u001b[1m0s\u001b[0m 136ms/step - accuracy: 0.9182 - loss: 0.2430"
     ]
    },
    {
     "name": "stderr",
     "output_type": "stream",
     "text": [
      "WARNING:absl:You are saving your model as an HDF5 file via `model.save()` or `keras.saving.save_model(model)`. This file format is considered legacy. We recommend using instead the native Keras format, e.g. `model.save('my_model.keras')` or `keras.saving.save_model(model, 'my_model.keras')`. \n"
     ]
    },
    {
     "name": "stdout",
     "output_type": "stream",
     "text": [
      "\u001b[1m383/383\u001b[0m \u001b[32m━━━━━━━━━━━━━━━━━━━━\u001b[0m\u001b[37m\u001b[0m \u001b[1m56s\u001b[0m 145ms/step - accuracy: 0.9182 - loss: 0.2430 - val_accuracy: 0.9299 - val_loss: 0.2280 - learning_rate: 0.0010\n",
      "Epoch 11/500\n",
      "\u001b[1m383/383\u001b[0m \u001b[32m━━━━━━━━━━━━━━━━━━━━\u001b[0m\u001b[37m\u001b[0m \u001b[1m55s\u001b[0m 144ms/step - accuracy: 0.9180 - loss: 0.2373 - val_accuracy: 0.9311 - val_loss: 0.2419 - learning_rate: 0.0010\n",
      "Epoch 12/500\n",
      "\u001b[1m383/383\u001b[0m \u001b[32m━━━━━━━━━━━━━━━━━━━━\u001b[0m\u001b[37m\u001b[0m \u001b[1m0s\u001b[0m 137ms/step - accuracy: 0.9240 - loss: 0.2263"
     ]
    },
    {
     "name": "stderr",
     "output_type": "stream",
     "text": [
      "WARNING:absl:You are saving your model as an HDF5 file via `model.save()` or `keras.saving.save_model(model)`. This file format is considered legacy. We recommend using instead the native Keras format, e.g. `model.save('my_model.keras')` or `keras.saving.save_model(model, 'my_model.keras')`. \n"
     ]
    },
    {
     "name": "stdout",
     "output_type": "stream",
     "text": [
      "\u001b[1m383/383\u001b[0m \u001b[32m━━━━━━━━━━━━━━━━━━━━\u001b[0m\u001b[37m\u001b[0m \u001b[1m56s\u001b[0m 146ms/step - accuracy: 0.9240 - loss: 0.2264 - val_accuracy: 0.9292 - val_loss: 0.2200 - learning_rate: 0.0010\n",
      "Epoch 13/500\n",
      "\u001b[1m383/383\u001b[0m \u001b[32m━━━━━━━━━━━━━━━━━━━━\u001b[0m\u001b[37m\u001b[0m \u001b[1m55s\u001b[0m 144ms/step - accuracy: 0.9230 - loss: 0.2243 - val_accuracy: 0.9284 - val_loss: 0.2302 - learning_rate: 0.0010\n",
      "Epoch 14/500\n",
      "\u001b[1m383/383\u001b[0m \u001b[32m━━━━━━━━━━━━━━━━━━━━\u001b[0m\u001b[37m\u001b[0m \u001b[1m0s\u001b[0m 135ms/step - accuracy: 0.9220 - loss: 0.2219"
     ]
    },
    {
     "name": "stderr",
     "output_type": "stream",
     "text": [
      "WARNING:absl:You are saving your model as an HDF5 file via `model.save()` or `keras.saving.save_model(model)`. This file format is considered legacy. We recommend using instead the native Keras format, e.g. `model.save('my_model.keras')` or `keras.saving.save_model(model, 'my_model.keras')`. \n"
     ]
    },
    {
     "name": "stdout",
     "output_type": "stream",
     "text": [
      "\u001b[1m383/383\u001b[0m \u001b[32m━━━━━━━━━━━━━━━━━━━━\u001b[0m\u001b[37m\u001b[0m \u001b[1m55s\u001b[0m 144ms/step - accuracy: 0.9220 - loss: 0.2219 - val_accuracy: 0.9353 - val_loss: 0.2150 - learning_rate: 0.0010\n",
      "Epoch 15/500\n",
      "\u001b[1m383/383\u001b[0m \u001b[32m━━━━━━━━━━━━━━━━━━━━\u001b[0m\u001b[37m\u001b[0m \u001b[1m55s\u001b[0m 144ms/step - accuracy: 0.9268 - loss: 0.2168 - val_accuracy: 0.9311 - val_loss: 0.2435 - learning_rate: 0.0010\n",
      "Epoch 16/500\n",
      "\u001b[1m383/383\u001b[0m \u001b[32m━━━━━━━━━━━━━━━━━━━━\u001b[0m\u001b[37m\u001b[0m \u001b[1m0s\u001b[0m 135ms/step - accuracy: 0.9221 - loss: 0.2209"
     ]
    },
    {
     "name": "stderr",
     "output_type": "stream",
     "text": [
      "WARNING:absl:You are saving your model as an HDF5 file via `model.save()` or `keras.saving.save_model(model)`. This file format is considered legacy. We recommend using instead the native Keras format, e.g. `model.save('my_model.keras')` or `keras.saving.save_model(model, 'my_model.keras')`. \n"
     ]
    },
    {
     "name": "stdout",
     "output_type": "stream",
     "text": [
      "\u001b[1m383/383\u001b[0m \u001b[32m━━━━━━━━━━━━━━━━━━━━\u001b[0m\u001b[37m\u001b[0m \u001b[1m56s\u001b[0m 145ms/step - accuracy: 0.9221 - loss: 0.2209 - val_accuracy: 0.9345 - val_loss: 0.1939 - learning_rate: 0.0010\n",
      "Epoch 17/500\n",
      "\u001b[1m383/383\u001b[0m \u001b[32m━━━━━━━━━━━━━━━━━━━━\u001b[0m\u001b[37m\u001b[0m \u001b[1m58s\u001b[0m 151ms/step - accuracy: 0.9255 - loss: 0.2221 - val_accuracy: 0.9296 - val_loss: 0.2075 - learning_rate: 0.0010\n",
      "Epoch 18/500\n",
      "\u001b[1m383/383\u001b[0m \u001b[32m━━━━━━━━━━━━━━━━━━━━\u001b[0m\u001b[37m\u001b[0m \u001b[1m56s\u001b[0m 146ms/step - accuracy: 0.9264 - loss: 0.2138 - val_accuracy: 0.9288 - val_loss: 0.2160 - learning_rate: 0.0010\n",
      "Epoch 19/500\n",
      "\u001b[1m383/383\u001b[0m \u001b[32m━━━━━━━━━━━━━━━━━━━━\u001b[0m\u001b[37m\u001b[0m \u001b[1m59s\u001b[0m 154ms/step - accuracy: 0.9301 - loss: 0.1992 - val_accuracy: 0.9337 - val_loss: 0.2289 - learning_rate: 0.0010\n",
      "Epoch 20/500\n",
      "\u001b[1m383/383\u001b[0m \u001b[32m━━━━━━━━━━━━━━━━━━━━\u001b[0m\u001b[37m\u001b[0m \u001b[1m58s\u001b[0m 151ms/step - accuracy: 0.9289 - loss: 0.2004 - val_accuracy: 0.9383 - val_loss: 0.2099 - learning_rate: 0.0010\n",
      "Epoch 21/500\n",
      "\u001b[1m383/383\u001b[0m \u001b[32m━━━━━━━━━━━━━━━━━━━━\u001b[0m\u001b[37m\u001b[0m \u001b[1m57s\u001b[0m 150ms/step - accuracy: 0.9277 - loss: 0.2050 - val_accuracy: 0.9322 - val_loss: 0.2464 - learning_rate: 0.0010\n",
      "Epoch 22/500\n",
      "\u001b[1m383/383\u001b[0m \u001b[32m━━━━━━━━━━━━━━━━━━━━\u001b[0m\u001b[37m\u001b[0m \u001b[1m58s\u001b[0m 152ms/step - accuracy: 0.9269 - loss: 0.2131 - val_accuracy: 0.9379 - val_loss: 0.2012 - learning_rate: 0.0010\n",
      "Epoch 23/500\n",
      "\u001b[1m383/383\u001b[0m \u001b[32m━━━━━━━━━━━━━━━━━━━━\u001b[0m\u001b[37m\u001b[0m \u001b[1m57s\u001b[0m 149ms/step - accuracy: 0.9329 - loss: 0.1912 - val_accuracy: 0.9296 - val_loss: 0.2492 - learning_rate: 0.0010\n",
      "Epoch 24/500\n",
      "\u001b[1m383/383\u001b[0m \u001b[32m━━━━━━━━━━━━━━━━━━━━\u001b[0m\u001b[37m\u001b[0m \u001b[1m57s\u001b[0m 149ms/step - accuracy: 0.9315 - loss: 0.2030 - val_accuracy: 0.9341 - val_loss: 0.2180 - learning_rate: 0.0010\n",
      "Epoch 25/500\n",
      "\u001b[1m383/383\u001b[0m \u001b[32m━━━━━━━━━━━━━━━━━━━━\u001b[0m\u001b[37m\u001b[0m \u001b[1m57s\u001b[0m 149ms/step - accuracy: 0.9331 - loss: 0.1894 - val_accuracy: 0.9326 - val_loss: 0.2351 - learning_rate: 0.0010\n",
      "Epoch 26/500\n",
      "\u001b[1m383/383\u001b[0m \u001b[32m━━━━━━━━━━━━━━━━━━━━\u001b[0m\u001b[37m\u001b[0m \u001b[1m0s\u001b[0m 141ms/step - accuracy: 0.9288 - loss: 0.1964"
     ]
    },
    {
     "name": "stderr",
     "output_type": "stream",
     "text": [
      "WARNING:absl:You are saving your model as an HDF5 file via `model.save()` or `keras.saving.save_model(model)`. This file format is considered legacy. We recommend using instead the native Keras format, e.g. `model.save('my_model.keras')` or `keras.saving.save_model(model, 'my_model.keras')`. \n"
     ]
    },
    {
     "name": "stdout",
     "output_type": "stream",
     "text": [
      "\u001b[1m383/383\u001b[0m \u001b[32m━━━━━━━━━━━━━━━━━━━━\u001b[0m\u001b[37m\u001b[0m \u001b[1m58s\u001b[0m 151ms/step - accuracy: 0.9288 - loss: 0.1963 - val_accuracy: 0.9429 - val_loss: 0.1842 - learning_rate: 0.0010\n",
      "Epoch 27/500\n",
      "\u001b[1m383/383\u001b[0m \u001b[32m━━━━━━━━━━━━━━━━━━━━\u001b[0m\u001b[37m\u001b[0m \u001b[1m58s\u001b[0m 150ms/step - accuracy: 0.9304 - loss: 0.1946 - val_accuracy: 0.9322 - val_loss: 0.2249 - learning_rate: 0.0010\n",
      "Epoch 28/500\n",
      "\u001b[1m383/383\u001b[0m \u001b[32m━━━━━━━━━━━━━━━━━━━━\u001b[0m\u001b[37m\u001b[0m \u001b[1m50s\u001b[0m 130ms/step - accuracy: 0.9323 - loss: 0.1913 - val_accuracy: 0.9326 - val_loss: 0.2036 - learning_rate: 0.0010\n",
      "Epoch 29/500\n",
      "\u001b[1m383/383\u001b[0m \u001b[32m━━━━━━━━━━━━━━━━━━━━\u001b[0m\u001b[37m\u001b[0m \u001b[1m50s\u001b[0m 131ms/step - accuracy: 0.9332 - loss: 0.1855 - val_accuracy: 0.9345 - val_loss: 0.2172 - learning_rate: 0.0010\n",
      "Epoch 30/500\n",
      "\u001b[1m383/383\u001b[0m \u001b[32m━━━━━━━━━━━━━━━━━━━━\u001b[0m\u001b[37m\u001b[0m \u001b[1m59s\u001b[0m 154ms/step - accuracy: 0.9334 - loss: 0.1926 - val_accuracy: 0.9353 - val_loss: 0.2127 - learning_rate: 0.0010\n",
      "Epoch 31/500\n",
      "\u001b[1m383/383\u001b[0m \u001b[32m━━━━━━━━━━━━━━━━━━━━\u001b[0m\u001b[37m\u001b[0m \u001b[1m63s\u001b[0m 165ms/step - accuracy: 0.9355 - loss: 0.1791 - val_accuracy: 0.9242 - val_loss: 0.2642 - learning_rate: 0.0010\n",
      "Epoch 32/500\n",
      "\u001b[1m383/383\u001b[0m \u001b[32m━━━━━━━━━━━━━━━━━━━━\u001b[0m\u001b[37m\u001b[0m \u001b[1m55s\u001b[0m 143ms/step - accuracy: 0.9353 - loss: 0.1772 - val_accuracy: 0.9189 - val_loss: 0.2519 - learning_rate: 0.0010\n",
      "Epoch 33/500\n",
      "\u001b[1m383/383\u001b[0m \u001b[32m━━━━━━━━━━━━━━━━━━━━\u001b[0m\u001b[37m\u001b[0m \u001b[1m51s\u001b[0m 133ms/step - accuracy: 0.9375 - loss: 0.1761 - val_accuracy: 0.9299 - val_loss: 0.2295 - learning_rate: 0.0010\n",
      "Epoch 34/500\n",
      "\u001b[1m383/383\u001b[0m \u001b[32m━━━━━━━━━━━━━━━━━━━━\u001b[0m\u001b[37m\u001b[0m \u001b[1m50s\u001b[0m 131ms/step - accuracy: 0.9391 - loss: 0.1705 - val_accuracy: 0.9406 - val_loss: 0.1983 - learning_rate: 0.0010\n",
      "Epoch 35/500\n",
      "\u001b[1m383/383\u001b[0m \u001b[32m━━━━━━━━━━━━━━━━━━━━\u001b[0m\u001b[37m\u001b[0m \u001b[1m50s\u001b[0m 131ms/step - accuracy: 0.9354 - loss: 0.1782 - val_accuracy: 0.9360 - val_loss: 0.2263 - learning_rate: 0.0010\n",
      "Epoch 36/500\n",
      "\u001b[1m383/383\u001b[0m \u001b[32m━━━━━━━━━━━━━━━━━━━━\u001b[0m\u001b[37m\u001b[0m \u001b[1m50s\u001b[0m 131ms/step - accuracy: 0.9388 - loss: 0.1768 - val_accuracy: 0.9315 - val_loss: 0.2362 - learning_rate: 0.0010\n",
      "Epoch 37/500\n",
      "\u001b[1m383/383\u001b[0m \u001b[32m━━━━━━━━━━━━━━━━━━━━\u001b[0m\u001b[37m\u001b[0m \u001b[1m51s\u001b[0m 132ms/step - accuracy: 0.9407 - loss: 0.1690 - val_accuracy: 0.9345 - val_loss: 0.2060 - learning_rate: 0.0010\n",
      "Epoch 38/500\n",
      "\u001b[1m383/383\u001b[0m \u001b[32m━━━━━━━━━━━━━━━━━━━━\u001b[0m\u001b[37m\u001b[0m \u001b[1m51s\u001b[0m 132ms/step - accuracy: 0.9428 - loss: 0.1602 - val_accuracy: 0.9406 - val_loss: 0.2316 - learning_rate: 0.0010\n",
      "Epoch 39/500\n",
      "\u001b[1m383/383\u001b[0m \u001b[32m━━━━━━━━━━━━━━━━━━━━\u001b[0m\u001b[37m\u001b[0m \u001b[1m50s\u001b[0m 131ms/step - accuracy: 0.9440 - loss: 0.1624 - val_accuracy: 0.9410 - val_loss: 0.1960 - learning_rate: 0.0010\n",
      "Epoch 40/500\n",
      "\u001b[1m383/383\u001b[0m \u001b[32m━━━━━━━━━━━━━━━━━━━━\u001b[0m\u001b[37m\u001b[0m \u001b[1m50s\u001b[0m 131ms/step - accuracy: 0.9401 - loss: 0.1677 - val_accuracy: 0.9398 - val_loss: 0.1949 - learning_rate: 0.0010\n",
      "Epoch 41/500\n",
      "\u001b[1m383/383\u001b[0m \u001b[32m━━━━━━━━━━━━━━━━━━━━\u001b[0m\u001b[37m\u001b[0m \u001b[1m51s\u001b[0m 132ms/step - accuracy: 0.9361 - loss: 0.1716 - val_accuracy: 0.9231 - val_loss: 0.2606 - learning_rate: 0.0010\n",
      "Epoch 42/500\n",
      "\u001b[1m383/383\u001b[0m \u001b[32m━━━━━━━━━━━━━━━━━━━━\u001b[0m\u001b[37m\u001b[0m \u001b[1m0s\u001b[0m 125ms/step - accuracy: 0.9366 - loss: 0.1785"
     ]
    },
    {
     "name": "stderr",
     "output_type": "stream",
     "text": [
      "WARNING:absl:You are saving your model as an HDF5 file via `model.save()` or `keras.saving.save_model(model)`. This file format is considered legacy. We recommend using instead the native Keras format, e.g. `model.save('my_model.keras')` or `keras.saving.save_model(model, 'my_model.keras')`. \n"
     ]
    },
    {
     "name": "stdout",
     "output_type": "stream",
     "text": [
      "\u001b[1m383/383\u001b[0m \u001b[32m━━━━━━━━━━━━━━━━━━━━\u001b[0m\u001b[37m\u001b[0m \u001b[1m51s\u001b[0m 133ms/step - accuracy: 0.9366 - loss: 0.1785 - val_accuracy: 0.9410 - val_loss: 0.1812 - learning_rate: 0.0010\n",
      "Epoch 43/500\n",
      "\u001b[1m383/383\u001b[0m \u001b[32m━━━━━━━━━━━━━━━━━━━━\u001b[0m\u001b[37m\u001b[0m \u001b[1m51s\u001b[0m 132ms/step - accuracy: 0.9396 - loss: 0.1610 - val_accuracy: 0.9406 - val_loss: 0.2216 - learning_rate: 0.0010\n",
      "Epoch 44/500\n",
      "\u001b[1m383/383\u001b[0m \u001b[32m━━━━━━━━━━━━━━━━━━━━\u001b[0m\u001b[37m\u001b[0m \u001b[1m51s\u001b[0m 133ms/step - accuracy: 0.9415 - loss: 0.1695 - val_accuracy: 0.9425 - val_loss: 0.1911 - learning_rate: 0.0010\n",
      "Epoch 45/500\n",
      "\u001b[1m383/383\u001b[0m \u001b[32m━━━━━━━━━━━━━━━━━━━━\u001b[0m\u001b[37m\u001b[0m \u001b[1m51s\u001b[0m 134ms/step - accuracy: 0.9418 - loss: 0.1624 - val_accuracy: 0.9345 - val_loss: 0.2276 - learning_rate: 0.0010\n",
      "Epoch 46/500\n",
      "\u001b[1m383/383\u001b[0m \u001b[32m━━━━━━━━━━━━━━━━━━━━\u001b[0m\u001b[37m\u001b[0m \u001b[1m51s\u001b[0m 134ms/step - accuracy: 0.9418 - loss: 0.1572 - val_accuracy: 0.9372 - val_loss: 0.2167 - learning_rate: 0.0010\n",
      "Epoch 47/500\n",
      "\u001b[1m383/383\u001b[0m \u001b[32m━━━━━━━━━━━━━━━━━━━━\u001b[0m\u001b[37m\u001b[0m \u001b[1m52s\u001b[0m 135ms/step - accuracy: 0.9451 - loss: 0.1556 - val_accuracy: 0.9337 - val_loss: 0.2095 - learning_rate: 0.0010\n",
      "Epoch 48/500\n",
      "\u001b[1m383/383\u001b[0m \u001b[32m━━━━━━━━━━━━━━━━━━━━\u001b[0m\u001b[37m\u001b[0m \u001b[1m52s\u001b[0m 135ms/step - accuracy: 0.9424 - loss: 0.1563 - val_accuracy: 0.9425 - val_loss: 0.1814 - learning_rate: 0.0010\n",
      "Epoch 49/500\n",
      "\u001b[1m383/383\u001b[0m \u001b[32m━━━━━━━━━━━━━━━━━━━━\u001b[0m\u001b[37m\u001b[0m \u001b[1m52s\u001b[0m 136ms/step - accuracy: 0.9405 - loss: 0.1657 - val_accuracy: 0.9433 - val_loss: 0.1989 - learning_rate: 0.0010\n",
      "Epoch 50/500\n",
      "\u001b[1m383/383\u001b[0m \u001b[32m━━━━━━━━━━━━━━━━━━━━\u001b[0m\u001b[37m\u001b[0m \u001b[1m52s\u001b[0m 136ms/step - accuracy: 0.9406 - loss: 0.1621 - val_accuracy: 0.9421 - val_loss: 0.1966 - learning_rate: 0.0010\n",
      "Epoch 51/500\n",
      "\u001b[1m383/383\u001b[0m \u001b[32m━━━━━━━━━━━━━━━━━━━━\u001b[0m\u001b[37m\u001b[0m \u001b[1m53s\u001b[0m 138ms/step - accuracy: 0.9405 - loss: 0.1530 - val_accuracy: 0.9429 - val_loss: 0.2006 - learning_rate: 0.0010\n",
      "Epoch 52/500\n",
      "\u001b[1m383/383\u001b[0m \u001b[32m━━━━━━━━━━━━━━━━━━━━\u001b[0m\u001b[37m\u001b[0m \u001b[1m52s\u001b[0m 136ms/step - accuracy: 0.9485 - loss: 0.1473 - val_accuracy: 0.9375 - val_loss: 0.1999 - learning_rate: 0.0010\n",
      "Epoch 53/500\n",
      "\u001b[1m383/383\u001b[0m \u001b[32m━━━━━━━━━━━━━━━━━━━━\u001b[0m\u001b[37m\u001b[0m \u001b[1m0s\u001b[0m 129ms/step - accuracy: 0.9452 - loss: 0.1535"
     ]
    },
    {
     "name": "stderr",
     "output_type": "stream",
     "text": [
      "WARNING:absl:You are saving your model as an HDF5 file via `model.save()` or `keras.saving.save_model(model)`. This file format is considered legacy. We recommend using instead the native Keras format, e.g. `model.save('my_model.keras')` or `keras.saving.save_model(model, 'my_model.keras')`. \n"
     ]
    },
    {
     "name": "stdout",
     "output_type": "stream",
     "text": [
      "\u001b[1m383/383\u001b[0m \u001b[32m━━━━━━━━━━━━━━━━━━━━\u001b[0m\u001b[37m\u001b[0m \u001b[1m53s\u001b[0m 137ms/step - accuracy: 0.9452 - loss: 0.1535 - val_accuracy: 0.9452 - val_loss: 0.1693 - learning_rate: 0.0010\n",
      "Epoch 54/500\n",
      "\u001b[1m383/383\u001b[0m \u001b[32m━━━━━━━━━━━━━━━━━━━━\u001b[0m\u001b[37m\u001b[0m \u001b[1m52s\u001b[0m 137ms/step - accuracy: 0.9471 - loss: 0.1391 - val_accuracy: 0.9387 - val_loss: 0.1986 - learning_rate: 0.0010\n",
      "Epoch 55/500\n",
      "\u001b[1m383/383\u001b[0m \u001b[32m━━━━━━━━━━━━━━━━━━━━\u001b[0m\u001b[37m\u001b[0m \u001b[1m52s\u001b[0m 136ms/step - accuracy: 0.9458 - loss: 0.1515 - val_accuracy: 0.9391 - val_loss: 0.2333 - learning_rate: 0.0010\n",
      "Epoch 56/500\n",
      "\u001b[1m383/383\u001b[0m \u001b[32m━━━━━━━━━━━━━━━━━━━━\u001b[0m\u001b[37m\u001b[0m \u001b[1m53s\u001b[0m 138ms/step - accuracy: 0.9461 - loss: 0.1592 - val_accuracy: 0.9296 - val_loss: 0.2065 - learning_rate: 0.0010\n",
      "Epoch 57/500\n",
      "\u001b[1m383/383\u001b[0m \u001b[32m━━━━━━━━━━━━━━━━━━━━\u001b[0m\u001b[37m\u001b[0m \u001b[1m53s\u001b[0m 138ms/step - accuracy: 0.9453 - loss: 0.1486 - val_accuracy: 0.9276 - val_loss: 0.2507 - learning_rate: 0.0010\n",
      "Epoch 58/500\n",
      "\u001b[1m383/383\u001b[0m \u001b[32m━━━━━━━━━━━━━━━━━━━━\u001b[0m\u001b[37m\u001b[0m \u001b[1m53s\u001b[0m 139ms/step - accuracy: 0.9474 - loss: 0.1475 - val_accuracy: 0.9383 - val_loss: 0.2278 - learning_rate: 0.0010\n",
      "Epoch 59/500\n",
      "\u001b[1m383/383\u001b[0m \u001b[32m━━━━━━━━━━━━━━━━━━━━\u001b[0m\u001b[37m\u001b[0m \u001b[1m53s\u001b[0m 139ms/step - accuracy: 0.9437 - loss: 0.1559 - val_accuracy: 0.9349 - val_loss: 0.2049 - learning_rate: 0.0010\n",
      "Epoch 60/500\n",
      "\u001b[1m383/383\u001b[0m \u001b[32m━━━━━━━━━━━━━━━━━━━━\u001b[0m\u001b[37m\u001b[0m \u001b[1m54s\u001b[0m 140ms/step - accuracy: 0.9455 - loss: 0.1437 - val_accuracy: 0.9322 - val_loss: 0.2136 - learning_rate: 0.0010\n",
      "Epoch 61/500\n",
      "\u001b[1m383/383\u001b[0m \u001b[32m━━━━━━━━━━━━━━━━━━━━\u001b[0m\u001b[37m\u001b[0m \u001b[1m53s\u001b[0m 139ms/step - accuracy: 0.9458 - loss: 0.1419 - val_accuracy: 0.9402 - val_loss: 0.2229 - learning_rate: 0.0010\n",
      "Epoch 62/500\n",
      "\u001b[1m383/383\u001b[0m \u001b[32m━━━━━━━━━━━━━━━━━━━━\u001b[0m\u001b[37m\u001b[0m \u001b[1m53s\u001b[0m 139ms/step - accuracy: 0.9508 - loss: 0.1297 - val_accuracy: 0.9341 - val_loss: 0.2200 - learning_rate: 0.0010\n",
      "Epoch 63/500\n",
      "\u001b[1m383/383\u001b[0m \u001b[32m━━━━━━━━━━━━━━━━━━━━\u001b[0m\u001b[37m\u001b[0m \u001b[1m53s\u001b[0m 138ms/step - accuracy: 0.9465 - loss: 0.1412 - val_accuracy: 0.9375 - val_loss: 0.1861 - learning_rate: 0.0010\n",
      "Epoch 64/500\n",
      "\u001b[1m383/383\u001b[0m \u001b[32m━━━━━━━━━━━━━━━━━━━━\u001b[0m\u001b[37m\u001b[0m \u001b[1m53s\u001b[0m 139ms/step - accuracy: 0.9502 - loss: 0.1361 - val_accuracy: 0.9387 - val_loss: 0.2128 - learning_rate: 0.0010\n",
      "Epoch 65/500\n",
      "\u001b[1m383/383\u001b[0m \u001b[32m━━━━━━━━━━━━━━━━━━━━\u001b[0m\u001b[37m\u001b[0m \u001b[1m53s\u001b[0m 139ms/step - accuracy: 0.9547 - loss: 0.1245 - val_accuracy: 0.9288 - val_loss: 0.2541 - learning_rate: 0.0010\n",
      "Epoch 66/500\n",
      "\u001b[1m383/383\u001b[0m \u001b[32m━━━━━━━━━━━━━━━━━━━━\u001b[0m\u001b[37m\u001b[0m \u001b[1m53s\u001b[0m 138ms/step - accuracy: 0.9506 - loss: 0.1370 - val_accuracy: 0.9425 - val_loss: 0.1894 - learning_rate: 0.0010\n",
      "Epoch 67/500\n",
      "\u001b[1m383/383\u001b[0m \u001b[32m━━━━━━━━━━━━━━━━━━━━\u001b[0m\u001b[37m\u001b[0m \u001b[1m53s\u001b[0m 138ms/step - accuracy: 0.9532 - loss: 0.1288 - val_accuracy: 0.9307 - val_loss: 0.3120 - learning_rate: 0.0010\n",
      "Epoch 68/500\n",
      "\u001b[1m383/383\u001b[0m \u001b[32m━━━━━━━━━━━━━━━━━━━━\u001b[0m\u001b[37m\u001b[0m \u001b[1m53s\u001b[0m 137ms/step - accuracy: 0.9479 - loss: 0.1420 - val_accuracy: 0.9433 - val_loss: 0.2352 - learning_rate: 0.0010\n",
      "Epoch 69/500\n",
      "\u001b[1m383/383\u001b[0m \u001b[32m━━━━━━━━━━━━━━━━━━━━\u001b[0m\u001b[37m\u001b[0m \u001b[1m53s\u001b[0m 138ms/step - accuracy: 0.9474 - loss: 0.1464 - val_accuracy: 0.9379 - val_loss: 0.2186 - learning_rate: 0.0010\n",
      "Epoch 70/500\n",
      "\u001b[1m383/383\u001b[0m \u001b[32m━━━━━━━━━━━━━━━━━━━━\u001b[0m\u001b[37m\u001b[0m \u001b[1m53s\u001b[0m 139ms/step - accuracy: 0.9533 - loss: 0.1324 - val_accuracy: 0.9417 - val_loss: 0.1846 - learning_rate: 0.0010\n",
      "Epoch 71/500\n",
      "\u001b[1m383/383\u001b[0m \u001b[32m━━━━━━━━━━━━━━━━━━━━\u001b[0m\u001b[37m\u001b[0m \u001b[1m53s\u001b[0m 139ms/step - accuracy: 0.9531 - loss: 0.1345 - val_accuracy: 0.9421 - val_loss: 0.1791 - learning_rate: 0.0010\n",
      "Epoch 72/500\n",
      "\u001b[1m383/383\u001b[0m \u001b[32m━━━━━━━━━━━━━━━━━━━━\u001b[0m\u001b[37m\u001b[0m \u001b[1m54s\u001b[0m 140ms/step - accuracy: 0.9515 - loss: 0.1282 - val_accuracy: 0.9379 - val_loss: 0.2020 - learning_rate: 0.0010\n",
      "Epoch 73/500\n",
      "\u001b[1m383/383\u001b[0m \u001b[32m━━━━━━━━━━━━━━━━━━━━\u001b[0m\u001b[37m\u001b[0m \u001b[1m54s\u001b[0m 140ms/step - accuracy: 0.9569 - loss: 0.1207 - val_accuracy: 0.9417 - val_loss: 0.2002 - learning_rate: 0.0010\n",
      "Epoch 74/500\n",
      "\u001b[1m383/383\u001b[0m \u001b[32m━━━━━━━━━━━━━━━━━━━━\u001b[0m\u001b[37m\u001b[0m \u001b[1m53s\u001b[0m 139ms/step - accuracy: 0.9548 - loss: 0.1201 - val_accuracy: 0.9440 - val_loss: 0.2247 - learning_rate: 0.0010\n",
      "Epoch 75/500\n",
      "\u001b[1m383/383\u001b[0m \u001b[32m━━━━━━━━━━━━━━━━━━━━\u001b[0m\u001b[37m\u001b[0m \u001b[1m53s\u001b[0m 138ms/step - accuracy: 0.9548 - loss: 0.1197 - val_accuracy: 0.9402 - val_loss: 0.2181 - learning_rate: 0.0010\n",
      "Epoch 76/500\n",
      "\u001b[1m383/383\u001b[0m \u001b[32m━━━━━━━━━━━━━━━━━━━━\u001b[0m\u001b[37m\u001b[0m \u001b[1m53s\u001b[0m 139ms/step - accuracy: 0.9549 - loss: 0.1271 - val_accuracy: 0.9261 - val_loss: 0.2765 - learning_rate: 0.0010\n",
      "Epoch 77/500\n",
      "\u001b[1m383/383\u001b[0m \u001b[32m━━━━━━━━━━━━━━━━━━━━\u001b[0m\u001b[37m\u001b[0m \u001b[1m53s\u001b[0m 139ms/step - accuracy: 0.9553 - loss: 0.1171 - val_accuracy: 0.9391 - val_loss: 0.3033 - learning_rate: 0.0010\n",
      "Epoch 78/500\n",
      "\u001b[1m383/383\u001b[0m \u001b[32m━━━━━━━━━━━━━━━━━━━━\u001b[0m\u001b[37m\u001b[0m \u001b[1m53s\u001b[0m 139ms/step - accuracy: 0.9532 - loss: 0.1320 - val_accuracy: 0.9421 - val_loss: 0.2375 - learning_rate: 0.0010\n",
      "Epoch 79/500\n",
      "\u001b[1m383/383\u001b[0m \u001b[32m━━━━━━━━━━━━━━━━━━━━\u001b[0m\u001b[37m\u001b[0m \u001b[1m54s\u001b[0m 140ms/step - accuracy: 0.9558 - loss: 0.1237 - val_accuracy: 0.9143 - val_loss: 0.3151 - learning_rate: 0.0010\n",
      "Epoch 80/500\n",
      "\u001b[1m383/383\u001b[0m \u001b[32m━━━━━━━━━━━━━━━━━━━━\u001b[0m\u001b[37m\u001b[0m \u001b[1m54s\u001b[0m 140ms/step - accuracy: 0.9508 - loss: 0.1412 - val_accuracy: 0.9280 - val_loss: 0.2737 - learning_rate: 0.0010\n",
      "Epoch 81/500\n",
      "\u001b[1m383/383\u001b[0m \u001b[32m━━━━━━━━━━━━━━━━━━━━\u001b[0m\u001b[37m\u001b[0m \u001b[1m54s\u001b[0m 142ms/step - accuracy: 0.9511 - loss: 0.1353 - val_accuracy: 0.9341 - val_loss: 0.2650 - learning_rate: 0.0010\n",
      "Epoch 82/500\n",
      "\u001b[1m383/383\u001b[0m \u001b[32m━━━━━━━━━━━━━━━━━━━━\u001b[0m\u001b[37m\u001b[0m \u001b[1m55s\u001b[0m 142ms/step - accuracy: 0.9560 - loss: 0.1168 - val_accuracy: 0.9158 - val_loss: 0.2938 - learning_rate: 0.0010\n",
      "Epoch 83/500\n",
      "\u001b[1m383/383\u001b[0m \u001b[32m━━━━━━━━━━━━━━━━━━━━\u001b[0m\u001b[37m\u001b[0m \u001b[1m55s\u001b[0m 143ms/step - accuracy: 0.9599 - loss: 0.1111 - val_accuracy: 0.9337 - val_loss: 0.2332 - learning_rate: 0.0010\n",
      "Epoch 84/500\n",
      "\u001b[1m383/383\u001b[0m \u001b[32m━━━━━━━━━━━━━━━━━━━━\u001b[0m\u001b[37m\u001b[0m \u001b[1m55s\u001b[0m 144ms/step - accuracy: 0.9515 - loss: 0.1459 - val_accuracy: 0.9410 - val_loss: 0.2571 - learning_rate: 0.0010\n",
      "Epoch 85/500\n",
      "\u001b[1m383/383\u001b[0m \u001b[32m━━━━━━━━━━━━━━━━━━━━\u001b[0m\u001b[37m\u001b[0m \u001b[1m55s\u001b[0m 144ms/step - accuracy: 0.9523 - loss: 0.1326 - val_accuracy: 0.9425 - val_loss: 0.2593 - learning_rate: 0.0010\n",
      "Epoch 86/500\n",
      "\u001b[1m383/383\u001b[0m \u001b[32m━━━━━━━━━━━━━━━━━━━━\u001b[0m\u001b[37m\u001b[0m \u001b[1m55s\u001b[0m 144ms/step - accuracy: 0.9599 - loss: 0.1130 - val_accuracy: 0.9417 - val_loss: 0.2350 - learning_rate: 0.0010\n",
      "Epoch 87/500\n",
      "\u001b[1m383/383\u001b[0m \u001b[32m━━━━━━━━━━━━━━━━━━━━\u001b[0m\u001b[37m\u001b[0m \u001b[1m55s\u001b[0m 144ms/step - accuracy: 0.9606 - loss: 0.1059 - val_accuracy: 0.9383 - val_loss: 0.2777 - learning_rate: 0.0010\n",
      "Epoch 88/500\n",
      "\u001b[1m383/383\u001b[0m \u001b[32m━━━━━━━━━━━━━━━━━━━━\u001b[0m\u001b[37m\u001b[0m \u001b[1m55s\u001b[0m 144ms/step - accuracy: 0.9611 - loss: 0.1081 - val_accuracy: 0.9402 - val_loss: 0.2181 - learning_rate: 0.0010\n",
      "Epoch 89/500\n",
      "\u001b[1m383/383\u001b[0m \u001b[32m━━━━━━━━━━━━━━━━━━━━\u001b[0m\u001b[37m\u001b[0m \u001b[1m55s\u001b[0m 144ms/step - accuracy: 0.9623 - loss: 0.1039 - val_accuracy: 0.9387 - val_loss: 0.2506 - learning_rate: 0.0010\n",
      "Epoch 90/500\n",
      "\u001b[1m383/383\u001b[0m \u001b[32m━━━━━━━━━━━━━━━━━━━━\u001b[0m\u001b[37m\u001b[0m \u001b[1m55s\u001b[0m 143ms/step - accuracy: 0.9561 - loss: 0.1149 - val_accuracy: 0.9379 - val_loss: 0.2314 - learning_rate: 0.0010\n",
      "Epoch 91/500\n",
      "\u001b[1m383/383\u001b[0m \u001b[32m━━━━━━━━━━━━━━━━━━━━\u001b[0m\u001b[37m\u001b[0m \u001b[1m53s\u001b[0m 137ms/step - accuracy: 0.9569 - loss: 0.1249 - val_accuracy: 0.9375 - val_loss: 0.2104 - learning_rate: 0.0010\n",
      "Epoch 92/500\n",
      "\u001b[1m383/383\u001b[0m \u001b[32m━━━━━━━━━━━━━━━━━━━━\u001b[0m\u001b[37m\u001b[0m \u001b[1m50s\u001b[0m 131ms/step - accuracy: 0.9564 - loss: 0.1138 - val_accuracy: 0.9368 - val_loss: 0.3186 - learning_rate: 0.0010\n",
      "Epoch 93/500\n",
      "\u001b[1m383/383\u001b[0m \u001b[32m━━━━━━━━━━━━━━━━━━━━\u001b[0m\u001b[37m\u001b[0m \u001b[1m50s\u001b[0m 131ms/step - accuracy: 0.9572 - loss: 0.1089 - val_accuracy: 0.9429 - val_loss: 0.2695 - learning_rate: 0.0010\n",
      "Epoch 94/500\n",
      "\u001b[1m383/383\u001b[0m \u001b[32m━━━━━━━━━━━━━━━━━━━━\u001b[0m\u001b[37m\u001b[0m \u001b[1m50s\u001b[0m 131ms/step - accuracy: 0.9593 - loss: 0.1121 - val_accuracy: 0.9337 - val_loss: 0.4787 - learning_rate: 0.0010\n",
      "Epoch 95/500\n",
      "\u001b[1m383/383\u001b[0m \u001b[32m━━━━━━━━━━━━━━━━━━━━\u001b[0m\u001b[37m\u001b[0m \u001b[1m50s\u001b[0m 130ms/step - accuracy: 0.9548 - loss: 0.1244 - val_accuracy: 0.9387 - val_loss: 0.2392 - learning_rate: 0.0010\n",
      "Epoch 96/500\n",
      "\u001b[1m383/383\u001b[0m \u001b[32m━━━━━━━━━━━━━━━━━━━━\u001b[0m\u001b[37m\u001b[0m \u001b[1m50s\u001b[0m 130ms/step - accuracy: 0.9577 - loss: 0.1216 - val_accuracy: 0.9223 - val_loss: 0.2230 - learning_rate: 0.0010\n",
      "Epoch 97/500\n",
      "\u001b[1m383/383\u001b[0m \u001b[32m━━━━━━━━━━━━━━━━━━━━\u001b[0m\u001b[37m\u001b[0m \u001b[1m50s\u001b[0m 130ms/step - accuracy: 0.9617 - loss: 0.1080 - val_accuracy: 0.9246 - val_loss: 0.2873 - learning_rate: 0.0010\n",
      "Epoch 98/500\n",
      "\u001b[1m383/383\u001b[0m \u001b[32m━━━━━━━━━━━━━━━━━━━━\u001b[0m\u001b[37m\u001b[0m \u001b[1m49s\u001b[0m 129ms/step - accuracy: 0.9568 - loss: 0.1254 - val_accuracy: 0.9280 - val_loss: 0.3013 - learning_rate: 0.0010\n",
      "Epoch 99/500\n",
      "\u001b[1m383/383\u001b[0m \u001b[32m━━━━━━━━━━━━━━━━━━━━\u001b[0m\u001b[37m\u001b[0m \u001b[1m49s\u001b[0m 129ms/step - accuracy: 0.9623 - loss: 0.1016 - val_accuracy: 0.9307 - val_loss: 0.3390 - learning_rate: 0.0010\n",
      "Epoch 100/500\n",
      "\u001b[1m383/383\u001b[0m \u001b[32m━━━━━━━━━━━━━━━━━━━━\u001b[0m\u001b[37m\u001b[0m \u001b[1m50s\u001b[0m 130ms/step - accuracy: 0.9603 - loss: 0.1088 - val_accuracy: 0.9364 - val_loss: 0.2548 - learning_rate: 0.0010\n",
      "Epoch 101/500\n",
      "\u001b[1m383/383\u001b[0m \u001b[32m━━━━━━━━━━━━━━━━━━━━\u001b[0m\u001b[37m\u001b[0m \u001b[1m50s\u001b[0m 130ms/step - accuracy: 0.9636 - loss: 0.1036 - val_accuracy: 0.9345 - val_loss: 0.4027 - learning_rate: 0.0010\n",
      "Epoch 102/500\n",
      "\u001b[1m383/383\u001b[0m \u001b[32m━━━━━━━━━━━━━━━━━━━━\u001b[0m\u001b[37m\u001b[0m \u001b[1m50s\u001b[0m 130ms/step - accuracy: 0.9648 - loss: 0.1076 - val_accuracy: 0.9296 - val_loss: 0.3375 - learning_rate: 0.0010\n",
      "Epoch 103/500\n",
      "\u001b[1m383/383\u001b[0m \u001b[32m━━━━━━━━━━━━━━━━━━━━\u001b[0m\u001b[37m\u001b[0m \u001b[1m50s\u001b[0m 129ms/step - accuracy: 0.9638 - loss: 0.1052 - val_accuracy: 0.9421 - val_loss: 0.2718 - learning_rate: 0.0010\n"
     ]
    }
   ],
   "source": [
    "history_13 = model_13.fit(\n",
    "    [X_train, audio_features_train],  # inputs\n",
    "    y_train_vehicle,                  # target\n",
    "    epochs=500,\n",
    "    batch_size=32,\n",
    "    validation_data=([X_val, audio_features_val], y_val_vehicle),\n",
    "    callbacks=[reduce_lr, early_stopping, model_checkpoint]\n",
    ")"
   ]
  },
  {
   "cell_type": "code",
   "execution_count": 9,
   "id": "592c92af",
   "metadata": {},
   "outputs": [
    {
     "name": "stderr",
     "output_type": "stream",
     "text": [
      "WARNING:absl:Compiled the loaded model, but the compiled metrics have yet to be built. `model.compile_metrics` will be empty until you train or evaluate the model.\n"
     ]
    },
    {
     "name": "stdout",
     "output_type": "stream",
     "text": [
      "\u001b[1m83/83\u001b[0m \u001b[32m━━━━━━━━━━━━━━━━━━━━\u001b[0m\u001b[37m\u001b[0m \u001b[1m3s\u001b[0m 34ms/step - accuracy: 0.9439 - loss: 0.2108\n",
      "\n",
      "Test accuracy: 0.9364\n",
      "Test loss: 0.2080\n",
      "\u001b[1m83/83\u001b[0m \u001b[32m━━━━━━━━━━━━━━━━━━━━\u001b[0m\u001b[37m\u001b[0m \u001b[1m3s\u001b[0m 33ms/step\n"
     ]
    }
   ],
   "source": [
    "# TEST\n",
    "best_model_13 = tf.keras.models.load_model('best_model_13.h5')\n",
    "\n",
    "test_loss_13, test_acc_13 = model_13.evaluate([X_test, audio_features_test], y_test_vehicle, verbose=1)\n",
    "print(f\"\\nTest accuracy: {test_acc_13:.4f}\")\n",
    "print(f\"Test loss: {test_loss_13:.4f}\")\n",
    "\n",
    "y_pred_prob_13 = model_13.predict([X_test, audio_features_test])\n",
    "y_pred_13 = np.argmax(y_pred_prob_13, axis=1)\n",
    "y_true_13 = np.argmax(y_test_vehicle, axis=1)"
   ]
  },
  {
   "cell_type": "code",
   "execution_count": 10,
   "id": "2d9a39bb",
   "metadata": {},
   "outputs": [
    {
     "data": {
      "image/png": "[encoded data removed]",
      "text/plain": [
       "<Figure size 1200x500 with 2 Axes>"
      ]
     },
     "metadata": {},
     "output_type": "display_data"
    },
    {
     "name": "stdout",
     "output_type": "stream",
     "text": [
      "Miglior accuracy: 0.9452 (epoch 53)\n",
      "\n",
      "--- Classification Report ---\n",
      "              precision    recall  f1-score   support\n",
      "\n",
      "           B       0.78      0.64      0.70        22\n",
      "           C       0.90      0.98      0.94      1177\n",
      "           M       0.98      0.97      0.97        58\n",
      "        None       1.00      0.98      0.99      1213\n",
      "           T       0.64      0.28      0.39       156\n",
      "\n",
      "    accuracy                           0.94      2626\n",
      "   macro avg       0.86      0.77      0.80      2626\n",
      "weighted avg       0.93      0.94      0.93      2626\n",
      "\n"
     ]
    },
    {
     "data": {
      "image/png": "[encoded data removed]",
      "text/plain": [
       "<Figure size 1000x800 with 2 Axes>"
      ]
     },
     "metadata": {},
     "output_type": "display_data"
    },
    {
     "name": "stdout",
     "output_type": "stream",
     "text": [
      "\n",
      "===== RISULTATI CLASSIFICAZIONE VEICOLI =====\n",
      "Vehicle accuracy: 0.9364\n",
      "Test loss: 0.2080\n",
      "Test accuracy: 0.9364\n",
      "\n",
      "--- Vehicle Classification Report ---\n",
      "              precision    recall  f1-score   support\n",
      "\n",
      "           B       0.78      0.64      0.70        22\n",
      "           C       0.90      0.98      0.94      1177\n",
      "           M       0.98      0.97      0.97        58\n",
      "        None       1.00      0.98      0.99      1213\n",
      "           T       0.64      0.28      0.39       156\n",
      "\n",
      "    accuracy                           0.94      2626\n",
      "   macro avg       0.86      0.77      0.80      2626\n",
      "weighted avg       0.93      0.94      0.93      2626\n",
      "\n"
     ]
    },
    {
     "data": {
      "image/png": "[encoded data removed]",
      "text/plain": [
       "<Figure size 1200x1000 with 2 Axes>"
      ]
     },
     "metadata": {},
     "output_type": "display_data"
    },
    {
     "name": "stdout",
     "output_type": "stream",
     "text": [
      "\n",
      "Balanced accuracy score: 0.7681\n"
     ]
    }
   ],
   "source": [
    "# STAMPE RISULTATI\n",
    "plot_single_output_model(\n",
    "    history_13, \n",
    "    y_true_13, \n",
    "    y_pred_13, \n",
    "    class_names=le_vehicle.classes_\n",
    ")\n",
    "\n",
    "plot_vehicle_test_results(\n",
    "    y_true_13, \n",
    "    y_pred_13, \n",
    "    le_vehicle.classes_,\n",
    "    test_results=(test_loss_13, test_acc_13)\n",
    ")"
   ]
  },
  {
   "cell_type": "code",
   "execution_count": 11,
   "id": "628044f7",
   "metadata": {},
   "outputs": [
    {
     "data": {
      "text/html": [
       "<pre style=\"white-space:pre;overflow-x:auto;line-height:normal;font-family:Menlo,'DejaVu Sans Mono',consolas,'Courier New',monospace\"><span style=\"font-weight: bold\">Model: \"functional_1\"</span>\n",
       "</pre>\n"
      ],
      "text/plain": [
       "\u001b[1mModel: \"functional_1\"\u001b[0m\n"
      ]
     },
     "metadata": {},
     "output_type": "display_data"
    },
    {
     "data": {
      "text/html": [
       "<pre style=\"white-space:pre;overflow-x:auto;line-height:normal;font-family:Menlo,'DejaVu Sans Mono',consolas,'Courier New',monospace\">┏━━━━━━━━━━━━━━━━━━━━━━━━━━━━━━━━━┳━━━━━━━━━━━━━━━━━━━━━━━━┳━━━━━━━━━━━━━━━┓\n",
       "┃<span style=\"font-weight: bold\"> Layer (type)                    </span>┃<span style=\"font-weight: bold\"> Output Shape           </span>┃<span style=\"font-weight: bold\">       Param # </span>┃\n",
       "┡━━━━━━━━━━━━━━━━━━━━━━━━━━━━━━━━━╇━━━━━━━━━━━━━━━━━━━━━━━━╇━━━━━━━━━━━━━━━┩\n",
       "│ direction_features_input        │ (<span style=\"color: #00d7ff; text-decoration-color: #00d7ff\">None</span>, <span style=\"color: #00af00; text-decoration-color: #00af00\">8</span>)              │             <span style=\"color: #00af00; text-decoration-color: #00af00\">0</span> │\n",
       "│ (<span style=\"color: #0087ff; text-decoration-color: #0087ff\">InputLayer</span>)                    │                        │               │\n",
       "├─────────────────────────────────┼────────────────────────┼───────────────┤\n",
       "│ dense_7 (<span style=\"color: #0087ff; text-decoration-color: #0087ff\">Dense</span>)                 │ (<span style=\"color: #00d7ff; text-decoration-color: #00d7ff\">None</span>, <span style=\"color: #00af00; text-decoration-color: #00af00\">64</span>)             │           <span style=\"color: #00af00; text-decoration-color: #00af00\">576</span> │\n",
       "├─────────────────────────────────┼────────────────────────┼───────────────┤\n",
       "│ dropout_7 (<span style=\"color: #0087ff; text-decoration-color: #0087ff\">Dropout</span>)             │ (<span style=\"color: #00d7ff; text-decoration-color: #00d7ff\">None</span>, <span style=\"color: #00af00; text-decoration-color: #00af00\">64</span>)             │             <span style=\"color: #00af00; text-decoration-color: #00af00\">0</span> │\n",
       "├─────────────────────────────────┼────────────────────────┼───────────────┤\n",
       "│ dense_8 (<span style=\"color: #0087ff; text-decoration-color: #0087ff\">Dense</span>)                 │ (<span style=\"color: #00d7ff; text-decoration-color: #00d7ff\">None</span>, <span style=\"color: #00af00; text-decoration-color: #00af00\">64</span>)             │         <span style=\"color: #00af00; text-decoration-color: #00af00\">4,160</span> │\n",
       "├─────────────────────────────────┼────────────────────────┼───────────────┤\n",
       "│ dropout_8 (<span style=\"color: #0087ff; text-decoration-color: #0087ff\">Dropout</span>)             │ (<span style=\"color: #00d7ff; text-decoration-color: #00d7ff\">None</span>, <span style=\"color: #00af00; text-decoration-color: #00af00\">64</span>)             │             <span style=\"color: #00af00; text-decoration-color: #00af00\">0</span> │\n",
       "├─────────────────────────────────┼────────────────────────┼───────────────┤\n",
       "│ dense_9 (<span style=\"color: #0087ff; text-decoration-color: #0087ff\">Dense</span>)                 │ (<span style=\"color: #00d7ff; text-decoration-color: #00d7ff\">None</span>, <span style=\"color: #00af00; text-decoration-color: #00af00\">32</span>)             │         <span style=\"color: #00af00; text-decoration-color: #00af00\">2,080</span> │\n",
       "├─────────────────────────────────┼────────────────────────┼───────────────┤\n",
       "│ dropout_9 (<span style=\"color: #0087ff; text-decoration-color: #0087ff\">Dropout</span>)             │ (<span style=\"color: #00d7ff; text-decoration-color: #00d7ff\">None</span>, <span style=\"color: #00af00; text-decoration-color: #00af00\">32</span>)             │             <span style=\"color: #00af00; text-decoration-color: #00af00\">0</span> │\n",
       "├─────────────────────────────────┼────────────────────────┼───────────────┤\n",
       "│ dense_10 (<span style=\"color: #0087ff; text-decoration-color: #0087ff\">Dense</span>)                │ (<span style=\"color: #00d7ff; text-decoration-color: #00d7ff\">None</span>, <span style=\"color: #00af00; text-decoration-color: #00af00\">1024</span>)           │        <span style=\"color: #00af00; text-decoration-color: #00af00\">33,792</span> │\n",
       "├─────────────────────────────────┼────────────────────────┼───────────────┤\n",
       "│ dense_11 (<span style=\"color: #0087ff; text-decoration-color: #0087ff\">Dense</span>)                │ (<span style=\"color: #00d7ff; text-decoration-color: #00d7ff\">None</span>, <span style=\"color: #00af00; text-decoration-color: #00af00\">512</span>)            │       <span style=\"color: #00af00; text-decoration-color: #00af00\">524,800</span> │\n",
       "├─────────────────────────────────┼────────────────────────┼───────────────┤\n",
       "│ dense_12 (<span style=\"color: #0087ff; text-decoration-color: #0087ff\">Dense</span>)                │ (<span style=\"color: #00d7ff; text-decoration-color: #00d7ff\">None</span>, <span style=\"color: #00af00; text-decoration-color: #00af00\">128</span>)            │        <span style=\"color: #00af00; text-decoration-color: #00af00\">65,664</span> │\n",
       "├─────────────────────────────────┼────────────────────────┼───────────────┤\n",
       "│ dense_13 (<span style=\"color: #0087ff; text-decoration-color: #0087ff\">Dense</span>)                │ (<span style=\"color: #00d7ff; text-decoration-color: #00d7ff\">None</span>, <span style=\"color: #00af00; text-decoration-color: #00af00\">3</span>)              │           <span style=\"color: #00af00; text-decoration-color: #00af00\">387</span> │\n",
       "└─────────────────────────────────┴────────────────────────┴───────────────┘\n",
       "</pre>\n"
      ],
      "text/plain": [
       "┏━━━━━━━━━━━━━━━━━━━━━━━━━━━━━━━━━┳━━━━━━━━━━━━━━━━━━━━━━━━┳━━━━━━━━━━━━━━━┓\n",
       "┃\u001b[1m \u001b[0m\u001b[1mLayer (type)                   \u001b[0m\u001b[1m \u001b[0m┃\u001b[1m \u001b[0m\u001b[1mOutput Shape          \u001b[0m\u001b[1m \u001b[0m┃\u001b[1m \u001b[0m\u001b[1m      Param #\u001b[0m\u001b[1m \u001b[0m┃\n",
       "┡━━━━━━━━━━━━━━━━━━━━━━━━━━━━━━━━━╇━━━━━━━━━━━━━━━━━━━━━━━━╇━━━━━━━━━━━━━━━┩\n",
       "│ direction_features_input        │ (\u001b[38;5;45mNone\u001b[0m, \u001b[38;5;34m8\u001b[0m)              │             \u001b[38;5;34m0\u001b[0m │\n",
       "│ (\u001b[38;5;33mInputLayer\u001b[0m)                    │                        │               │\n",
       "├─────────────────────────────────┼────────────────────────┼───────────────┤\n",
       "│ dense_7 (\u001b[38;5;33mDense\u001b[0m)                 │ (\u001b[38;5;45mNone\u001b[0m, \u001b[38;5;34m64\u001b[0m)             │           \u001b[38;5;34m576\u001b[0m │\n",
       "├─────────────────────────────────┼────────────────────────┼───────────────┤\n",
       "│ dropout_7 (\u001b[38;5;33mDropout\u001b[0m)             │ (\u001b[38;5;45mNone\u001b[0m, \u001b[38;5;34m64\u001b[0m)             │             \u001b[38;5;34m0\u001b[0m │\n",
       "├─────────────────────────────────┼────────────────────────┼───────────────┤\n",
       "│ dense_8 (\u001b[38;5;33mDense\u001b[0m)                 │ (\u001b[38;5;45mNone\u001b[0m, \u001b[38;5;34m64\u001b[0m)             │         \u001b[38;5;34m4,160\u001b[0m │\n",
       "├─────────────────────────────────┼────────────────────────┼───────────────┤\n",
       "│ dropout_8 (\u001b[38;5;33mDropout\u001b[0m)             │ (\u001b[38;5;45mNone\u001b[0m, \u001b[38;5;34m64\u001b[0m)             │             \u001b[38;5;34m0\u001b[0m │\n",
       "├─────────────────────────────────┼────────────────────────┼───────────────┤\n",
       "│ dense_9 (\u001b[38;5;33mDense\u001b[0m)                 │ (\u001b[38;5;45mNone\u001b[0m, \u001b[38;5;34m32\u001b[0m)             │         \u001b[38;5;34m2,080\u001b[0m │\n",
       "├─────────────────────────────────┼────────────────────────┼───────────────┤\n",
       "│ dropout_9 (\u001b[38;5;33mDropout\u001b[0m)             │ (\u001b[38;5;45mNone\u001b[0m, \u001b[38;5;34m32\u001b[0m)             │             \u001b[38;5;34m0\u001b[0m │\n",
       "├─────────────────────────────────┼────────────────────────┼───────────────┤\n",
       "│ dense_10 (\u001b[38;5;33mDense\u001b[0m)                │ (\u001b[38;5;45mNone\u001b[0m, \u001b[38;5;34m1024\u001b[0m)           │        \u001b[38;5;34m33,792\u001b[0m │\n",
       "├─────────────────────────────────┼────────────────────────┼───────────────┤\n",
       "│ dense_11 (\u001b[38;5;33mDense\u001b[0m)                │ (\u001b[38;5;45mNone\u001b[0m, \u001b[38;5;34m512\u001b[0m)            │       \u001b[38;5;34m524,800\u001b[0m │\n",
       "├─────────────────────────────────┼────────────────────────┼───────────────┤\n",
       "│ dense_12 (\u001b[38;5;33mDense\u001b[0m)                │ (\u001b[38;5;45mNone\u001b[0m, \u001b[38;5;34m128\u001b[0m)            │        \u001b[38;5;34m65,664\u001b[0m │\n",
       "├─────────────────────────────────┼────────────────────────┼───────────────┤\n",
       "│ dense_13 (\u001b[38;5;33mDense\u001b[0m)                │ (\u001b[38;5;45mNone\u001b[0m, \u001b[38;5;34m3\u001b[0m)              │           \u001b[38;5;34m387\u001b[0m │\n",
       "└─────────────────────────────────┴────────────────────────┴───────────────┘\n"
      ]
     },
     "metadata": {},
     "output_type": "display_data"
    },
    {
     "data": {
      "text/html": [
       "<pre style=\"white-space:pre;overflow-x:auto;line-height:normal;font-family:Menlo,'DejaVu Sans Mono',consolas,'Courier New',monospace\"><span style=\"font-weight: bold\"> Total params: </span><span style=\"color: #00af00; text-decoration-color: #00af00\">631,459</span> (2.41 MB)\n",
       "</pre>\n"
      ],
      "text/plain": [
       "\u001b[1m Total params: \u001b[0m\u001b[38;5;34m631,459\u001b[0m (2.41 MB)\n"
      ]
     },
     "metadata": {},
     "output_type": "display_data"
    },
    {
     "data": {
      "text/html": [
       "<pre style=\"white-space:pre;overflow-x:auto;line-height:normal;font-family:Menlo,'DejaVu Sans Mono',consolas,'Courier New',monospace\"><span style=\"font-weight: bold\"> Trainable params: </span><span style=\"color: #00af00; text-decoration-color: #00af00\">631,459</span> (2.41 MB)\n",
       "</pre>\n"
      ],
      "text/plain": [
       "\u001b[1m Trainable params: \u001b[0m\u001b[38;5;34m631,459\u001b[0m (2.41 MB)\n"
      ]
     },
     "metadata": {},
     "output_type": "display_data"
    },
    {
     "data": {
      "text/html": [
       "<pre style=\"white-space:pre;overflow-x:auto;line-height:normal;font-family:Menlo,'DejaVu Sans Mono',consolas,'Courier New',monospace\"><span style=\"font-weight: bold\"> Non-trainable params: </span><span style=\"color: #00af00; text-decoration-color: #00af00\">0</span> (0.00 B)\n",
       "</pre>\n"
      ],
      "text/plain": [
       "\u001b[1m Non-trainable params: \u001b[0m\u001b[38;5;34m0\u001b[0m (0.00 B)\n"
      ]
     },
     "metadata": {},
     "output_type": "display_data"
    }
   ],
   "source": [
    "\n",
    "# ------------------------------------------------------------------------------\n",
    "# MODELLO MONO-OUTPUT - # 14\n",
    "# ------------------------------------------------------------------------------\n",
    "\n",
    "'''\n",
    "PARTE DIRECTION\n",
    "\n",
    "Come modello 9 ma con data aug\n",
    "'''\n",
    "\n",
    "# Definizione del modello\n",
    "\n",
    "# 2. Ramo per le feature audio\n",
    "input_features = tf.keras.Input(shape=(direction_features_scaled.shape[1],), name='direction_features_input')\n",
    "\n",
    "x2 = tf.keras.layers.Dense(64, activation='relu')(input_features)\n",
    "x2 = tf.keras.layers.Dropout(0.2)(x2)\n",
    "x2 = tf.keras.layers.Dense(64, activation='relu')(x2)\n",
    "x2 = tf.keras.layers.Dropout(0.2)(x2)\n",
    "x2 = tf.keras.layers.Dense(32, activation='relu')(x2)\n",
    "x2 = tf.keras.layers.Dropout(0.2)(x2)\n",
    "\n",
    "# Dense layers finali\n",
    "x = tf.keras.layers.Dense(1024, activation='relu')(x2)\n",
    "x = tf.keras.layers.Dense(512, activation='relu')(x)\n",
    "x = tf.keras.layers.Dense(128, activation='relu')(x)\n",
    "\n",
    "output = tf.keras.layers.Dense(3, activation='softmax')(x)\n",
    "\n",
    "# Modello completo\n",
    "model_14 = tf.keras.Model(inputs=input_features, outputs=output)\n",
    "\n",
    "model_14.summary()\n",
    "\n",
    "\n",
    "model_14.compile(optimizer='adam',\n",
    "                loss='categorical_crossentropy',\n",
    "                metrics=['accuracy'])\n",
    "\n",
    "# Callbacks\n",
    "reduce_lr = tf.keras.callbacks.ReduceLROnPlateau(\n",
    "    monitor='val_vehicle_output_loss',\n",
    "    factor=0.5,\n",
    "    patience=8,\n",
    "    min_lr=1e-6\n",
    ")\n",
    "early_stopping = tf.keras.callbacks.EarlyStopping(\n",
    "    monitor='val_loss',\n",
    "    patience=50,\n",
    "    restore_best_weights=True\n",
    ")\n",
    "model_checkpoint = tf.keras.callbacks.ModelCheckpoint(\n",
    "    filepath='best_model_14.h5',\n",
    "    monitor='val_loss',\n",
    "    save_best_only=True\n",
    ")"
   ]
  },
  {
   "cell_type": "code",
   "execution_count": 12,
   "id": "749b8036",
   "metadata": {},
   "outputs": [
    {
     "name": "stdout",
     "output_type": "stream",
     "text": [
      "Epoch 1/500\n",
      "\u001b[1m377/383\u001b[0m \u001b[32m━━━━━━━━━━━━━━━━━━━\u001b[0m\u001b[37m━\u001b[0m \u001b[1m0s\u001b[0m 4ms/step - accuracy: 0.5236 - loss: 0.9513"
     ]
    },
    {
     "name": "stderr",
     "output_type": "stream",
     "text": [
      "c:\\Users\\matte\\miniconda3\\envs\\env_STMAE\\lib\\site-packages\\keras\\src\\callbacks\\callback_list.py:145: UserWarning: Learning rate reduction is conditioned on metric `val_vehicle_output_loss` which is not available. Available metrics are: accuracy,loss,val_accuracy,val_loss,learning_rate.\n",
      "  callback.on_epoch_end(epoch, logs)\n",
      "WARNING:absl:You are saving your model as an HDF5 file via `model.save()` or `keras.saving.save_model(model)`. This file format is considered legacy. We recommend using instead the native Keras format, e.g. `model.save('my_model.keras')` or `keras.saving.save_model(model, 'my_model.keras')`. \n"
     ]
    },
    {
     "name": "stdout",
     "output_type": "stream",
     "text": [
      "\u001b[1m383/383\u001b[0m \u001b[32m━━━━━━━━━━━━━━━━━━━━\u001b[0m\u001b[37m\u001b[0m \u001b[1m2s\u001b[0m 4ms/step - accuracy: 0.5243 - loss: 0.9501 - val_accuracy: 0.6329 - val_loss: 0.7791 - learning_rate: 0.0010\n",
      "Epoch 2/500\n",
      "\u001b[1m370/383\u001b[0m \u001b[32m━━━━━━━━━━━━━━━━━━━\u001b[0m\u001b[37m━\u001b[0m \u001b[1m0s\u001b[0m 4ms/step - accuracy: 0.6117 - loss: 0.7799"
     ]
    },
    {
     "name": "stderr",
     "output_type": "stream",
     "text": [
      "WARNING:absl:You are saving your model as an HDF5 file via `model.save()` or `keras.saving.save_model(model)`. This file format is considered legacy. We recommend using instead the native Keras format, e.g. `model.save('my_model.keras')` or `keras.saving.save_model(model, 'my_model.keras')`. \n"
     ]
    },
    {
     "name": "stdout",
     "output_type": "stream",
     "text": [
      "\u001b[1m383/383\u001b[0m \u001b[32m━━━━━━━━━━━━━━━━━━━━\u001b[0m\u001b[37m\u001b[0m \u001b[1m2s\u001b[0m 4ms/step - accuracy: 0.6118 - loss: 0.7797 - val_accuracy: 0.6550 - val_loss: 0.7057 - learning_rate: 0.0010\n",
      "Epoch 3/500\n",
      "\u001b[1m370/383\u001b[0m \u001b[32m━━━━━━━━━━━━━━━━━━━\u001b[0m\u001b[37m━\u001b[0m \u001b[1m0s\u001b[0m 3ms/step - accuracy: 0.6346 - loss: 0.7357"
     ]
    },
    {
     "name": "stderr",
     "output_type": "stream",
     "text": [
      "WARNING:absl:You are saving your model as an HDF5 file via `model.save()` or `keras.saving.save_model(model)`. This file format is considered legacy. We recommend using instead the native Keras format, e.g. `model.save('my_model.keras')` or `keras.saving.save_model(model, 'my_model.keras')`. \n"
     ]
    },
    {
     "name": "stdout",
     "output_type": "stream",
     "text": [
      "\u001b[1m383/383\u001b[0m \u001b[32m━━━━━━━━━━━━━━━━━━━━\u001b[0m\u001b[37m\u001b[0m \u001b[1m1s\u001b[0m 4ms/step - accuracy: 0.6348 - loss: 0.7356 - val_accuracy: 0.6828 - val_loss: 0.6700 - learning_rate: 0.0010\n",
      "Epoch 4/500\n",
      "\u001b[1m368/383\u001b[0m \u001b[32m━━━━━━━━━━━━━━━━━━━\u001b[0m\u001b[37m━\u001b[0m \u001b[1m0s\u001b[0m 3ms/step - accuracy: 0.6616 - loss: 0.7044"
     ]
    },
    {
     "name": "stderr",
     "output_type": "stream",
     "text": [
      "WARNING:absl:You are saving your model as an HDF5 file via `model.save()` or `keras.saving.save_model(model)`. This file format is considered legacy. We recommend using instead the native Keras format, e.g. `model.save('my_model.keras')` or `keras.saving.save_model(model, 'my_model.keras')`. \n"
     ]
    },
    {
     "name": "stdout",
     "output_type": "stream",
     "text": [
      "\u001b[1m383/383\u001b[0m \u001b[32m━━━━━━━━━━━━━━━━━━━━\u001b[0m\u001b[37m\u001b[0m \u001b[1m1s\u001b[0m 4ms/step - accuracy: 0.6616 - loss: 0.7043 - val_accuracy: 0.6992 - val_loss: 0.6559 - learning_rate: 0.0010\n",
      "Epoch 5/500\n",
      "\u001b[1m381/383\u001b[0m \u001b[32m━━━━━━━━━━━━━━━━━━━\u001b[0m\u001b[37m━\u001b[0m \u001b[1m0s\u001b[0m 3ms/step - accuracy: 0.6720 - loss: 0.6680"
     ]
    },
    {
     "name": "stderr",
     "output_type": "stream",
     "text": [
      "WARNING:absl:You are saving your model as an HDF5 file via `model.save()` or `keras.saving.save_model(model)`. This file format is considered legacy. We recommend using instead the native Keras format, e.g. `model.save('my_model.keras')` or `keras.saving.save_model(model, 'my_model.keras')`. \n"
     ]
    },
    {
     "name": "stdout",
     "output_type": "stream",
     "text": [
      "\u001b[1m383/383\u001b[0m \u001b[32m━━━━━━━━━━━━━━━━━━━━\u001b[0m\u001b[37m\u001b[0m \u001b[1m1s\u001b[0m 4ms/step - accuracy: 0.6720 - loss: 0.6681 - val_accuracy: 0.6912 - val_loss: 0.6534 - learning_rate: 0.0010\n",
      "Epoch 6/500\n",
      "\u001b[1m368/383\u001b[0m \u001b[32m━━━━━━━━━━━━━━━━━━━\u001b[0m\u001b[37m━\u001b[0m \u001b[1m0s\u001b[0m 3ms/step - accuracy: 0.6887 - loss: 0.6640"
     ]
    },
    {
     "name": "stderr",
     "output_type": "stream",
     "text": [
      "WARNING:absl:You are saving your model as an HDF5 file via `model.save()` or `keras.saving.save_model(model)`. This file format is considered legacy. We recommend using instead the native Keras format, e.g. `model.save('my_model.keras')` or `keras.saving.save_model(model, 'my_model.keras')`. \n"
     ]
    },
    {
     "name": "stdout",
     "output_type": "stream",
     "text": [
      "\u001b[1m383/383\u001b[0m \u001b[32m━━━━━━━━━━━━━━━━━━━━\u001b[0m\u001b[37m\u001b[0m \u001b[1m1s\u001b[0m 4ms/step - accuracy: 0.6886 - loss: 0.6641 - val_accuracy: 0.7190 - val_loss: 0.6210 - learning_rate: 0.0010\n",
      "Epoch 7/500\n",
      "\u001b[1m383/383\u001b[0m \u001b[32m━━━━━━━━━━━━━━━━━━━━\u001b[0m\u001b[37m\u001b[0m \u001b[1m1s\u001b[0m 4ms/step - accuracy: 0.6954 - loss: 0.6480 - val_accuracy: 0.7182 - val_loss: 0.6360 - learning_rate: 0.0010\n",
      "Epoch 8/500\n",
      "\u001b[1m370/383\u001b[0m \u001b[32m━━━━━━━━━━━━━━━━━━━\u001b[0m\u001b[37m━\u001b[0m \u001b[1m0s\u001b[0m 3ms/step - accuracy: 0.7004 - loss: 0.6440"
     ]
    },
    {
     "name": "stderr",
     "output_type": "stream",
     "text": [
      "WARNING:absl:You are saving your model as an HDF5 file via `model.save()` or `keras.saving.save_model(model)`. This file format is considered legacy. We recommend using instead the native Keras format, e.g. `model.save('my_model.keras')` or `keras.saving.save_model(model, 'my_model.keras')`. \n"
     ]
    },
    {
     "name": "stdout",
     "output_type": "stream",
     "text": [
      "\u001b[1m383/383\u001b[0m \u001b[32m━━━━━━━━━━━━━━━━━━━━\u001b[0m\u001b[37m\u001b[0m \u001b[1m1s\u001b[0m 4ms/step - accuracy: 0.7003 - loss: 0.6441 - val_accuracy: 0.7178 - val_loss: 0.5944 - learning_rate: 0.0010\n",
      "Epoch 9/500\n",
      "\u001b[1m383/383\u001b[0m \u001b[32m━━━━━━━━━━━━━━━━━━━━\u001b[0m\u001b[37m\u001b[0m \u001b[1m1s\u001b[0m 4ms/step - accuracy: 0.6963 - loss: 0.6400 - val_accuracy: 0.7201 - val_loss: 0.6047 - learning_rate: 0.0010\n",
      "Epoch 10/500\n",
      "\u001b[1m372/383\u001b[0m \u001b[32m━━━━━━━━━━━━━━━━━━━\u001b[0m\u001b[37m━\u001b[0m \u001b[1m0s\u001b[0m 3ms/step - accuracy: 0.7071 - loss: 0.6232"
     ]
    },
    {
     "name": "stderr",
     "output_type": "stream",
     "text": [
      "WARNING:absl:You are saving your model as an HDF5 file via `model.save()` or `keras.saving.save_model(model)`. This file format is considered legacy. We recommend using instead the native Keras format, e.g. `model.save('my_model.keras')` or `keras.saving.save_model(model, 'my_model.keras')`. \n"
     ]
    },
    {
     "name": "stdout",
     "output_type": "stream",
     "text": [
      "\u001b[1m383/383\u001b[0m \u001b[32m━━━━━━━━━━━━━━━━━━━━\u001b[0m\u001b[37m\u001b[0m \u001b[1m1s\u001b[0m 4ms/step - accuracy: 0.7070 - loss: 0.6233 - val_accuracy: 0.7289 - val_loss: 0.5791 - learning_rate: 0.0010\n",
      "Epoch 11/500\n",
      "\u001b[1m376/383\u001b[0m \u001b[32m━━━━━━━━━━━━━━━━━━━\u001b[0m\u001b[37m━\u001b[0m \u001b[1m0s\u001b[0m 3ms/step - accuracy: 0.7075 - loss: 0.6218"
     ]
    },
    {
     "name": "stderr",
     "output_type": "stream",
     "text": [
      "WARNING:absl:You are saving your model as an HDF5 file via `model.save()` or `keras.saving.save_model(model)`. This file format is considered legacy. We recommend using instead the native Keras format, e.g. `model.save('my_model.keras')` or `keras.saving.save_model(model, 'my_model.keras')`. \n"
     ]
    },
    {
     "name": "stdout",
     "output_type": "stream",
     "text": [
      "\u001b[1m383/383\u001b[0m \u001b[32m━━━━━━━━━━━━━━━━━━━━\u001b[0m\u001b[37m\u001b[0m \u001b[1m1s\u001b[0m 4ms/step - accuracy: 0.7076 - loss: 0.6218 - val_accuracy: 0.7342 - val_loss: 0.5740 - learning_rate: 0.0010\n",
      "Epoch 12/500\n",
      "\u001b[1m383/383\u001b[0m \u001b[32m━━━━━━━━━━━━━━━━━━━━\u001b[0m\u001b[37m\u001b[0m \u001b[1m1s\u001b[0m 4ms/step - accuracy: 0.7083 - loss: 0.6237 - val_accuracy: 0.7262 - val_loss: 0.5872 - learning_rate: 0.0010\n",
      "Epoch 13/500\n",
      "\u001b[1m383/383\u001b[0m \u001b[32m━━━━━━━━━━━━━━━━━━━━\u001b[0m\u001b[37m\u001b[0m \u001b[1m1s\u001b[0m 3ms/step - accuracy: 0.7267 - loss: 0.6022 - val_accuracy: 0.7407 - val_loss: 0.5770 - learning_rate: 0.0010\n",
      "Epoch 14/500\n",
      "\u001b[1m383/383\u001b[0m \u001b[32m━━━━━━━━━━━━━━━━━━━━\u001b[0m\u001b[37m\u001b[0m \u001b[1m1s\u001b[0m 3ms/step - accuracy: 0.7203 - loss: 0.6038 - val_accuracy: 0.7479 - val_loss: 0.5815 - learning_rate: 0.0010\n",
      "Epoch 15/500\n",
      "\u001b[1m383/383\u001b[0m \u001b[32m━━━━━━━━━━━━━━━━━━━━\u001b[0m\u001b[37m\u001b[0m \u001b[1m1s\u001b[0m 3ms/step - accuracy: 0.7173 - loss: 0.6059 - val_accuracy: 0.7285 - val_loss: 0.5807 - learning_rate: 0.0010\n",
      "Epoch 16/500\n",
      "\u001b[1m383/383\u001b[0m \u001b[32m━━━━━━━━━━━━━━━━━━━━\u001b[0m\u001b[37m\u001b[0m \u001b[1m1s\u001b[0m 4ms/step - accuracy: 0.7279 - loss: 0.5929 - val_accuracy: 0.7376 - val_loss: 0.5807 - learning_rate: 0.0010\n",
      "Epoch 17/500\n",
      "\u001b[1m383/383\u001b[0m \u001b[32m━━━━━━━━━━━━━━━━━━━━\u001b[0m\u001b[37m\u001b[0m \u001b[1m1s\u001b[0m 3ms/step - accuracy: 0.7219 - loss: 0.5977 - val_accuracy: 0.7292 - val_loss: 0.5787 - learning_rate: 0.0010\n",
      "Epoch 18/500\n",
      "\u001b[1m380/383\u001b[0m \u001b[32m━━━━━━━━━━━━━━━━━━━\u001b[0m\u001b[37m━\u001b[0m \u001b[1m0s\u001b[0m 3ms/step - accuracy: 0.7206 - loss: 0.5958"
     ]
    },
    {
     "name": "stderr",
     "output_type": "stream",
     "text": [
      "WARNING:absl:You are saving your model as an HDF5 file via `model.save()` or `keras.saving.save_model(model)`. This file format is considered legacy. We recommend using instead the native Keras format, e.g. `model.save('my_model.keras')` or `keras.saving.save_model(model, 'my_model.keras')`. \n"
     ]
    },
    {
     "name": "stdout",
     "output_type": "stream",
     "text": [
      "\u001b[1m383/383\u001b[0m \u001b[32m━━━━━━━━━━━━━━━━━━━━\u001b[0m\u001b[37m\u001b[0m \u001b[1m1s\u001b[0m 4ms/step - accuracy: 0.7205 - loss: 0.5958 - val_accuracy: 0.7376 - val_loss: 0.5718 - learning_rate: 0.0010\n",
      "Epoch 19/500\n",
      "\u001b[1m383/383\u001b[0m \u001b[32m━━━━━━━━━━━━━━━━━━━━\u001b[0m\u001b[37m\u001b[0m \u001b[1m1s\u001b[0m 4ms/step - accuracy: 0.7227 - loss: 0.6068 - val_accuracy: 0.7296 - val_loss: 0.5817 - learning_rate: 0.0010\n",
      "Epoch 20/500\n",
      "\u001b[1m375/383\u001b[0m \u001b[32m━━━━━━━━━━━━━━━━━━━\u001b[0m\u001b[37m━\u001b[0m \u001b[1m0s\u001b[0m 3ms/step - accuracy: 0.7348 - loss: 0.5862"
     ]
    },
    {
     "name": "stderr",
     "output_type": "stream",
     "text": [
      "WARNING:absl:You are saving your model as an HDF5 file via `model.save()` or `keras.saving.save_model(model)`. This file format is considered legacy. We recommend using instead the native Keras format, e.g. `model.save('my_model.keras')` or `keras.saving.save_model(model, 'my_model.keras')`. \n"
     ]
    },
    {
     "name": "stdout",
     "output_type": "stream",
     "text": [
      "\u001b[1m383/383\u001b[0m \u001b[32m━━━━━━━━━━━━━━━━━━━━\u001b[0m\u001b[37m\u001b[0m \u001b[1m1s\u001b[0m 4ms/step - accuracy: 0.7347 - loss: 0.5863 - val_accuracy: 0.7342 - val_loss: 0.5649 - learning_rate: 0.0010\n",
      "Epoch 21/500\n",
      "\u001b[1m383/383\u001b[0m \u001b[32m━━━━━━━━━━━━━━━━━━━━\u001b[0m\u001b[37m\u001b[0m \u001b[1m1s\u001b[0m 4ms/step - accuracy: 0.7286 - loss: 0.5856 - val_accuracy: 0.7319 - val_loss: 0.5656 - learning_rate: 0.0010\n",
      "Epoch 22/500\n",
      "\u001b[1m383/383\u001b[0m \u001b[32m━━━━━━━━━━━━━━━━━━━━\u001b[0m\u001b[37m\u001b[0m \u001b[1m1s\u001b[0m 4ms/step - accuracy: 0.7361 - loss: 0.5813 - val_accuracy: 0.7106 - val_loss: 0.5938 - learning_rate: 0.0010\n",
      "Epoch 23/500\n",
      "\u001b[1m381/383\u001b[0m \u001b[32m━━━━━━━━━━━━━━━━━━━\u001b[0m\u001b[37m━\u001b[0m \u001b[1m0s\u001b[0m 3ms/step - accuracy: 0.7263 - loss: 0.5820"
     ]
    },
    {
     "name": "stderr",
     "output_type": "stream",
     "text": [
      "WARNING:absl:You are saving your model as an HDF5 file via `model.save()` or `keras.saving.save_model(model)`. This file format is considered legacy. We recommend using instead the native Keras format, e.g. `model.save('my_model.keras')` or `keras.saving.save_model(model, 'my_model.keras')`. \n"
     ]
    },
    {
     "name": "stdout",
     "output_type": "stream",
     "text": [
      "\u001b[1m383/383\u001b[0m \u001b[32m━━━━━━━━━━━━━━━━━━━━\u001b[0m\u001b[37m\u001b[0m \u001b[1m1s\u001b[0m 4ms/step - accuracy: 0.7263 - loss: 0.5820 - val_accuracy: 0.7494 - val_loss: 0.5621 - learning_rate: 0.0010\n",
      "Epoch 24/500\n",
      "\u001b[1m383/383\u001b[0m \u001b[32m━━━━━━━━━━━━━━━━━━━━\u001b[0m\u001b[37m\u001b[0m \u001b[1m1s\u001b[0m 4ms/step - accuracy: 0.7270 - loss: 0.5860 - val_accuracy: 0.7399 - val_loss: 0.5668 - learning_rate: 0.0010\n",
      "Epoch 25/500\n",
      "\u001b[1m383/383\u001b[0m \u001b[32m━━━━━━━━━━━━━━━━━━━━\u001b[0m\u001b[37m\u001b[0m \u001b[1m0s\u001b[0m 3ms/step - accuracy: 0.7300 - loss: 0.5853"
     ]
    },
    {
     "name": "stderr",
     "output_type": "stream",
     "text": [
      "WARNING:absl:You are saving your model as an HDF5 file via `model.save()` or `keras.saving.save_model(model)`. This file format is considered legacy. We recommend using instead the native Keras format, e.g. `model.save('my_model.keras')` or `keras.saving.save_model(model, 'my_model.keras')`. \n"
     ]
    },
    {
     "name": "stdout",
     "output_type": "stream",
     "text": [
      "\u001b[1m383/383\u001b[0m \u001b[32m━━━━━━━━━━━━━━━━━━━━\u001b[0m\u001b[37m\u001b[0m \u001b[1m1s\u001b[0m 4ms/step - accuracy: 0.7300 - loss: 0.5853 - val_accuracy: 0.7487 - val_loss: 0.5545 - learning_rate: 0.0010\n",
      "Epoch 26/500\n",
      "\u001b[1m383/383\u001b[0m \u001b[32m━━━━━━━━━━━━━━━━━━━━\u001b[0m\u001b[37m\u001b[0m \u001b[1m1s\u001b[0m 4ms/step - accuracy: 0.7360 - loss: 0.5714 - val_accuracy: 0.7327 - val_loss: 0.5747 - learning_rate: 0.0010\n",
      "Epoch 27/500\n",
      "\u001b[1m383/383\u001b[0m \u001b[32m━━━━━━━━━━━━━━━━━━━━\u001b[0m\u001b[37m\u001b[0m \u001b[1m1s\u001b[0m 3ms/step - accuracy: 0.7330 - loss: 0.5800 - val_accuracy: 0.7281 - val_loss: 0.5696 - learning_rate: 0.0010\n",
      "Epoch 28/500\n",
      "\u001b[1m383/383\u001b[0m \u001b[32m━━━━━━━━━━━━━━━━━━━━\u001b[0m\u001b[37m\u001b[0m \u001b[1m1s\u001b[0m 4ms/step - accuracy: 0.7309 - loss: 0.5770 - val_accuracy: 0.7414 - val_loss: 0.5637 - learning_rate: 0.0010\n",
      "Epoch 29/500\n",
      "\u001b[1m383/383\u001b[0m \u001b[32m━━━━━━━━━━━━━━━━━━━━\u001b[0m\u001b[37m\u001b[0m \u001b[1m1s\u001b[0m 3ms/step - accuracy: 0.7296 - loss: 0.5830 - val_accuracy: 0.7342 - val_loss: 0.5748 - learning_rate: 0.0010\n",
      "Epoch 30/500\n",
      "\u001b[1m383/383\u001b[0m \u001b[32m━━━━━━━━━━━━━━━━━━━━\u001b[0m\u001b[37m\u001b[0m \u001b[1m1s\u001b[0m 4ms/step - accuracy: 0.7404 - loss: 0.5710 - val_accuracy: 0.7258 - val_loss: 0.5643 - learning_rate: 0.0010\n",
      "Epoch 31/500\n",
      "\u001b[1m383/383\u001b[0m \u001b[32m━━━━━━━━━━━━━━━━━━━━\u001b[0m\u001b[37m\u001b[0m \u001b[1m1s\u001b[0m 4ms/step - accuracy: 0.7287 - loss: 0.5787 - val_accuracy: 0.7376 - val_loss: 0.5616 - learning_rate: 0.0010\n",
      "Epoch 32/500\n",
      "\u001b[1m383/383\u001b[0m \u001b[32m━━━━━━━━━━━━━━━━━━━━\u001b[0m\u001b[37m\u001b[0m \u001b[1m1s\u001b[0m 4ms/step - accuracy: 0.7377 - loss: 0.5625 - val_accuracy: 0.7346 - val_loss: 0.5670 - learning_rate: 0.0010\n",
      "Epoch 33/500\n",
      "\u001b[1m383/383\u001b[0m \u001b[32m━━━━━━━━━━━━━━━━━━━━\u001b[0m\u001b[37m\u001b[0m \u001b[1m1s\u001b[0m 4ms/step - accuracy: 0.7439 - loss: 0.5596 - val_accuracy: 0.7163 - val_loss: 0.5694 - learning_rate: 0.0010\n",
      "Epoch 34/500\n",
      "\u001b[1m383/383\u001b[0m \u001b[32m━━━━━━━━━━━━━━━━━━━━\u001b[0m\u001b[37m\u001b[0m \u001b[1m1s\u001b[0m 4ms/step - accuracy: 0.7316 - loss: 0.5752 - val_accuracy: 0.7456 - val_loss: 0.5551 - learning_rate: 0.0010\n",
      "Epoch 35/500\n",
      "\u001b[1m383/383\u001b[0m \u001b[32m━━━━━━━━━━━━━━━━━━━━\u001b[0m\u001b[37m\u001b[0m \u001b[1m1s\u001b[0m 3ms/step - accuracy: 0.7382 - loss: 0.5623 - val_accuracy: 0.7369 - val_loss: 0.5558 - learning_rate: 0.0010\n",
      "Epoch 36/500\n",
      "\u001b[1m383/383\u001b[0m \u001b[32m━━━━━━━━━━━━━━━━━━━━\u001b[0m\u001b[37m\u001b[0m \u001b[1m1s\u001b[0m 3ms/step - accuracy: 0.7395 - loss: 0.5624 - val_accuracy: 0.7433 - val_loss: 0.5588 - learning_rate: 0.0010\n",
      "Epoch 37/500\n",
      "\u001b[1m368/383\u001b[0m \u001b[32m━━━━━━━━━━━━━━━━━━━\u001b[0m\u001b[37m━\u001b[0m \u001b[1m0s\u001b[0m 3ms/step - accuracy: 0.7455 - loss: 0.5646"
     ]
    },
    {
     "name": "stderr",
     "output_type": "stream",
     "text": [
      "WARNING:absl:You are saving your model as an HDF5 file via `model.save()` or `keras.saving.save_model(model)`. This file format is considered legacy. We recommend using instead the native Keras format, e.g. `model.save('my_model.keras')` or `keras.saving.save_model(model, 'my_model.keras')`. \n"
     ]
    },
    {
     "name": "stdout",
     "output_type": "stream",
     "text": [
      "\u001b[1m383/383\u001b[0m \u001b[32m━━━━━━━━━━━━━━━━━━━━\u001b[0m\u001b[37m\u001b[0m \u001b[1m1s\u001b[0m 4ms/step - accuracy: 0.7453 - loss: 0.5648 - val_accuracy: 0.7506 - val_loss: 0.5527 - learning_rate: 0.0010\n",
      "Epoch 38/500\n",
      "\u001b[1m383/383\u001b[0m \u001b[32m━━━━━━━━━━━━━━━━━━━━\u001b[0m\u001b[37m\u001b[0m \u001b[1m1s\u001b[0m 4ms/step - accuracy: 0.7443 - loss: 0.5610 - val_accuracy: 0.7521 - val_loss: 0.5529 - learning_rate: 0.0010\n",
      "Epoch 39/500\n",
      "\u001b[1m383/383\u001b[0m \u001b[32m━━━━━━━━━━━━━━━━━━━━\u001b[0m\u001b[37m\u001b[0m \u001b[1m1s\u001b[0m 4ms/step - accuracy: 0.7359 - loss: 0.5689 - val_accuracy: 0.7464 - val_loss: 0.5588 - learning_rate: 0.0010\n",
      "Epoch 40/500\n",
      "\u001b[1m377/383\u001b[0m \u001b[32m━━━━━━━━━━━━━━━━━━━\u001b[0m\u001b[37m━\u001b[0m \u001b[1m0s\u001b[0m 3ms/step - accuracy: 0.7400 - loss: 0.5647"
     ]
    },
    {
     "name": "stderr",
     "output_type": "stream",
     "text": [
      "WARNING:absl:You are saving your model as an HDF5 file via `model.save()` or `keras.saving.save_model(model)`. This file format is considered legacy. We recommend using instead the native Keras format, e.g. `model.save('my_model.keras')` or `keras.saving.save_model(model, 'my_model.keras')`. \n"
     ]
    },
    {
     "name": "stdout",
     "output_type": "stream",
     "text": [
      "\u001b[1m383/383\u001b[0m \u001b[32m━━━━━━━━━━━━━━━━━━━━\u001b[0m\u001b[37m\u001b[0m \u001b[1m1s\u001b[0m 4ms/step - accuracy: 0.7401 - loss: 0.5647 - val_accuracy: 0.7449 - val_loss: 0.5500 - learning_rate: 0.0010\n",
      "Epoch 41/500\n",
      "\u001b[1m383/383\u001b[0m \u001b[32m━━━━━━━━━━━━━━━━━━━━\u001b[0m\u001b[37m\u001b[0m \u001b[1m1s\u001b[0m 4ms/step - accuracy: 0.7487 - loss: 0.5488 - val_accuracy: 0.7445 - val_loss: 0.5519 - learning_rate: 0.0010\n",
      "Epoch 42/500\n",
      "\u001b[1m383/383\u001b[0m \u001b[32m━━━━━━━━━━━━━━━━━━━━\u001b[0m\u001b[37m\u001b[0m \u001b[1m1s\u001b[0m 3ms/step - accuracy: 0.7333 - loss: 0.5733 - val_accuracy: 0.7487 - val_loss: 0.5540 - learning_rate: 0.0010\n",
      "Epoch 43/500\n",
      "\u001b[1m383/383\u001b[0m \u001b[32m━━━━━━━━━━━━━━━━━━━━\u001b[0m\u001b[37m\u001b[0m \u001b[1m1s\u001b[0m 4ms/step - accuracy: 0.7313 - loss: 0.5711 - val_accuracy: 0.7460 - val_loss: 0.5530 - learning_rate: 0.0010\n",
      "Epoch 44/500\n",
      "\u001b[1m383/383\u001b[0m \u001b[32m━━━━━━━━━━━━━━━━━━━━\u001b[0m\u001b[37m\u001b[0m \u001b[1m1s\u001b[0m 4ms/step - accuracy: 0.7460 - loss: 0.5527 - val_accuracy: 0.7510 - val_loss: 0.5503 - learning_rate: 0.0010\n",
      "Epoch 45/500\n",
      "\u001b[1m383/383\u001b[0m \u001b[32m━━━━━━━━━━━━━━━━━━━━\u001b[0m\u001b[37m\u001b[0m \u001b[1m1s\u001b[0m 3ms/step - accuracy: 0.7455 - loss: 0.5627 - val_accuracy: 0.7517 - val_loss: 0.5559 - learning_rate: 0.0010\n",
      "Epoch 46/500\n",
      "\u001b[1m383/383\u001b[0m \u001b[32m━━━━━━━━━━━━━━━━━━━━\u001b[0m\u001b[37m\u001b[0m \u001b[1m1s\u001b[0m 4ms/step - accuracy: 0.7480 - loss: 0.5469 - val_accuracy: 0.7460 - val_loss: 0.5630 - learning_rate: 0.0010\n",
      "Epoch 47/500\n",
      "\u001b[1m383/383\u001b[0m \u001b[32m━━━━━━━━━━━━━━━━━━━━\u001b[0m\u001b[37m\u001b[0m \u001b[1m1s\u001b[0m 4ms/step - accuracy: 0.7479 - loss: 0.5571 - val_accuracy: 0.7418 - val_loss: 0.5524 - learning_rate: 0.0010\n",
      "Epoch 48/500\n",
      "\u001b[1m370/383\u001b[0m \u001b[32m━━━━━━━━━━━━━━━━━━━\u001b[0m\u001b[37m━\u001b[0m \u001b[1m0s\u001b[0m 3ms/step - accuracy: 0.7534 - loss: 0.5438"
     ]
    },
    {
     "name": "stderr",
     "output_type": "stream",
     "text": [
      "WARNING:absl:You are saving your model as an HDF5 file via `model.save()` or `keras.saving.save_model(model)`. This file format is considered legacy. We recommend using instead the native Keras format, e.g. `model.save('my_model.keras')` or `keras.saving.save_model(model, 'my_model.keras')`. \n"
     ]
    },
    {
     "name": "stdout",
     "output_type": "stream",
     "text": [
      "\u001b[1m383/383\u001b[0m \u001b[32m━━━━━━━━━━━━━━━━━━━━\u001b[0m\u001b[37m\u001b[0m \u001b[1m1s\u001b[0m 4ms/step - accuracy: 0.7532 - loss: 0.5443 - val_accuracy: 0.7540 - val_loss: 0.5468 - learning_rate: 0.0010\n",
      "Epoch 49/500\n",
      "\u001b[1m383/383\u001b[0m \u001b[32m━━━━━━━━━━━━━━━━━━━━\u001b[0m\u001b[37m\u001b[0m \u001b[1m1s\u001b[0m 4ms/step - accuracy: 0.7457 - loss: 0.5563 - val_accuracy: 0.7376 - val_loss: 0.5547 - learning_rate: 0.0010\n",
      "Epoch 50/500\n",
      "\u001b[1m383/383\u001b[0m \u001b[32m━━━━━━━━━━━━━━━━━━━━\u001b[0m\u001b[37m\u001b[0m \u001b[1m1s\u001b[0m 4ms/step - accuracy: 0.7481 - loss: 0.5545 - val_accuracy: 0.7452 - val_loss: 0.5612 - learning_rate: 0.0010\n",
      "Epoch 51/500\n",
      "\u001b[1m383/383\u001b[0m \u001b[32m━━━━━━━━━━━━━━━━━━━━\u001b[0m\u001b[37m\u001b[0m \u001b[1m1s\u001b[0m 3ms/step - accuracy: 0.7527 - loss: 0.5454 - val_accuracy: 0.7395 - val_loss: 0.5578 - learning_rate: 0.0010\n",
      "Epoch 52/500\n",
      "\u001b[1m383/383\u001b[0m \u001b[32m━━━━━━━━━━━━━━━━━━━━\u001b[0m\u001b[37m\u001b[0m \u001b[1m1s\u001b[0m 4ms/step - accuracy: 0.7515 - loss: 0.5535 - val_accuracy: 0.7487 - val_loss: 0.5545 - learning_rate: 0.0010\n",
      "Epoch 53/500\n",
      "\u001b[1m383/383\u001b[0m \u001b[32m━━━━━━━━━━━━━━━━━━━━\u001b[0m\u001b[37m\u001b[0m \u001b[1m2s\u001b[0m 4ms/step - accuracy: 0.7469 - loss: 0.5519 - val_accuracy: 0.7540 - val_loss: 0.5509 - learning_rate: 0.0010\n",
      "Epoch 54/500\n",
      "\u001b[1m383/383\u001b[0m \u001b[32m━━━━━━━━━━━━━━━━━━━━\u001b[0m\u001b[37m\u001b[0m \u001b[1m2s\u001b[0m 4ms/step - accuracy: 0.7485 - loss: 0.5558 - val_accuracy: 0.7475 - val_loss: 0.5575 - learning_rate: 0.0010\n",
      "Epoch 55/500\n",
      "\u001b[1m383/383\u001b[0m \u001b[32m━━━━━━━━━━━━━━━━━━━━\u001b[0m\u001b[37m\u001b[0m \u001b[1m1s\u001b[0m 4ms/step - accuracy: 0.7513 - loss: 0.5428 - val_accuracy: 0.7502 - val_loss: 0.5599 - learning_rate: 0.0010\n",
      "Epoch 56/500\n",
      "\u001b[1m383/383\u001b[0m \u001b[32m━━━━━━━━━━━━━━━━━━━━\u001b[0m\u001b[37m\u001b[0m \u001b[1m2s\u001b[0m 4ms/step - accuracy: 0.7443 - loss: 0.5523 - val_accuracy: 0.7452 - val_loss: 0.5519 - learning_rate: 0.0010\n",
      "Epoch 57/500\n",
      "\u001b[1m383/383\u001b[0m \u001b[32m━━━━━━━━━━━━━━━━━━━━\u001b[0m\u001b[37m\u001b[0m \u001b[1m1s\u001b[0m 4ms/step - accuracy: 0.7430 - loss: 0.5500 - val_accuracy: 0.7418 - val_loss: 0.5571 - learning_rate: 0.0010\n",
      "Epoch 58/500\n",
      "\u001b[1m378/383\u001b[0m \u001b[32m━━━━━━━━━━━━━━━━━━━\u001b[0m\u001b[37m━\u001b[0m \u001b[1m0s\u001b[0m 3ms/step - accuracy: 0.7558 - loss: 0.5402"
     ]
    },
    {
     "name": "stderr",
     "output_type": "stream",
     "text": [
      "WARNING:absl:You are saving your model as an HDF5 file via `model.save()` or `keras.saving.save_model(model)`. This file format is considered legacy. We recommend using instead the native Keras format, e.g. `model.save('my_model.keras')` or `keras.saving.save_model(model, 'my_model.keras')`. \n"
     ]
    },
    {
     "name": "stdout",
     "output_type": "stream",
     "text": [
      "\u001b[1m383/383\u001b[0m \u001b[32m━━━━━━━━━━━━━━━━━━━━\u001b[0m\u001b[37m\u001b[0m \u001b[1m1s\u001b[0m 4ms/step - accuracy: 0.7557 - loss: 0.5404 - val_accuracy: 0.7582 - val_loss: 0.5393 - learning_rate: 0.0010\n",
      "Epoch 59/500\n",
      "\u001b[1m383/383\u001b[0m \u001b[32m━━━━━━━━━━━━━━━━━━━━\u001b[0m\u001b[37m\u001b[0m \u001b[1m1s\u001b[0m 4ms/step - accuracy: 0.7430 - loss: 0.5560 - val_accuracy: 0.7460 - val_loss: 0.5526 - learning_rate: 0.0010\n",
      "Epoch 60/500\n",
      "\u001b[1m383/383\u001b[0m \u001b[32m━━━━━━━━━━━━━━━━━━━━\u001b[0m\u001b[37m\u001b[0m \u001b[1m1s\u001b[0m 4ms/step - accuracy: 0.7527 - loss: 0.5417 - val_accuracy: 0.7460 - val_loss: 0.5486 - learning_rate: 0.0010\n",
      "Epoch 61/500\n",
      "\u001b[1m383/383\u001b[0m \u001b[32m━━━━━━━━━━━━━━━━━━━━\u001b[0m\u001b[37m\u001b[0m \u001b[1m1s\u001b[0m 4ms/step - accuracy: 0.7542 - loss: 0.5443 - val_accuracy: 0.7399 - val_loss: 0.5508 - learning_rate: 0.0010\n",
      "Epoch 62/500\n",
      "\u001b[1m383/383\u001b[0m \u001b[32m━━━━━━━━━━━━━━━━━━━━\u001b[0m\u001b[37m\u001b[0m \u001b[1m1s\u001b[0m 4ms/step - accuracy: 0.7478 - loss: 0.5502 - val_accuracy: 0.7612 - val_loss: 0.5396 - learning_rate: 0.0010\n",
      "Epoch 63/500\n",
      "\u001b[1m383/383\u001b[0m \u001b[32m━━━━━━━━━━━━━━━━━━━━\u001b[0m\u001b[37m\u001b[0m \u001b[1m1s\u001b[0m 4ms/step - accuracy: 0.7466 - loss: 0.5531 - val_accuracy: 0.7449 - val_loss: 0.5556 - learning_rate: 0.0010\n",
      "Epoch 64/500\n",
      "\u001b[1m383/383\u001b[0m \u001b[32m━━━━━━━━━━━━━━━━━━━━\u001b[0m\u001b[37m\u001b[0m \u001b[1m1s\u001b[0m 4ms/step - accuracy: 0.7523 - loss: 0.5433 - val_accuracy: 0.7422 - val_loss: 0.5463 - learning_rate: 0.0010\n",
      "Epoch 65/500\n",
      "\u001b[1m383/383\u001b[0m \u001b[32m━━━━━━━━━━━━━━━━━━━━\u001b[0m\u001b[37m\u001b[0m \u001b[1m2s\u001b[0m 4ms/step - accuracy: 0.7522 - loss: 0.5453 - val_accuracy: 0.7483 - val_loss: 0.5663 - learning_rate: 0.0010\n",
      "Epoch 66/500\n",
      "\u001b[1m383/383\u001b[0m \u001b[32m━━━━━━━━━━━━━━━━━━━━\u001b[0m\u001b[37m\u001b[0m \u001b[1m1s\u001b[0m 4ms/step - accuracy: 0.7602 - loss: 0.5392 - val_accuracy: 0.7483 - val_loss: 0.5409 - learning_rate: 0.0010\n",
      "Epoch 67/500\n",
      "\u001b[1m383/383\u001b[0m \u001b[32m━━━━━━━━━━━━━━━━━━━━\u001b[0m\u001b[37m\u001b[0m \u001b[1m1s\u001b[0m 4ms/step - accuracy: 0.7540 - loss: 0.5447 - val_accuracy: 0.7563 - val_loss: 0.5400 - learning_rate: 0.0010\n",
      "Epoch 68/500\n",
      "\u001b[1m370/383\u001b[0m \u001b[32m━━━━━━━━━━━━━━━━━━━\u001b[0m\u001b[37m━\u001b[0m \u001b[1m0s\u001b[0m 3ms/step - accuracy: 0.7502 - loss: 0.5454"
     ]
    },
    {
     "name": "stderr",
     "output_type": "stream",
     "text": [
      "WARNING:absl:You are saving your model as an HDF5 file via `model.save()` or `keras.saving.save_model(model)`. This file format is considered legacy. We recommend using instead the native Keras format, e.g. `model.save('my_model.keras')` or `keras.saving.save_model(model, 'my_model.keras')`. \n"
     ]
    },
    {
     "name": "stdout",
     "output_type": "stream",
     "text": [
      "\u001b[1m383/383\u001b[0m \u001b[32m━━━━━━━━━━━━━━━━━━━━\u001b[0m\u001b[37m\u001b[0m \u001b[1m2s\u001b[0m 4ms/step - accuracy: 0.7503 - loss: 0.5452 - val_accuracy: 0.7620 - val_loss: 0.5391 - learning_rate: 0.0010\n",
      "Epoch 69/500\n",
      "\u001b[1m371/383\u001b[0m \u001b[32m━━━━━━━━━━━━━━━━━━━\u001b[0m\u001b[37m━\u001b[0m \u001b[1m0s\u001b[0m 3ms/step - accuracy: 0.7530 - loss: 0.5378"
     ]
    },
    {
     "name": "stderr",
     "output_type": "stream",
     "text": [
      "WARNING:absl:You are saving your model as an HDF5 file via `model.save()` or `keras.saving.save_model(model)`. This file format is considered legacy. We recommend using instead the native Keras format, e.g. `model.save('my_model.keras')` or `keras.saving.save_model(model, 'my_model.keras')`. \n"
     ]
    },
    {
     "name": "stdout",
     "output_type": "stream",
     "text": [
      "\u001b[1m383/383\u001b[0m \u001b[32m━━━━━━━━━━━━━━━━━━━━\u001b[0m\u001b[37m\u001b[0m \u001b[1m2s\u001b[0m 4ms/step - accuracy: 0.7529 - loss: 0.5380 - val_accuracy: 0.7620 - val_loss: 0.5371 - learning_rate: 0.0010\n",
      "Epoch 70/500\n",
      "\u001b[1m383/383\u001b[0m \u001b[32m━━━━━━━━━━━━━━━━━━━━\u001b[0m\u001b[37m\u001b[0m \u001b[1m1s\u001b[0m 4ms/step - accuracy: 0.7571 - loss: 0.5417 - val_accuracy: 0.7517 - val_loss: 0.5506 - learning_rate: 0.0010\n",
      "Epoch 71/500\n",
      "\u001b[1m383/383\u001b[0m \u001b[32m━━━━━━━━━━━━━━━━━━━━\u001b[0m\u001b[37m\u001b[0m \u001b[1m1s\u001b[0m 4ms/step - accuracy: 0.7504 - loss: 0.5452 - val_accuracy: 0.7559 - val_loss: 0.5505 - learning_rate: 0.0010\n",
      "Epoch 72/500\n",
      "\u001b[1m383/383\u001b[0m \u001b[32m━━━━━━━━━━━━━━━━━━━━\u001b[0m\u001b[37m\u001b[0m \u001b[1m1s\u001b[0m 4ms/step - accuracy: 0.7517 - loss: 0.5353 - val_accuracy: 0.7551 - val_loss: 0.5466 - learning_rate: 0.0010\n",
      "Epoch 73/500\n",
      "\u001b[1m383/383\u001b[0m \u001b[32m━━━━━━━━━━━━━━━━━━━━\u001b[0m\u001b[37m\u001b[0m \u001b[1m1s\u001b[0m 4ms/step - accuracy: 0.7557 - loss: 0.5372 - val_accuracy: 0.7475 - val_loss: 0.5462 - learning_rate: 0.0010\n",
      "Epoch 74/500\n",
      "\u001b[1m383/383\u001b[0m \u001b[32m━━━━━━━━━━━━━━━━━━━━\u001b[0m\u001b[37m\u001b[0m \u001b[1m1s\u001b[0m 4ms/step - accuracy: 0.7629 - loss: 0.5335 - val_accuracy: 0.7521 - val_loss: 0.5453 - learning_rate: 0.0010\n",
      "Epoch 75/500\n",
      "\u001b[1m383/383\u001b[0m \u001b[32m━━━━━━━━━━━━━━━━━━━━\u001b[0m\u001b[37m\u001b[0m \u001b[1m1s\u001b[0m 4ms/step - accuracy: 0.7589 - loss: 0.5328 - val_accuracy: 0.7411 - val_loss: 0.5558 - learning_rate: 0.0010\n",
      "Epoch 76/500\n",
      "\u001b[1m383/383\u001b[0m \u001b[32m━━━━━━━━━━━━━━━━━━━━\u001b[0m\u001b[37m\u001b[0m \u001b[1m1s\u001b[0m 4ms/step - accuracy: 0.7561 - loss: 0.5409 - val_accuracy: 0.7525 - val_loss: 0.5566 - learning_rate: 0.0010\n",
      "Epoch 77/500\n",
      "\u001b[1m383/383\u001b[0m \u001b[32m━━━━━━━━━━━━━━━━━━━━\u001b[0m\u001b[37m\u001b[0m \u001b[1m1s\u001b[0m 4ms/step - accuracy: 0.7571 - loss: 0.5348 - val_accuracy: 0.7536 - val_loss: 0.5527 - learning_rate: 0.0010\n",
      "Epoch 78/500\n",
      "\u001b[1m383/383\u001b[0m \u001b[32m━━━━━━━━━━━━━━━━━━━━\u001b[0m\u001b[37m\u001b[0m \u001b[1m1s\u001b[0m 4ms/step - accuracy: 0.7598 - loss: 0.5370 - val_accuracy: 0.7517 - val_loss: 0.5447 - learning_rate: 0.0010\n",
      "Epoch 79/500\n",
      "\u001b[1m383/383\u001b[0m \u001b[32m━━━━━━━━━━━━━━━━━━━━\u001b[0m\u001b[37m\u001b[0m \u001b[1m1s\u001b[0m 3ms/step - accuracy: 0.7471 - loss: 0.5423 - val_accuracy: 0.7502 - val_loss: 0.5435 - learning_rate: 0.0010\n",
      "Epoch 80/500\n",
      "\u001b[1m383/383\u001b[0m \u001b[32m━━━━━━━━━━━━━━━━━━━━\u001b[0m\u001b[37m\u001b[0m \u001b[1m1s\u001b[0m 4ms/step - accuracy: 0.7584 - loss: 0.5344 - val_accuracy: 0.7551 - val_loss: 0.5437 - learning_rate: 0.0010\n",
      "Epoch 81/500\n",
      "\u001b[1m383/383\u001b[0m \u001b[32m━━━━━━━━━━━━━━━━━━━━\u001b[0m\u001b[37m\u001b[0m \u001b[1m1s\u001b[0m 4ms/step - accuracy: 0.7535 - loss: 0.5396 - val_accuracy: 0.7578 - val_loss: 0.5407 - learning_rate: 0.0010\n",
      "Epoch 82/500\n",
      "\u001b[1m383/383\u001b[0m \u001b[32m━━━━━━━━━━━━━━━━━━━━\u001b[0m\u001b[37m\u001b[0m \u001b[1m1s\u001b[0m 4ms/step - accuracy: 0.7565 - loss: 0.5447 - val_accuracy: 0.7456 - val_loss: 0.5458 - learning_rate: 0.0010\n",
      "Epoch 83/500\n",
      "\u001b[1m383/383\u001b[0m \u001b[32m━━━━━━━━━━━━━━━━━━━━\u001b[0m\u001b[37m\u001b[0m \u001b[1m1s\u001b[0m 4ms/step - accuracy: 0.7446 - loss: 0.5588 - val_accuracy: 0.7529 - val_loss: 0.5529 - learning_rate: 0.0010\n",
      "Epoch 84/500\n",
      "\u001b[1m383/383\u001b[0m \u001b[32m━━━━━━━━━━━━━━━━━━━━\u001b[0m\u001b[37m\u001b[0m \u001b[1m1s\u001b[0m 4ms/step - accuracy: 0.7587 - loss: 0.5291 - val_accuracy: 0.7582 - val_loss: 0.5403 - learning_rate: 0.0010\n",
      "Epoch 85/500\n",
      "\u001b[1m383/383\u001b[0m \u001b[32m━━━━━━━━━━━━━━━━━━━━\u001b[0m\u001b[37m\u001b[0m \u001b[1m1s\u001b[0m 4ms/step - accuracy: 0.7565 - loss: 0.5371 - val_accuracy: 0.7532 - val_loss: 0.5415 - learning_rate: 0.0010\n",
      "Epoch 86/500\n",
      "\u001b[1m383/383\u001b[0m \u001b[32m━━━━━━━━━━━━━━━━━━━━\u001b[0m\u001b[37m\u001b[0m \u001b[1m1s\u001b[0m 4ms/step - accuracy: 0.7502 - loss: 0.5438 - val_accuracy: 0.7525 - val_loss: 0.5512 - learning_rate: 0.0010\n",
      "Epoch 87/500\n",
      "\u001b[1m382/383\u001b[0m \u001b[32m━━━━━━━━━━━━━━━━━━━\u001b[0m\u001b[37m━\u001b[0m \u001b[1m0s\u001b[0m 3ms/step - accuracy: 0.7567 - loss: 0.5351"
     ]
    },
    {
     "name": "stderr",
     "output_type": "stream",
     "text": [
      "WARNING:absl:You are saving your model as an HDF5 file via `model.save()` or `keras.saving.save_model(model)`. This file format is considered legacy. We recommend using instead the native Keras format, e.g. `model.save('my_model.keras')` or `keras.saving.save_model(model, 'my_model.keras')`. \n"
     ]
    },
    {
     "name": "stdout",
     "output_type": "stream",
     "text": [
      "\u001b[1m383/383\u001b[0m \u001b[32m━━━━━━━━━━━━━━━━━━━━\u001b[0m\u001b[37m\u001b[0m \u001b[1m1s\u001b[0m 4ms/step - accuracy: 0.7567 - loss: 0.5351 - val_accuracy: 0.7570 - val_loss: 0.5364 - learning_rate: 0.0010\n",
      "Epoch 88/500\n",
      "\u001b[1m383/383\u001b[0m \u001b[32m━━━━━━━━━━━━━━━━━━━━\u001b[0m\u001b[37m\u001b[0m \u001b[1m1s\u001b[0m 4ms/step - accuracy: 0.7572 - loss: 0.5342 - val_accuracy: 0.7551 - val_loss: 0.5472 - learning_rate: 0.0010\n",
      "Epoch 89/500\n",
      "\u001b[1m383/383\u001b[0m \u001b[32m━━━━━━━━━━━━━━━━━━━━\u001b[0m\u001b[37m\u001b[0m \u001b[1m1s\u001b[0m 4ms/step - accuracy: 0.7559 - loss: 0.5305 - val_accuracy: 0.7593 - val_loss: 0.5400 - learning_rate: 0.0010\n",
      "Epoch 90/500\n",
      "\u001b[1m383/383\u001b[0m \u001b[32m━━━━━━━━━━━━━━━━━━━━\u001b[0m\u001b[37m\u001b[0m \u001b[1m1s\u001b[0m 4ms/step - accuracy: 0.7558 - loss: 0.5412 - val_accuracy: 0.7525 - val_loss: 0.5484 - learning_rate: 0.0010\n",
      "Epoch 91/500\n",
      "\u001b[1m383/383\u001b[0m \u001b[32m━━━━━━━━━━━━━━━━━━━━\u001b[0m\u001b[37m\u001b[0m \u001b[1m1s\u001b[0m 4ms/step - accuracy: 0.7497 - loss: 0.5557 - val_accuracy: 0.7536 - val_loss: 0.5403 - learning_rate: 0.0010\n",
      "Epoch 92/500\n",
      "\u001b[1m383/383\u001b[0m \u001b[32m━━━━━━━━━━━━━━━━━━━━\u001b[0m\u001b[37m\u001b[0m \u001b[1m1s\u001b[0m 4ms/step - accuracy: 0.7478 - loss: 0.5449 - val_accuracy: 0.7506 - val_loss: 0.5479 - learning_rate: 0.0010\n",
      "Epoch 93/500\n",
      "\u001b[1m383/383\u001b[0m \u001b[32m━━━━━━━━━━━━━━━━━━━━\u001b[0m\u001b[37m\u001b[0m \u001b[1m1s\u001b[0m 4ms/step - accuracy: 0.7619 - loss: 0.5261 - val_accuracy: 0.7582 - val_loss: 0.5434 - learning_rate: 0.0010\n",
      "Epoch 94/500\n",
      "\u001b[1m383/383\u001b[0m \u001b[32m━━━━━━━━━━━━━━━━━━━━\u001b[0m\u001b[37m\u001b[0m \u001b[1m1s\u001b[0m 3ms/step - accuracy: 0.7633 - loss: 0.5333 - val_accuracy: 0.7525 - val_loss: 0.5452 - learning_rate: 0.0010\n",
      "Epoch 95/500\n",
      "\u001b[1m383/383\u001b[0m \u001b[32m━━━━━━━━━━━━━━━━━━━━\u001b[0m\u001b[37m\u001b[0m \u001b[1m1s\u001b[0m 4ms/step - accuracy: 0.7516 - loss: 0.5357 - val_accuracy: 0.7490 - val_loss: 0.5450 - learning_rate: 0.0010\n",
      "Epoch 96/500\n",
      "\u001b[1m383/383\u001b[0m \u001b[32m━━━━━━━━━━━━━━━━━━━━\u001b[0m\u001b[37m\u001b[0m \u001b[1m1s\u001b[0m 4ms/step - accuracy: 0.7573 - loss: 0.5378 - val_accuracy: 0.7502 - val_loss: 0.5394 - learning_rate: 0.0010\n",
      "Epoch 97/500\n",
      "\u001b[1m383/383\u001b[0m \u001b[32m━━━━━━━━━━━━━━━━━━━━\u001b[0m\u001b[37m\u001b[0m \u001b[1m1s\u001b[0m 4ms/step - accuracy: 0.7562 - loss: 0.5258 - val_accuracy: 0.7494 - val_loss: 0.5421 - learning_rate: 0.0010\n",
      "Epoch 98/500\n",
      "\u001b[1m383/383\u001b[0m \u001b[32m━━━━━━━━━━━━━━━━━━━━\u001b[0m\u001b[37m\u001b[0m \u001b[1m1s\u001b[0m 4ms/step - accuracy: 0.7611 - loss: 0.5230 - val_accuracy: 0.7430 - val_loss: 0.5507 - learning_rate: 0.0010\n",
      "Epoch 99/500\n",
      "\u001b[1m372/383\u001b[0m \u001b[32m━━━━━━━━━━━━━━━━━━━\u001b[0m\u001b[37m━\u001b[0m \u001b[1m0s\u001b[0m 3ms/step - accuracy: 0.7524 - loss: 0.5348"
     ]
    },
    {
     "name": "stderr",
     "output_type": "stream",
     "text": [
      "WARNING:absl:You are saving your model as an HDF5 file via `model.save()` or `keras.saving.save_model(model)`. This file format is considered legacy. We recommend using instead the native Keras format, e.g. `model.save('my_model.keras')` or `keras.saving.save_model(model, 'my_model.keras')`. \n"
     ]
    },
    {
     "name": "stdout",
     "output_type": "stream",
     "text": [
      "\u001b[1m383/383\u001b[0m \u001b[32m━━━━━━━━━━━━━━━━━━━━\u001b[0m\u001b[37m\u001b[0m \u001b[1m1s\u001b[0m 4ms/step - accuracy: 0.7525 - loss: 0.5346 - val_accuracy: 0.7586 - val_loss: 0.5327 - learning_rate: 0.0010\n",
      "Epoch 100/500\n",
      "\u001b[1m383/383\u001b[0m \u001b[32m━━━━━━━━━━━━━━━━━━━━\u001b[0m\u001b[37m\u001b[0m \u001b[1m2s\u001b[0m 4ms/step - accuracy: 0.7578 - loss: 0.5229 - val_accuracy: 0.7490 - val_loss: 0.5389 - learning_rate: 0.0010\n",
      "Epoch 101/500\n",
      "\u001b[1m383/383\u001b[0m \u001b[32m━━━━━━━━━━━━━━━━━━━━\u001b[0m\u001b[37m\u001b[0m \u001b[1m1s\u001b[0m 4ms/step - accuracy: 0.7605 - loss: 0.5260 - val_accuracy: 0.7551 - val_loss: 0.5406 - learning_rate: 0.0010\n",
      "Epoch 102/500\n",
      "\u001b[1m383/383\u001b[0m \u001b[32m━━━━━━━━━━━━━━━━━━━━\u001b[0m\u001b[37m\u001b[0m \u001b[1m1s\u001b[0m 4ms/step - accuracy: 0.7563 - loss: 0.5354 - val_accuracy: 0.7563 - val_loss: 0.5416 - learning_rate: 0.0010\n",
      "Epoch 103/500\n",
      "\u001b[1m383/383\u001b[0m \u001b[32m━━━━━━━━━━━━━━━━━━━━\u001b[0m\u001b[37m\u001b[0m \u001b[1m1s\u001b[0m 4ms/step - accuracy: 0.7586 - loss: 0.5265 - val_accuracy: 0.7391 - val_loss: 0.5508 - learning_rate: 0.0010\n",
      "Epoch 104/500\n",
      "\u001b[1m383/383\u001b[0m \u001b[32m━━━━━━━━━━━━━━━━━━━━\u001b[0m\u001b[37m\u001b[0m \u001b[1m1s\u001b[0m 4ms/step - accuracy: 0.7599 - loss: 0.5300 - val_accuracy: 0.7437 - val_loss: 0.5532 - learning_rate: 0.0010\n",
      "Epoch 105/500\n",
      "\u001b[1m383/383\u001b[0m \u001b[32m━━━━━━━━━━━━━━━━━━━━\u001b[0m\u001b[37m\u001b[0m \u001b[1m1s\u001b[0m 4ms/step - accuracy: 0.7586 - loss: 0.5209 - val_accuracy: 0.7555 - val_loss: 0.5431 - learning_rate: 0.0010\n",
      "Epoch 106/500\n",
      "\u001b[1m383/383\u001b[0m \u001b[32m━━━━━━━━━━━━━━━━━━━━\u001b[0m\u001b[37m\u001b[0m \u001b[1m1s\u001b[0m 4ms/step - accuracy: 0.7576 - loss: 0.5309 - val_accuracy: 0.7502 - val_loss: 0.5518 - learning_rate: 0.0010\n",
      "Epoch 107/500\n",
      "\u001b[1m383/383\u001b[0m \u001b[32m━━━━━━━━━━━━━━━━━━━━\u001b[0m\u001b[37m\u001b[0m \u001b[1m1s\u001b[0m 4ms/step - accuracy: 0.7563 - loss: 0.5308 - val_accuracy: 0.7525 - val_loss: 0.5435 - learning_rate: 0.0010\n",
      "Epoch 108/500\n",
      "\u001b[1m383/383\u001b[0m \u001b[32m━━━━━━━━━━━━━━━━━━━━\u001b[0m\u001b[37m\u001b[0m \u001b[1m1s\u001b[0m 4ms/step - accuracy: 0.7548 - loss: 0.5387 - val_accuracy: 0.7350 - val_loss: 0.5524 - learning_rate: 0.0010\n",
      "Epoch 109/500\n",
      "\u001b[1m383/383\u001b[0m \u001b[32m━━━━━━━━━━━━━━━━━━━━\u001b[0m\u001b[37m\u001b[0m \u001b[1m1s\u001b[0m 4ms/step - accuracy: 0.7542 - loss: 0.5394 - val_accuracy: 0.7388 - val_loss: 0.5576 - learning_rate: 0.0010\n",
      "Epoch 110/500\n",
      "\u001b[1m383/383\u001b[0m \u001b[32m━━━━━━━━━━━━━━━━━━━━\u001b[0m\u001b[37m\u001b[0m \u001b[1m1s\u001b[0m 4ms/step - accuracy: 0.7564 - loss: 0.5293 - val_accuracy: 0.7464 - val_loss: 0.5445 - learning_rate: 0.0010\n",
      "Epoch 111/500\n",
      "\u001b[1m383/383\u001b[0m \u001b[32m━━━━━━━━━━━━━━━━━━━━\u001b[0m\u001b[37m\u001b[0m \u001b[1m2s\u001b[0m 4ms/step - accuracy: 0.7688 - loss: 0.5121 - val_accuracy: 0.7513 - val_loss: 0.5391 - learning_rate: 0.0010\n",
      "Epoch 112/500\n",
      "\u001b[1m383/383\u001b[0m \u001b[32m━━━━━━━━━━━━━━━━━━━━\u001b[0m\u001b[37m\u001b[0m \u001b[1m1s\u001b[0m 4ms/step - accuracy: 0.7687 - loss: 0.5234 - val_accuracy: 0.7460 - val_loss: 0.5387 - learning_rate: 0.0010\n",
      "Epoch 113/500\n",
      "\u001b[1m383/383\u001b[0m \u001b[32m━━━━━━━━━━━━━━━━━━━━\u001b[0m\u001b[37m\u001b[0m \u001b[1m1s\u001b[0m 4ms/step - accuracy: 0.7637 - loss: 0.5156 - val_accuracy: 0.7490 - val_loss: 0.5432 - learning_rate: 0.0010\n",
      "Epoch 114/500\n",
      "\u001b[1m383/383\u001b[0m \u001b[32m━━━━━━━━━━━━━━━━━━━━\u001b[0m\u001b[37m\u001b[0m \u001b[1m1s\u001b[0m 4ms/step - accuracy: 0.7582 - loss: 0.5238 - val_accuracy: 0.7494 - val_loss: 0.5441 - learning_rate: 0.0010\n",
      "Epoch 115/500\n",
      "\u001b[1m383/383\u001b[0m \u001b[32m━━━━━━━━━━━━━━━━━━━━\u001b[0m\u001b[37m\u001b[0m \u001b[1m1s\u001b[0m 4ms/step - accuracy: 0.7544 - loss: 0.5328 - val_accuracy: 0.7498 - val_loss: 0.5427 - learning_rate: 0.0010\n",
      "Epoch 116/500\n",
      "\u001b[1m383/383\u001b[0m \u001b[32m━━━━━━━━━━━━━━━━━━━━\u001b[0m\u001b[37m\u001b[0m \u001b[1m1s\u001b[0m 4ms/step - accuracy: 0.7587 - loss: 0.5262 - val_accuracy: 0.7460 - val_loss: 0.5424 - learning_rate: 0.0010\n",
      "Epoch 117/500\n",
      "\u001b[1m383/383\u001b[0m \u001b[32m━━━━━━━━━━━━━━━━━━━━\u001b[0m\u001b[37m\u001b[0m \u001b[1m1s\u001b[0m 4ms/step - accuracy: 0.7554 - loss: 0.5242 - val_accuracy: 0.7570 - val_loss: 0.5470 - learning_rate: 0.0010\n",
      "Epoch 118/500\n",
      "\u001b[1m383/383\u001b[0m \u001b[32m━━━━━━━━━━━━━━━━━━━━\u001b[0m\u001b[37m\u001b[0m \u001b[1m1s\u001b[0m 4ms/step - accuracy: 0.7512 - loss: 0.5317 - val_accuracy: 0.7536 - val_loss: 0.5394 - learning_rate: 0.0010\n",
      "Epoch 119/500\n",
      "\u001b[1m383/383\u001b[0m \u001b[32m━━━━━━━━━━━━━━━━━━━━\u001b[0m\u001b[37m\u001b[0m \u001b[1m1s\u001b[0m 4ms/step - accuracy: 0.7605 - loss: 0.5167 - val_accuracy: 0.7506 - val_loss: 0.5446 - learning_rate: 0.0010\n",
      "Epoch 120/500\n",
      "\u001b[1m383/383\u001b[0m \u001b[32m━━━━━━━━━━━━━━━━━━━━\u001b[0m\u001b[37m\u001b[0m \u001b[1m1s\u001b[0m 4ms/step - accuracy: 0.7591 - loss: 0.5256 - val_accuracy: 0.7445 - val_loss: 0.5489 - learning_rate: 0.0010\n",
      "Epoch 121/500\n",
      "\u001b[1m383/383\u001b[0m \u001b[32m━━━━━━━━━━━━━━━━━━━━\u001b[0m\u001b[37m\u001b[0m \u001b[1m1s\u001b[0m 4ms/step - accuracy: 0.7582 - loss: 0.5254 - val_accuracy: 0.7586 - val_loss: 0.5336 - learning_rate: 0.0010\n",
      "Epoch 122/500\n",
      "\u001b[1m383/383\u001b[0m \u001b[32m━━━━━━━━━━━━━━━━━━━━\u001b[0m\u001b[37m\u001b[0m \u001b[1m1s\u001b[0m 4ms/step - accuracy: 0.7515 - loss: 0.5159 - val_accuracy: 0.7483 - val_loss: 0.5388 - learning_rate: 0.0010\n",
      "Epoch 123/500\n",
      "\u001b[1m383/383\u001b[0m \u001b[32m━━━━━━━━━━━━━━━━━━━━\u001b[0m\u001b[37m\u001b[0m \u001b[1m2s\u001b[0m 4ms/step - accuracy: 0.7597 - loss: 0.5225 - val_accuracy: 0.7555 - val_loss: 0.5377 - learning_rate: 0.0010\n",
      "Epoch 124/500\n",
      "\u001b[1m383/383\u001b[0m \u001b[32m━━━━━━━━━━━━━━━━━━━━\u001b[0m\u001b[37m\u001b[0m \u001b[1m2s\u001b[0m 4ms/step - accuracy: 0.7606 - loss: 0.5274 - val_accuracy: 0.7433 - val_loss: 0.5431 - learning_rate: 0.0010\n",
      "Epoch 125/500\n",
      "\u001b[1m383/383\u001b[0m \u001b[32m━━━━━━━━━━━━━━━━━━━━\u001b[0m\u001b[37m\u001b[0m \u001b[1m2s\u001b[0m 4ms/step - accuracy: 0.7612 - loss: 0.5230 - val_accuracy: 0.7456 - val_loss: 0.5411 - learning_rate: 0.0010\n",
      "Epoch 126/500\n",
      "\u001b[1m383/383\u001b[0m \u001b[32m━━━━━━━━━━━━━━━━━━━━\u001b[0m\u001b[37m\u001b[0m \u001b[1m2s\u001b[0m 4ms/step - accuracy: 0.7594 - loss: 0.5309 - val_accuracy: 0.7468 - val_loss: 0.5482 - learning_rate: 0.0010\n",
      "Epoch 127/500\n",
      "\u001b[1m383/383\u001b[0m \u001b[32m━━━━━━━━━━━━━━━━━━━━\u001b[0m\u001b[37m\u001b[0m \u001b[1m2s\u001b[0m 4ms/step - accuracy: 0.7595 - loss: 0.5323 - val_accuracy: 0.7616 - val_loss: 0.5387 - learning_rate: 0.0010\n",
      "Epoch 128/500\n",
      "\u001b[1m383/383\u001b[0m \u001b[32m━━━━━━━━━━━━━━━━━━━━\u001b[0m\u001b[37m\u001b[0m \u001b[1m2s\u001b[0m 4ms/step - accuracy: 0.7643 - loss: 0.5212 - val_accuracy: 0.7605 - val_loss: 0.5394 - learning_rate: 0.0010\n",
      "Epoch 129/500\n",
      "\u001b[1m383/383\u001b[0m \u001b[32m━━━━━━━━━━━━━━━━━━━━\u001b[0m\u001b[37m\u001b[0m \u001b[1m2s\u001b[0m 4ms/step - accuracy: 0.7574 - loss: 0.5266 - val_accuracy: 0.7567 - val_loss: 0.5391 - learning_rate: 0.0010\n",
      "Epoch 130/500\n",
      "\u001b[1m383/383\u001b[0m \u001b[32m━━━━━━━━━━━━━━━━━━━━\u001b[0m\u001b[37m\u001b[0m \u001b[1m2s\u001b[0m 4ms/step - accuracy: 0.7628 - loss: 0.5287 - val_accuracy: 0.7490 - val_loss: 0.5502 - learning_rate: 0.0010\n",
      "Epoch 131/500\n",
      "\u001b[1m383/383\u001b[0m \u001b[32m━━━━━━━━━━━━━━━━━━━━\u001b[0m\u001b[37m\u001b[0m \u001b[1m2s\u001b[0m 4ms/step - accuracy: 0.7666 - loss: 0.5197 - val_accuracy: 0.7426 - val_loss: 0.5528 - learning_rate: 0.0010\n",
      "Epoch 132/500\n",
      "\u001b[1m383/383\u001b[0m \u001b[32m━━━━━━━━━━━━━━━━━━━━\u001b[0m\u001b[37m\u001b[0m \u001b[1m2s\u001b[0m 4ms/step - accuracy: 0.7585 - loss: 0.5284 - val_accuracy: 0.7536 - val_loss: 0.5446 - learning_rate: 0.0010\n",
      "Epoch 133/500\n",
      "\u001b[1m383/383\u001b[0m \u001b[32m━━━━━━━━━━━━━━━━━━━━\u001b[0m\u001b[37m\u001b[0m \u001b[1m2s\u001b[0m 4ms/step - accuracy: 0.7672 - loss: 0.5191 - val_accuracy: 0.7563 - val_loss: 0.5341 - learning_rate: 0.0010\n",
      "Epoch 134/500\n",
      "\u001b[1m383/383\u001b[0m \u001b[32m━━━━━━━━━━━━━━━━━━━━\u001b[0m\u001b[37m\u001b[0m \u001b[1m2s\u001b[0m 4ms/step - accuracy: 0.7555 - loss: 0.5258 - val_accuracy: 0.7468 - val_loss: 0.5473 - learning_rate: 0.0010\n",
      "Epoch 135/500\n",
      "\u001b[1m383/383\u001b[0m \u001b[32m━━━━━━━━━━━━━━━━━━━━\u001b[0m\u001b[37m\u001b[0m \u001b[1m2s\u001b[0m 4ms/step - accuracy: 0.7671 - loss: 0.5205 - val_accuracy: 0.7612 - val_loss: 0.5397 - learning_rate: 0.0010\n",
      "Epoch 136/500\n",
      "\u001b[1m383/383\u001b[0m \u001b[32m━━━━━━━━━━━━━━━━━━━━\u001b[0m\u001b[37m\u001b[0m \u001b[1m2s\u001b[0m 4ms/step - accuracy: 0.7480 - loss: 0.5286 - val_accuracy: 0.7586 - val_loss: 0.5333 - learning_rate: 0.0010\n",
      "Epoch 137/500\n",
      "\u001b[1m383/383\u001b[0m \u001b[32m━━━━━━━━━━━━━━━━━━━━\u001b[0m\u001b[37m\u001b[0m \u001b[1m2s\u001b[0m 4ms/step - accuracy: 0.7589 - loss: 0.5244 - val_accuracy: 0.7555 - val_loss: 0.5383 - learning_rate: 0.0010\n",
      "Epoch 138/500\n",
      "\u001b[1m383/383\u001b[0m \u001b[32m━━━━━━━━━━━━━━━━━━━━\u001b[0m\u001b[37m\u001b[0m \u001b[1m2s\u001b[0m 4ms/step - accuracy: 0.7586 - loss: 0.5237 - val_accuracy: 0.7521 - val_loss: 0.5381 - learning_rate: 0.0010\n",
      "Epoch 139/500\n",
      "\u001b[1m383/383\u001b[0m \u001b[32m━━━━━━━━━━━━━━━━━━━━\u001b[0m\u001b[37m\u001b[0m \u001b[1m1s\u001b[0m 4ms/step - accuracy: 0.7649 - loss: 0.5195 - val_accuracy: 0.7479 - val_loss: 0.5405 - learning_rate: 0.0010\n",
      "Epoch 140/500\n",
      "\u001b[1m383/383\u001b[0m \u001b[32m━━━━━━━━━━━━━━━━━━━━\u001b[0m\u001b[37m\u001b[0m \u001b[1m2s\u001b[0m 4ms/step - accuracy: 0.7559 - loss: 0.5261 - val_accuracy: 0.7555 - val_loss: 0.5377 - learning_rate: 0.0010\n",
      "Epoch 141/500\n",
      "\u001b[1m383/383\u001b[0m \u001b[32m━━━━━━━━━━━━━━━━━━━━\u001b[0m\u001b[37m\u001b[0m \u001b[1m2s\u001b[0m 4ms/step - accuracy: 0.7659 - loss: 0.5228 - val_accuracy: 0.7559 - val_loss: 0.5401 - learning_rate: 0.0010\n",
      "Epoch 142/500\n",
      "\u001b[1m383/383\u001b[0m \u001b[32m━━━━━━━━━━━━━━━━━━━━\u001b[0m\u001b[37m\u001b[0m \u001b[1m2s\u001b[0m 4ms/step - accuracy: 0.7652 - loss: 0.5156 - val_accuracy: 0.7597 - val_loss: 0.5373 - learning_rate: 0.0010\n",
      "Epoch 143/500\n",
      "\u001b[1m383/383\u001b[0m \u001b[32m━━━━━━━━━━━━━━━━━━━━\u001b[0m\u001b[37m\u001b[0m \u001b[1m2s\u001b[0m 4ms/step - accuracy: 0.7610 - loss: 0.5156 - val_accuracy: 0.7570 - val_loss: 0.5358 - learning_rate: 0.0010\n",
      "Epoch 144/500\n",
      "\u001b[1m383/383\u001b[0m \u001b[32m━━━━━━━━━━━━━━━━━━━━\u001b[0m\u001b[37m\u001b[0m \u001b[1m2s\u001b[0m 4ms/step - accuracy: 0.7648 - loss: 0.5232 - val_accuracy: 0.7483 - val_loss: 0.5529 - learning_rate: 0.0010\n",
      "Epoch 145/500\n",
      "\u001b[1m383/383\u001b[0m \u001b[32m━━━━━━━━━━━━━━━━━━━━\u001b[0m\u001b[37m\u001b[0m \u001b[1m2s\u001b[0m 4ms/step - accuracy: 0.7551 - loss: 0.5287 - val_accuracy: 0.7540 - val_loss: 0.5375 - learning_rate: 0.0010\n",
      "Epoch 146/500\n",
      "\u001b[1m383/383\u001b[0m \u001b[32m━━━━━━━━━━━━━━━━━━━━\u001b[0m\u001b[37m\u001b[0m \u001b[1m2s\u001b[0m 4ms/step - accuracy: 0.7522 - loss: 0.5287 - val_accuracy: 0.7563 - val_loss: 0.5343 - learning_rate: 0.0010\n",
      "Epoch 147/500\n",
      "\u001b[1m383/383\u001b[0m \u001b[32m━━━━━━━━━━━━━━━━━━━━\u001b[0m\u001b[37m\u001b[0m \u001b[1m2s\u001b[0m 4ms/step - accuracy: 0.7529 - loss: 0.5304 - val_accuracy: 0.7494 - val_loss: 0.5379 - learning_rate: 0.0010\n",
      "Epoch 148/500\n",
      "\u001b[1m383/383\u001b[0m \u001b[32m━━━━━━━━━━━━━━━━━━━━\u001b[0m\u001b[37m\u001b[0m \u001b[1m2s\u001b[0m 4ms/step - accuracy: 0.7540 - loss: 0.5303 - val_accuracy: 0.7551 - val_loss: 0.5380 - learning_rate: 0.0010\n",
      "Epoch 149/500\n",
      "\u001b[1m383/383\u001b[0m \u001b[32m━━━━━━━━━━━━━━━━━━━━\u001b[0m\u001b[37m\u001b[0m \u001b[1m2s\u001b[0m 4ms/step - accuracy: 0.7616 - loss: 0.5220 - val_accuracy: 0.7426 - val_loss: 0.5452 - learning_rate: 0.0010\n"
     ]
    }
   ],
   "source": [
    "history_14 = model_14.fit(\n",
    "    direction_features_train,  # inputs\n",
    "    y_train_direction,         # target - direction labels, not vehicle\n",
    "    epochs=500,\n",
    "    batch_size=32,\n",
    "    validation_data=(direction_features_val, y_val_direction),\n",
    "    callbacks=[reduce_lr, early_stopping, model_checkpoint]\n",
    ")"
   ]
  },
  {
   "cell_type": "code",
   "execution_count": 13,
   "id": "1076eb37",
   "metadata": {},
   "outputs": [
    {
     "name": "stderr",
     "output_type": "stream",
     "text": [
      "WARNING:absl:Compiled the loaded model, but the compiled metrics have yet to be built. `model.compile_metrics` will be empty until you train or evaluate the model.\n"
     ]
    },
    {
     "name": "stdout",
     "output_type": "stream",
     "text": [
      "\u001b[1m83/83\u001b[0m \u001b[32m━━━━━━━━━━━━━━━━━━━━\u001b[0m\u001b[37m\u001b[0m \u001b[1m0s\u001b[0m 2ms/step - accuracy: 0.7693 - loss: 0.5124\n",
      "\n",
      "Test accuracy: 0.7681\n",
      "Test loss: 0.5304\n",
      "\u001b[1m83/83\u001b[0m \u001b[32m━━━━━━━━━━━━━━━━━━━━\u001b[0m\u001b[37m\u001b[0m \u001b[1m0s\u001b[0m 2ms/step\n"
     ]
    }
   ],
   "source": [
    "# TEST\n",
    "best_model_14 = tf.keras.models.load_model('best_model_14.h5')\n",
    "\n",
    "test_loss_14, test_acc_14 = model_14.evaluate(direction_features_test, y_test_direction, verbose=1)\n",
    "print(f\"\\nTest accuracy: {test_acc_14:.4f}\")\n",
    "print(f\"Test loss: {test_loss_14:.4f}\")\n",
    "\n",
    "y_pred_prob_14 = model_14.predict(direction_features_test)\n",
    "y_pred_14 = np.argmax(y_pred_prob_14, axis=1)\n",
    "y_true_14 = np.argmax(y_test_direction, axis=1)"
   ]
  },
  {
   "cell_type": "code",
   "execution_count": 14,
   "id": "6c3d6c91",
   "metadata": {},
   "outputs": [
    {
     "data": {
      "image/png": "[encoded data removed]",
      "text/plain": [
       "<Figure size 1200x500 with 2 Axes>"
      ]
     },
     "metadata": {},
     "output_type": "display_data"
    },
    {
     "name": "stdout",
     "output_type": "stream",
     "text": [
      "Miglior accuracy: 0.7620 (epoch 68)\n",
      "\n",
      "--- Classification Report ---\n",
      "              precision    recall  f1-score   support\n",
      "\n",
      "           L       0.66      0.58      0.62       715\n",
      "        None       0.90      0.90      0.90      1213\n",
      "           R       0.65      0.72      0.69       698\n",
      "\n",
      "    accuracy                           0.77      2626\n",
      "   macro avg       0.74      0.74      0.74      2626\n",
      "weighted avg       0.77      0.77      0.77      2626\n",
      "\n"
     ]
    },
    {
     "data": {
      "image/png": "[encoded data removed]",
      "text/plain": [
       "<Figure size 1000x800 with 2 Axes>"
      ]
     },
     "metadata": {},
     "output_type": "display_data"
    },
    {
     "name": "stdout",
     "output_type": "stream",
     "text": [
      "\n",
      "===== RISULTATI CLASSIFICAZIONE DIREZIONI =====\n",
      "Direction accuracy: 0.7681\n",
      "Test loss: 0.5304\n",
      "Test accuracy: 0.7681\n",
      "\n",
      "--- Direction Classification Report ---\n",
      "              precision    recall  f1-score   support\n",
      "\n",
      "           L       0.66      0.58      0.62       715\n",
      "        None       0.90      0.90      0.90      1213\n",
      "           R       0.65      0.72      0.69       698\n",
      "\n",
      "    accuracy                           0.77      2626\n",
      "   macro avg       0.74      0.74      0.74      2626\n",
      "weighted avg       0.77      0.77      0.77      2626\n",
      "\n"
     ]
    },
    {
     "data": {
      "image/png": "[encoded data removed]",
      "text/plain": [
       "<Figure size 1200x1000 with 2 Axes>"
      ]
     },
     "metadata": {},
     "output_type": "display_data"
    },
    {
     "name": "stdout",
     "output_type": "stream",
     "text": [
      "\n",
      "Balanced accuracy score: 0.7363\n"
     ]
    }
   ],
   "source": [
    "# STAMPE RISULTATI\n",
    "plot_single_output_model(\n",
    "    history_14, \n",
    "    y_true_14, \n",
    "    y_pred_14, \n",
    "    class_names=le_direction.classes_\n",
    ")\n",
    "\n",
    "plot_direction_test_results(\n",
    "    y_true_14, \n",
    "    y_pred_14, \n",
    "    le_direction.classes_,\n",
    "    test_results=(test_loss_14, test_acc_14)\n",
    ")"
   ]
  },
  {
   "cell_type": "code",
   "execution_count": 15,
   "id": "fcce2a8f",
   "metadata": {},
   "outputs": [
    {
     "name": "stdout",
     "output_type": "stream",
     "text": [
      "\n",
      "(17506, 25)\n"
     ]
    }
   ],
   "source": [
    "audio_and_direction_features = np.concatenate([\n",
    "    centroid_stats,                     # (17506, 4)\n",
    "    rolloff_stats,                      # (17506, 4) \n",
    "    contrast_stats_left,                # (17506, 4)\n",
    "    contrast_stats_right,               # (17506, 4)\n",
    "    low_freq_energies.reshape(-1, 1),   # (17506, 1)\n",
    "    ild_features,                       # (17506, 4)\n",
    "    ipd_features                        # (17506, 4) \n",
    "], axis=1)  # Risultato: (17506, 25)\n",
    "\n",
    "# \"Cleaning\"\n",
    "audio_and_direction_features = np.nan_to_num(audio_and_direction_features, nan=0.0, posinf=0.0, neginf=0.0)\n",
    "\n",
    "# Normalize\n",
    "scaler = StandardScaler()\n",
    "audio_and_direction_features_scaled = scaler.fit_transform(audio_and_direction_features)\n",
    "\n",
    "print()\n",
    "print(audio_and_direction_features_scaled.shape)"
   ]
  },
  {
   "cell_type": "code",
   "execution_count": 18,
   "id": "30d3f9ea",
   "metadata": {},
   "outputs": [
    {
     "name": "stdout",
     "output_type": "stream",
     "text": [
      "Dimensione spettrogrammi prima del reshape: (17506, 2, 128, 188)\n",
      "Dimensione spettrogrammi dopo il reshape: (17506, 128, 188, 2)\n",
      "\n",
      "Train set: 12254 campioni\n",
      "Validation set: 2626 campioni\n",
      "Test set: 2626 campioni\n",
      "Dimensione input spettrogrammi: (128, 188, 2)\n",
      "Dimensione input feature audio: (17,)\n",
      "Dimensione input feature direzione: (8,)\n",
      "Dimensione input feature combinate: (25,)\n"
     ]
    }
   ],
   "source": [
    "# ------------------------------------------------------------------------------\n",
    "# DATASET SPLIT\n",
    "# ------------------------------------------------------------------------------\n",
    "\n",
    "print(f\"Dimensione spettrogrammi prima del reshape: {spectrograms.shape}\")\n",
    "spectrograms_reshaped = spectrograms.transpose(0, 2, 3, 1)  # (17506, 128, 188, 2)\n",
    "print(f\"Dimensione spettrogrammi dopo il reshape: {spectrograms_reshaped.shape}\")\n",
    "\n",
    "# 1. Primo split: Train (70%) e Temporary (30%)\n",
    "X_train, X_temp, audio_features_train, audio_features_temp, direction_features_train, direction_features_temp, audio_and_direction_features_train, audio_and_direction_features_temp, y_train_vehicle, y_temp_vehicle, y_train_direction, y_temp_direction = train_test_split(\n",
    "    spectrograms_reshaped,\n",
    "    audio_features_scaled,\n",
    "    direction_features_scaled,\n",
    "    audio_and_direction_features_scaled,\n",
    "    labels_cat_vehicles,\n",
    "    labels_cat_direction,\n",
    "    test_size=0.30,         # 70% train, 30% temporary\n",
    "    random_state=42,\n",
    "    shuffle=True\n",
    ")\n",
    "\n",
    "# 2. Secondo split: Temporary in Validation (15%) e Test (15%)\n",
    "X_val, X_test, audio_features_val, audio_features_test, direction_features_val, direction_features_test, audio_and_direction_features_val, audio_and_direction_features_test, y_val_vehicle, y_test_vehicle, y_val_direction, y_test_direction = train_test_split(\n",
    "    X_temp,\n",
    "    audio_features_temp,\n",
    "    direction_features_temp,\n",
    "    audio_and_direction_features_temp,\n",
    "    y_temp_vehicle,\n",
    "    y_temp_direction,\n",
    "    test_size=0.50,        # 15% validation, 15% test (metà del 30% temporary)\n",
    "    random_state=42,\n",
    "    shuffle=True\n",
    ")\n",
    "\n",
    "print()\n",
    "print(f\"Train set: {len(X_train)} campioni\")\n",
    "print(f\"Validation set: {len(X_val)} campioni\")\n",
    "print(f\"Test set: {len(X_test)} campioni\")\n",
    "\n",
    "# Verifica dimensioni input per il modello\n",
    "print(f\"Dimensione input spettrogrammi: {X_train.shape[1:]}\")\n",
    "print(f\"Dimensione input feature audio: {audio_features_train.shape[1:]}\")\n",
    "print(f\"Dimensione input feature direzione: {direction_features_train.shape[1:]}\")\n",
    "print(f\"Dimensione input feature combinate: {audio_and_direction_features_train.shape[1:]}\")"
   ]
  },
  {
   "cell_type": "code",
   "execution_count": 19,
   "id": "ca76c456",
   "metadata": {},
   "outputs": [
    {
     "data": {
      "text/html": [
       "<pre style=\"white-space:pre;overflow-x:auto;line-height:normal;font-family:Menlo,'DejaVu Sans Mono',consolas,'Courier New',monospace\"><span style=\"font-weight: bold\">Model: \"functional_3\"</span>\n",
       "</pre>\n"
      ],
      "text/plain": [
       "\u001b[1mModel: \"functional_3\"\u001b[0m\n"
      ]
     },
     "metadata": {},
     "output_type": "display_data"
    },
    {
     "data": {
      "text/html": [
       "<pre style=\"white-space:pre;overflow-x:auto;line-height:normal;font-family:Menlo,'DejaVu Sans Mono',consolas,'Courier New',monospace\">┏━━━━━━━━━━━━━━━━━━━━━━━━━━━━━━━━━┳━━━━━━━━━━━━━━━━━━━━━━━━┳━━━━━━━━━━━━━━━┓\n",
       "┃<span style=\"font-weight: bold\"> Layer (type)                    </span>┃<span style=\"font-weight: bold\"> Output Shape           </span>┃<span style=\"font-weight: bold\">       Param # </span>┃\n",
       "┡━━━━━━━━━━━━━━━━━━━━━━━━━━━━━━━━━╇━━━━━━━━━━━━━━━━━━━━━━━━╇━━━━━━━━━━━━━━━┩\n",
       "│ audio_and_direction_features_i… │ (<span style=\"color: #00d7ff; text-decoration-color: #00d7ff\">None</span>, <span style=\"color: #00af00; text-decoration-color: #00af00\">25</span>)             │             <span style=\"color: #00af00; text-decoration-color: #00af00\">0</span> │\n",
       "│ (<span style=\"color: #0087ff; text-decoration-color: #0087ff\">InputLayer</span>)                    │                        │               │\n",
       "├─────────────────────────────────┼────────────────────────┼───────────────┤\n",
       "│ dense_21 (<span style=\"color: #0087ff; text-decoration-color: #0087ff\">Dense</span>)                │ (<span style=\"color: #00d7ff; text-decoration-color: #00d7ff\">None</span>, <span style=\"color: #00af00; text-decoration-color: #00af00\">64</span>)             │         <span style=\"color: #00af00; text-decoration-color: #00af00\">1,664</span> │\n",
       "├─────────────────────────────────┼────────────────────────┼───────────────┤\n",
       "│ dropout_13 (<span style=\"color: #0087ff; text-decoration-color: #0087ff\">Dropout</span>)            │ (<span style=\"color: #00d7ff; text-decoration-color: #00d7ff\">None</span>, <span style=\"color: #00af00; text-decoration-color: #00af00\">64</span>)             │             <span style=\"color: #00af00; text-decoration-color: #00af00\">0</span> │\n",
       "├─────────────────────────────────┼────────────────────────┼───────────────┤\n",
       "│ dense_22 (<span style=\"color: #0087ff; text-decoration-color: #0087ff\">Dense</span>)                │ (<span style=\"color: #00d7ff; text-decoration-color: #00d7ff\">None</span>, <span style=\"color: #00af00; text-decoration-color: #00af00\">64</span>)             │         <span style=\"color: #00af00; text-decoration-color: #00af00\">4,160</span> │\n",
       "├─────────────────────────────────┼────────────────────────┼───────────────┤\n",
       "│ dropout_14 (<span style=\"color: #0087ff; text-decoration-color: #0087ff\">Dropout</span>)            │ (<span style=\"color: #00d7ff; text-decoration-color: #00d7ff\">None</span>, <span style=\"color: #00af00; text-decoration-color: #00af00\">64</span>)             │             <span style=\"color: #00af00; text-decoration-color: #00af00\">0</span> │\n",
       "├─────────────────────────────────┼────────────────────────┼───────────────┤\n",
       "│ dense_23 (<span style=\"color: #0087ff; text-decoration-color: #0087ff\">Dense</span>)                │ (<span style=\"color: #00d7ff; text-decoration-color: #00d7ff\">None</span>, <span style=\"color: #00af00; text-decoration-color: #00af00\">32</span>)             │         <span style=\"color: #00af00; text-decoration-color: #00af00\">2,080</span> │\n",
       "├─────────────────────────────────┼────────────────────────┼───────────────┤\n",
       "│ dropout_15 (<span style=\"color: #0087ff; text-decoration-color: #0087ff\">Dropout</span>)            │ (<span style=\"color: #00d7ff; text-decoration-color: #00d7ff\">None</span>, <span style=\"color: #00af00; text-decoration-color: #00af00\">32</span>)             │             <span style=\"color: #00af00; text-decoration-color: #00af00\">0</span> │\n",
       "├─────────────────────────────────┼────────────────────────┼───────────────┤\n",
       "│ dense_24 (<span style=\"color: #0087ff; text-decoration-color: #0087ff\">Dense</span>)                │ (<span style=\"color: #00d7ff; text-decoration-color: #00d7ff\">None</span>, <span style=\"color: #00af00; text-decoration-color: #00af00\">1024</span>)           │        <span style=\"color: #00af00; text-decoration-color: #00af00\">33,792</span> │\n",
       "├─────────────────────────────────┼────────────────────────┼───────────────┤\n",
       "│ dense_25 (<span style=\"color: #0087ff; text-decoration-color: #0087ff\">Dense</span>)                │ (<span style=\"color: #00d7ff; text-decoration-color: #00d7ff\">None</span>, <span style=\"color: #00af00; text-decoration-color: #00af00\">512</span>)            │       <span style=\"color: #00af00; text-decoration-color: #00af00\">524,800</span> │\n",
       "├─────────────────────────────────┼────────────────────────┼───────────────┤\n",
       "│ dense_26 (<span style=\"color: #0087ff; text-decoration-color: #0087ff\">Dense</span>)                │ (<span style=\"color: #00d7ff; text-decoration-color: #00d7ff\">None</span>, <span style=\"color: #00af00; text-decoration-color: #00af00\">128</span>)            │        <span style=\"color: #00af00; text-decoration-color: #00af00\">65,664</span> │\n",
       "├─────────────────────────────────┼────────────────────────┼───────────────┤\n",
       "│ dense_27 (<span style=\"color: #0087ff; text-decoration-color: #0087ff\">Dense</span>)                │ (<span style=\"color: #00d7ff; text-decoration-color: #00d7ff\">None</span>, <span style=\"color: #00af00; text-decoration-color: #00af00\">3</span>)              │           <span style=\"color: #00af00; text-decoration-color: #00af00\">387</span> │\n",
       "└─────────────────────────────────┴────────────────────────┴───────────────┘\n",
       "</pre>\n"
      ],
      "text/plain": [
       "┏━━━━━━━━━━━━━━━━━━━━━━━━━━━━━━━━━┳━━━━━━━━━━━━━━━━━━━━━━━━┳━━━━━━━━━━━━━━━┓\n",
       "┃\u001b[1m \u001b[0m\u001b[1mLayer (type)                   \u001b[0m\u001b[1m \u001b[0m┃\u001b[1m \u001b[0m\u001b[1mOutput Shape          \u001b[0m\u001b[1m \u001b[0m┃\u001b[1m \u001b[0m\u001b[1m      Param #\u001b[0m\u001b[1m \u001b[0m┃\n",
       "┡━━━━━━━━━━━━━━━━━━━━━━━━━━━━━━━━━╇━━━━━━━━━━━━━━━━━━━━━━━━╇━━━━━━━━━━━━━━━┩\n",
       "│ audio_and_direction_features_i… │ (\u001b[38;5;45mNone\u001b[0m, \u001b[38;5;34m25\u001b[0m)             │             \u001b[38;5;34m0\u001b[0m │\n",
       "│ (\u001b[38;5;33mInputLayer\u001b[0m)                    │                        │               │\n",
       "├─────────────────────────────────┼────────────────────────┼───────────────┤\n",
       "│ dense_21 (\u001b[38;5;33mDense\u001b[0m)                │ (\u001b[38;5;45mNone\u001b[0m, \u001b[38;5;34m64\u001b[0m)             │         \u001b[38;5;34m1,664\u001b[0m │\n",
       "├─────────────────────────────────┼────────────────────────┼───────────────┤\n",
       "│ dropout_13 (\u001b[38;5;33mDropout\u001b[0m)            │ (\u001b[38;5;45mNone\u001b[0m, \u001b[38;5;34m64\u001b[0m)             │             \u001b[38;5;34m0\u001b[0m │\n",
       "├─────────────────────────────────┼────────────────────────┼───────────────┤\n",
       "│ dense_22 (\u001b[38;5;33mDense\u001b[0m)                │ (\u001b[38;5;45mNone\u001b[0m, \u001b[38;5;34m64\u001b[0m)             │         \u001b[38;5;34m4,160\u001b[0m │\n",
       "├─────────────────────────────────┼────────────────────────┼───────────────┤\n",
       "│ dropout_14 (\u001b[38;5;33mDropout\u001b[0m)            │ (\u001b[38;5;45mNone\u001b[0m, \u001b[38;5;34m64\u001b[0m)             │             \u001b[38;5;34m0\u001b[0m │\n",
       "├─────────────────────────────────┼────────────────────────┼───────────────┤\n",
       "│ dense_23 (\u001b[38;5;33mDense\u001b[0m)                │ (\u001b[38;5;45mNone\u001b[0m, \u001b[38;5;34m32\u001b[0m)             │         \u001b[38;5;34m2,080\u001b[0m │\n",
       "├─────────────────────────────────┼────────────────────────┼───────────────┤\n",
       "│ dropout_15 (\u001b[38;5;33mDropout\u001b[0m)            │ (\u001b[38;5;45mNone\u001b[0m, \u001b[38;5;34m32\u001b[0m)             │             \u001b[38;5;34m0\u001b[0m │\n",
       "├─────────────────────────────────┼────────────────────────┼───────────────┤\n",
       "│ dense_24 (\u001b[38;5;33mDense\u001b[0m)                │ (\u001b[38;5;45mNone\u001b[0m, \u001b[38;5;34m1024\u001b[0m)           │        \u001b[38;5;34m33,792\u001b[0m │\n",
       "├─────────────────────────────────┼────────────────────────┼───────────────┤\n",
       "│ dense_25 (\u001b[38;5;33mDense\u001b[0m)                │ (\u001b[38;5;45mNone\u001b[0m, \u001b[38;5;34m512\u001b[0m)            │       \u001b[38;5;34m524,800\u001b[0m │\n",
       "├─────────────────────────────────┼────────────────────────┼───────────────┤\n",
       "│ dense_26 (\u001b[38;5;33mDense\u001b[0m)                │ (\u001b[38;5;45mNone\u001b[0m, \u001b[38;5;34m128\u001b[0m)            │        \u001b[38;5;34m65,664\u001b[0m │\n",
       "├─────────────────────────────────┼────────────────────────┼───────────────┤\n",
       "│ dense_27 (\u001b[38;5;33mDense\u001b[0m)                │ (\u001b[38;5;45mNone\u001b[0m, \u001b[38;5;34m3\u001b[0m)              │           \u001b[38;5;34m387\u001b[0m │\n",
       "└─────────────────────────────────┴────────────────────────┴───────────────┘\n"
      ]
     },
     "metadata": {},
     "output_type": "display_data"
    },
    {
     "data": {
      "text/html": [
       "<pre style=\"white-space:pre;overflow-x:auto;line-height:normal;font-family:Menlo,'DejaVu Sans Mono',consolas,'Courier New',monospace\"><span style=\"font-weight: bold\"> Total params: </span><span style=\"color: #00af00; text-decoration-color: #00af00\">632,547</span> (2.41 MB)\n",
       "</pre>\n"
      ],
      "text/plain": [
       "\u001b[1m Total params: \u001b[0m\u001b[38;5;34m632,547\u001b[0m (2.41 MB)\n"
      ]
     },
     "metadata": {},
     "output_type": "display_data"
    },
    {
     "data": {
      "text/html": [
       "<pre style=\"white-space:pre;overflow-x:auto;line-height:normal;font-family:Menlo,'DejaVu Sans Mono',consolas,'Courier New',monospace\"><span style=\"font-weight: bold\"> Trainable params: </span><span style=\"color: #00af00; text-decoration-color: #00af00\">632,547</span> (2.41 MB)\n",
       "</pre>\n"
      ],
      "text/plain": [
       "\u001b[1m Trainable params: \u001b[0m\u001b[38;5;34m632,547\u001b[0m (2.41 MB)\n"
      ]
     },
     "metadata": {},
     "output_type": "display_data"
    },
    {
     "data": {
      "text/html": [
       "<pre style=\"white-space:pre;overflow-x:auto;line-height:normal;font-family:Menlo,'DejaVu Sans Mono',consolas,'Courier New',monospace\"><span style=\"font-weight: bold\"> Non-trainable params: </span><span style=\"color: #00af00; text-decoration-color: #00af00\">0</span> (0.00 B)\n",
       "</pre>\n"
      ],
      "text/plain": [
       "\u001b[1m Non-trainable params: \u001b[0m\u001b[38;5;34m0\u001b[0m (0.00 B)\n"
      ]
     },
     "metadata": {},
     "output_type": "display_data"
    }
   ],
   "source": [
    "\n",
    "# ------------------------------------------------------------------------------\n",
    "# MODELLO MONO-OUTPUT - # 15\n",
    "# ------------------------------------------------------------------------------\n",
    "\n",
    "'''\n",
    "PARTE DIRECTION\n",
    "\n",
    "Come modello 14 ma con anche le audio feature\n",
    "'''\n",
    "\n",
    "# Definizione del modello\n",
    "\n",
    "# 2. Ramo per le feature audio\n",
    "input_features = tf.keras.Input(shape=(audio_and_direction_features_scaled.shape[1],), name='audio_and_direction_features_input')\n",
    "\n",
    "x2 = tf.keras.layers.Dense(64, activation='relu')(input_features)\n",
    "x2 = tf.keras.layers.Dropout(0.2)(x2)\n",
    "x2 = tf.keras.layers.Dense(64, activation='relu')(x2)\n",
    "x2 = tf.keras.layers.Dropout(0.2)(x2)\n",
    "x2 = tf.keras.layers.Dense(32, activation='relu')(x2)\n",
    "x2 = tf.keras.layers.Dropout(0.2)(x2)\n",
    "\n",
    "# Dense layers finali\n",
    "x = tf.keras.layers.Dense(1024, activation='relu')(x2)\n",
    "x = tf.keras.layers.Dense(512, activation='relu')(x)\n",
    "x = tf.keras.layers.Dense(128, activation='relu')(x)\n",
    "\n",
    "output = tf.keras.layers.Dense(3, activation='softmax')(x)\n",
    "\n",
    "# Modello completo\n",
    "model_15 = tf.keras.Model(inputs=input_features, outputs=output)\n",
    "\n",
    "model_15.summary()\n",
    "\n",
    "\n",
    "model_15.compile(optimizer='adam',\n",
    "                loss='categorical_crossentropy',\n",
    "                metrics=['accuracy'])\n",
    "\n",
    "# Callbacks\n",
    "reduce_lr = tf.keras.callbacks.ReduceLROnPlateau(\n",
    "    monitor='val_vehicle_output_loss',\n",
    "    factor=0.5,\n",
    "    patience=8,\n",
    "    min_lr=1e-6\n",
    ")\n",
    "early_stopping = tf.keras.callbacks.EarlyStopping(\n",
    "    monitor='val_loss',\n",
    "    patience=50,\n",
    "    restore_best_weights=True\n",
    ")\n",
    "model_checkpoint = tf.keras.callbacks.ModelCheckpoint(\n",
    "    filepath='best_model_15.h5',\n",
    "    monitor='val_loss',\n",
    "    save_best_only=True\n",
    ")"
   ]
  },
  {
   "cell_type": "code",
   "execution_count": 20,
   "id": "7a8a38d0",
   "metadata": {},
   "outputs": [
    {
     "name": "stdout",
     "output_type": "stream",
     "text": [
      "Epoch 1/500\n",
      "\u001b[1m379/383\u001b[0m \u001b[32m━━━━━━━━━━━━━━━━━━━\u001b[0m\u001b[37m━\u001b[0m \u001b[1m0s\u001b[0m 4ms/step - accuracy: 0.5933 - loss: 0.8294"
     ]
    },
    {
     "name": "stderr",
     "output_type": "stream",
     "text": [
      "c:\\Users\\matte\\miniconda3\\envs\\env_STMAE\\lib\\site-packages\\keras\\src\\callbacks\\callback_list.py:145: UserWarning: Learning rate reduction is conditioned on metric `val_vehicle_output_loss` which is not available. Available metrics are: accuracy,loss,val_accuracy,val_loss,learning_rate.\n",
      "  callback.on_epoch_end(epoch, logs)\n",
      "WARNING:absl:You are saving your model as an HDF5 file via `model.save()` or `keras.saving.save_model(model)`. This file format is considered legacy. We recommend using instead the native Keras format, e.g. `model.save('my_model.keras')` or `keras.saving.save_model(model, 'my_model.keras')`. \n"
     ]
    },
    {
     "name": "stdout",
     "output_type": "stream",
     "text": [
      "\u001b[1m383/383\u001b[0m \u001b[32m━━━━━━━━━━━━━━━━━━━━\u001b[0m\u001b[37m\u001b[0m \u001b[1m4s\u001b[0m 6ms/step - accuracy: 0.5938 - loss: 0.8283 - val_accuracy: 0.6866 - val_loss: 0.6180 - learning_rate: 0.0010\n",
      "Epoch 2/500\n",
      "\u001b[1m376/383\u001b[0m \u001b[32m━━━━━━━━━━━━━━━━━━━\u001b[0m\u001b[37m━\u001b[0m \u001b[1m0s\u001b[0m 4ms/step - accuracy: 0.6599 - loss: 0.6388"
     ]
    },
    {
     "name": "stderr",
     "output_type": "stream",
     "text": [
      "WARNING:absl:You are saving your model as an HDF5 file via `model.save()` or `keras.saving.save_model(model)`. This file format is considered legacy. We recommend using instead the native Keras format, e.g. `model.save('my_model.keras')` or `keras.saving.save_model(model, 'my_model.keras')`. \n"
     ]
    },
    {
     "name": "stdout",
     "output_type": "stream",
     "text": [
      "\u001b[1m383/383\u001b[0m \u001b[32m━━━━━━━━━━━━━━━━━━━━\u001b[0m\u001b[37m\u001b[0m \u001b[1m2s\u001b[0m 5ms/step - accuracy: 0.6601 - loss: 0.6386 - val_accuracy: 0.6938 - val_loss: 0.5545 - learning_rate: 0.0010\n",
      "Epoch 3/500\n",
      "\u001b[1m378/383\u001b[0m \u001b[32m━━━━━━━━━━━━━━━━━━━\u001b[0m\u001b[37m━\u001b[0m \u001b[1m0s\u001b[0m 5ms/step - accuracy: 0.6864 - loss: 0.6218"
     ]
    },
    {
     "name": "stderr",
     "output_type": "stream",
     "text": [
      "WARNING:absl:You are saving your model as an HDF5 file via `model.save()` or `keras.saving.save_model(model)`. This file format is considered legacy. We recommend using instead the native Keras format, e.g. `model.save('my_model.keras')` or `keras.saving.save_model(model, 'my_model.keras')`. \n"
     ]
    },
    {
     "name": "stdout",
     "output_type": "stream",
     "text": [
      "\u001b[1m383/383\u001b[0m \u001b[32m━━━━━━━━━━━━━━━━━━━━\u001b[0m\u001b[37m\u001b[0m \u001b[1m2s\u001b[0m 6ms/step - accuracy: 0.6864 - loss: 0.6214 - val_accuracy: 0.6889 - val_loss: 0.5444 - learning_rate: 0.0010\n",
      "Epoch 4/500\n",
      "\u001b[1m379/383\u001b[0m \u001b[32m━━━━━━━━━━━━━━━━━━━\u001b[0m\u001b[37m━\u001b[0m \u001b[1m0s\u001b[0m 4ms/step - accuracy: 0.6941 - loss: 0.5737"
     ]
    },
    {
     "name": "stderr",
     "output_type": "stream",
     "text": [
      "WARNING:absl:You are saving your model as an HDF5 file via `model.save()` or `keras.saving.save_model(model)`. This file format is considered legacy. We recommend using instead the native Keras format, e.g. `model.save('my_model.keras')` or `keras.saving.save_model(model, 'my_model.keras')`. \n"
     ]
    },
    {
     "name": "stdout",
     "output_type": "stream",
     "text": [
      "\u001b[1m383/383\u001b[0m \u001b[32m━━━━━━━━━━━━━━━━━━━━\u001b[0m\u001b[37m\u001b[0m \u001b[1m2s\u001b[0m 5ms/step - accuracy: 0.6941 - loss: 0.5737 - val_accuracy: 0.7148 - val_loss: 0.5228 - learning_rate: 0.0010\n",
      "Epoch 5/500\n",
      "\u001b[1m383/383\u001b[0m \u001b[32m━━━━━━━━━━━━━━━━━━━━\u001b[0m\u001b[37m\u001b[0m \u001b[1m2s\u001b[0m 6ms/step - accuracy: 0.7034 - loss: 0.5574 - val_accuracy: 0.7414 - val_loss: 0.5282 - learning_rate: 0.0010\n",
      "Epoch 6/500\n",
      "\u001b[1m374/383\u001b[0m \u001b[32m━━━━━━━━━━━━━━━━━━━\u001b[0m\u001b[37m━\u001b[0m \u001b[1m0s\u001b[0m 4ms/step - accuracy: 0.7133 - loss: 0.5496"
     ]
    },
    {
     "name": "stderr",
     "output_type": "stream",
     "text": [
      "WARNING:absl:You are saving your model as an HDF5 file via `model.save()` or `keras.saving.save_model(model)`. This file format is considered legacy. We recommend using instead the native Keras format, e.g. `model.save('my_model.keras')` or `keras.saving.save_model(model, 'my_model.keras')`. \n"
     ]
    },
    {
     "name": "stdout",
     "output_type": "stream",
     "text": [
      "\u001b[1m383/383\u001b[0m \u001b[32m━━━━━━━━━━━━━━━━━━━━\u001b[0m\u001b[37m\u001b[0m \u001b[1m2s\u001b[0m 5ms/step - accuracy: 0.7134 - loss: 0.5495 - val_accuracy: 0.7471 - val_loss: 0.5090 - learning_rate: 0.0010\n",
      "Epoch 7/500\n",
      "\u001b[1m377/383\u001b[0m \u001b[32m━━━━━━━━━━━━━━━━━━━\u001b[0m\u001b[37m━\u001b[0m \u001b[1m0s\u001b[0m 4ms/step - accuracy: 0.7224 - loss: 0.5303"
     ]
    },
    {
     "name": "stderr",
     "output_type": "stream",
     "text": [
      "WARNING:absl:You are saving your model as an HDF5 file via `model.save()` or `keras.saving.save_model(model)`. This file format is considered legacy. We recommend using instead the native Keras format, e.g. `model.save('my_model.keras')` or `keras.saving.save_model(model, 'my_model.keras')`. \n"
     ]
    },
    {
     "name": "stdout",
     "output_type": "stream",
     "text": [
      "\u001b[1m383/383\u001b[0m \u001b[32m━━━━━━━━━━━━━━━━━━━━\u001b[0m\u001b[37m\u001b[0m \u001b[1m2s\u001b[0m 5ms/step - accuracy: 0.7224 - loss: 0.5304 - val_accuracy: 0.7589 - val_loss: 0.5009 - learning_rate: 0.0010\n",
      "Epoch 8/500\n",
      "\u001b[1m381/383\u001b[0m \u001b[32m━━━━━━━━━━━━━━━━━━━\u001b[0m\u001b[37m━\u001b[0m \u001b[1m0s\u001b[0m 5ms/step - accuracy: 0.7311 - loss: 0.5283"
     ]
    },
    {
     "name": "stderr",
     "output_type": "stream",
     "text": [
      "WARNING:absl:You are saving your model as an HDF5 file via `model.save()` or `keras.saving.save_model(model)`. This file format is considered legacy. We recommend using instead the native Keras format, e.g. `model.save('my_model.keras')` or `keras.saving.save_model(model, 'my_model.keras')`. \n"
     ]
    },
    {
     "name": "stdout",
     "output_type": "stream",
     "text": [
      "\u001b[1m383/383\u001b[0m \u001b[32m━━━━━━━━━━━━━━━━━━━━\u001b[0m\u001b[37m\u001b[0m \u001b[1m2s\u001b[0m 5ms/step - accuracy: 0.7311 - loss: 0.5282 - val_accuracy: 0.7601 - val_loss: 0.4988 - learning_rate: 0.0010\n",
      "Epoch 9/500\n",
      "\u001b[1m372/383\u001b[0m \u001b[32m━━━━━━━━━━━━━━━━━━━\u001b[0m\u001b[37m━\u001b[0m \u001b[1m0s\u001b[0m 4ms/step - accuracy: 0.7372 - loss: 0.5224"
     ]
    },
    {
     "name": "stderr",
     "output_type": "stream",
     "text": [
      "WARNING:absl:You are saving your model as an HDF5 file via `model.save()` or `keras.saving.save_model(model)`. This file format is considered legacy. We recommend using instead the native Keras format, e.g. `model.save('my_model.keras')` or `keras.saving.save_model(model, 'my_model.keras')`. \n"
     ]
    },
    {
     "name": "stdout",
     "output_type": "stream",
     "text": [
      "\u001b[1m383/383\u001b[0m \u001b[32m━━━━━━━━━━━━━━━━━━━━\u001b[0m\u001b[37m\u001b[0m \u001b[1m2s\u001b[0m 5ms/step - accuracy: 0.7372 - loss: 0.5224 - val_accuracy: 0.7654 - val_loss: 0.4981 - learning_rate: 0.0010\n",
      "Epoch 10/500\n",
      "\u001b[1m377/383\u001b[0m \u001b[32m━━━━━━━━━━━━━━━━━━━\u001b[0m\u001b[37m━\u001b[0m \u001b[1m0s\u001b[0m 4ms/step - accuracy: 0.7450 - loss: 0.5154"
     ]
    },
    {
     "name": "stderr",
     "output_type": "stream",
     "text": [
      "WARNING:absl:You are saving your model as an HDF5 file via `model.save()` or `keras.saving.save_model(model)`. This file format is considered legacy. We recommend using instead the native Keras format, e.g. `model.save('my_model.keras')` or `keras.saving.save_model(model, 'my_model.keras')`. \n"
     ]
    },
    {
     "name": "stdout",
     "output_type": "stream",
     "text": [
      "\u001b[1m383/383\u001b[0m \u001b[32m━━━━━━━━━━━━━━━━━━━━\u001b[0m\u001b[37m\u001b[0m \u001b[1m2s\u001b[0m 5ms/step - accuracy: 0.7449 - loss: 0.5154 - val_accuracy: 0.7662 - val_loss: 0.4895 - learning_rate: 0.0010\n",
      "Epoch 11/500\n",
      "\u001b[1m376/383\u001b[0m \u001b[32m━━━━━━━━━━━━━━━━━━━\u001b[0m\u001b[37m━\u001b[0m \u001b[1m0s\u001b[0m 4ms/step - accuracy: 0.7465 - loss: 0.5051"
     ]
    },
    {
     "name": "stderr",
     "output_type": "stream",
     "text": [
      "WARNING:absl:You are saving your model as an HDF5 file via `model.save()` or `keras.saving.save_model(model)`. This file format is considered legacy. We recommend using instead the native Keras format, e.g. `model.save('my_model.keras')` or `keras.saving.save_model(model, 'my_model.keras')`. \n"
     ]
    },
    {
     "name": "stdout",
     "output_type": "stream",
     "text": [
      "\u001b[1m383/383\u001b[0m \u001b[32m━━━━━━━━━━━━━━━━━━━━\u001b[0m\u001b[37m\u001b[0m \u001b[1m2s\u001b[0m 5ms/step - accuracy: 0.7464 - loss: 0.5050 - val_accuracy: 0.7700 - val_loss: 0.4690 - learning_rate: 0.0010\n",
      "Epoch 12/500\n",
      "\u001b[1m380/383\u001b[0m \u001b[32m━━━━━━━━━━━━━━━━━━━\u001b[0m\u001b[37m━\u001b[0m \u001b[1m0s\u001b[0m 4ms/step - accuracy: 0.7491 - loss: 0.4965"
     ]
    },
    {
     "name": "stderr",
     "output_type": "stream",
     "text": [
      "WARNING:absl:You are saving your model as an HDF5 file via `model.save()` or `keras.saving.save_model(model)`. This file format is considered legacy. We recommend using instead the native Keras format, e.g. `model.save('my_model.keras')` or `keras.saving.save_model(model, 'my_model.keras')`. \n"
     ]
    },
    {
     "name": "stdout",
     "output_type": "stream",
     "text": [
      "\u001b[1m383/383\u001b[0m \u001b[32m━━━━━━━━━━━━━━━━━━━━\u001b[0m\u001b[37m\u001b[0m \u001b[1m2s\u001b[0m 5ms/step - accuracy: 0.7491 - loss: 0.4965 - val_accuracy: 0.7688 - val_loss: 0.4656 - learning_rate: 0.0010\n",
      "Epoch 13/500\n",
      "\u001b[1m383/383\u001b[0m \u001b[32m━━━━━━━━━━━━━━━━━━━━\u001b[0m\u001b[37m\u001b[0m \u001b[1m2s\u001b[0m 5ms/step - accuracy: 0.7547 - loss: 0.4850 - val_accuracy: 0.7757 - val_loss: 0.4699 - learning_rate: 0.0010\n",
      "Epoch 14/500\n",
      "\u001b[1m383/383\u001b[0m \u001b[32m━━━━━━━━━━━━━━━━━━━━\u001b[0m\u001b[37m\u001b[0m \u001b[1m0s\u001b[0m 4ms/step - accuracy: 0.7673 - loss: 0.4820"
     ]
    },
    {
     "name": "stderr",
     "output_type": "stream",
     "text": [
      "WARNING:absl:You are saving your model as an HDF5 file via `model.save()` or `keras.saving.save_model(model)`. This file format is considered legacy. We recommend using instead the native Keras format, e.g. `model.save('my_model.keras')` or `keras.saving.save_model(model, 'my_model.keras')`. \n"
     ]
    },
    {
     "name": "stdout",
     "output_type": "stream",
     "text": [
      "\u001b[1m383/383\u001b[0m \u001b[32m━━━━━━━━━━━━━━━━━━━━\u001b[0m\u001b[37m\u001b[0m \u001b[1m2s\u001b[0m 5ms/step - accuracy: 0.7673 - loss: 0.4821 - val_accuracy: 0.7807 - val_loss: 0.4545 - learning_rate: 0.0010\n",
      "Epoch 15/500\n",
      "\u001b[1m379/383\u001b[0m \u001b[32m━━━━━━━━━━━━━━━━━━━\u001b[0m\u001b[37m━\u001b[0m \u001b[1m0s\u001b[0m 4ms/step - accuracy: 0.7658 - loss: 0.4776"
     ]
    },
    {
     "name": "stderr",
     "output_type": "stream",
     "text": [
      "WARNING:absl:You are saving your model as an HDF5 file via `model.save()` or `keras.saving.save_model(model)`. This file format is considered legacy. We recommend using instead the native Keras format, e.g. `model.save('my_model.keras')` or `keras.saving.save_model(model, 'my_model.keras')`. \n"
     ]
    },
    {
     "name": "stdout",
     "output_type": "stream",
     "text": [
      "\u001b[1m383/383\u001b[0m \u001b[32m━━━━━━━━━━━━━━━━━━━━\u001b[0m\u001b[37m\u001b[0m \u001b[1m2s\u001b[0m 5ms/step - accuracy: 0.7658 - loss: 0.4776 - val_accuracy: 0.7879 - val_loss: 0.4454 - learning_rate: 0.0010\n",
      "Epoch 16/500\n",
      "\u001b[1m383/383\u001b[0m \u001b[32m━━━━━━━━━━━━━━━━━━━━\u001b[0m\u001b[37m\u001b[0m \u001b[1m2s\u001b[0m 5ms/step - accuracy: 0.7714 - loss: 0.4750 - val_accuracy: 0.7966 - val_loss: 0.4579 - learning_rate: 0.0010\n",
      "Epoch 17/500\n",
      "\u001b[1m383/383\u001b[0m \u001b[32m━━━━━━━━━━━━━━━━━━━━\u001b[0m\u001b[37m\u001b[0m \u001b[1m2s\u001b[0m 5ms/step - accuracy: 0.7743 - loss: 0.4536 - val_accuracy: 0.7803 - val_loss: 0.4459 - learning_rate: 0.0010\n",
      "Epoch 18/500\n",
      "\u001b[1m378/383\u001b[0m \u001b[32m━━━━━━━━━━━━━━━━━━━\u001b[0m\u001b[37m━\u001b[0m \u001b[1m0s\u001b[0m 4ms/step - accuracy: 0.7645 - loss: 0.4819"
     ]
    },
    {
     "name": "stderr",
     "output_type": "stream",
     "text": [
      "WARNING:absl:You are saving your model as an HDF5 file via `model.save()` or `keras.saving.save_model(model)`. This file format is considered legacy. We recommend using instead the native Keras format, e.g. `model.save('my_model.keras')` or `keras.saving.save_model(model, 'my_model.keras')`. \n"
     ]
    },
    {
     "name": "stdout",
     "output_type": "stream",
     "text": [
      "\u001b[1m383/383\u001b[0m \u001b[32m━━━━━━━━━━━━━━━━━━━━\u001b[0m\u001b[37m\u001b[0m \u001b[1m2s\u001b[0m 5ms/step - accuracy: 0.7646 - loss: 0.4817 - val_accuracy: 0.7963 - val_loss: 0.4432 - learning_rate: 0.0010\n",
      "Epoch 19/500\n",
      "\u001b[1m383/383\u001b[0m \u001b[32m━━━━━━━━━━━━━━━━━━━━\u001b[0m\u001b[37m\u001b[0m \u001b[1m2s\u001b[0m 5ms/step - accuracy: 0.7751 - loss: 0.4599 - val_accuracy: 0.7841 - val_loss: 0.4479 - learning_rate: 0.0010\n",
      "Epoch 20/500\n",
      "\u001b[1m374/383\u001b[0m \u001b[32m━━━━━━━━━━━━━━━━━━━\u001b[0m\u001b[37m━\u001b[0m \u001b[1m0s\u001b[0m 4ms/step - accuracy: 0.7752 - loss: 0.4665"
     ]
    },
    {
     "name": "stderr",
     "output_type": "stream",
     "text": [
      "WARNING:absl:You are saving your model as an HDF5 file via `model.save()` or `keras.saving.save_model(model)`. This file format is considered legacy. We recommend using instead the native Keras format, e.g. `model.save('my_model.keras')` or `keras.saving.save_model(model, 'my_model.keras')`. \n"
     ]
    },
    {
     "name": "stdout",
     "output_type": "stream",
     "text": [
      "\u001b[1m383/383\u001b[0m \u001b[32m━━━━━━━━━━━━━━━━━━━━\u001b[0m\u001b[37m\u001b[0m \u001b[1m2s\u001b[0m 5ms/step - accuracy: 0.7752 - loss: 0.4664 - val_accuracy: 0.7913 - val_loss: 0.4423 - learning_rate: 0.0010\n",
      "Epoch 21/500\n",
      "\u001b[1m383/383\u001b[0m \u001b[32m━━━━━━━━━━━━━━━━━━━━\u001b[0m\u001b[37m\u001b[0m \u001b[1m2s\u001b[0m 5ms/step - accuracy: 0.7809 - loss: 0.4548 - val_accuracy: 0.7814 - val_loss: 0.4465 - learning_rate: 0.0010\n",
      "Epoch 22/500\n",
      "\u001b[1m383/383\u001b[0m \u001b[32m━━━━━━━━━━━━━━━━━━━━\u001b[0m\u001b[37m\u001b[0m \u001b[1m2s\u001b[0m 6ms/step - accuracy: 0.7951 - loss: 0.4443 - val_accuracy: 0.7913 - val_loss: 0.4484 - learning_rate: 0.0010\n",
      "Epoch 23/500\n",
      "\u001b[1m383/383\u001b[0m \u001b[32m━━━━━━━━━━━━━━━━━━━━\u001b[0m\u001b[37m\u001b[0m \u001b[1m2s\u001b[0m 6ms/step - accuracy: 0.7851 - loss: 0.4526 - val_accuracy: 0.7898 - val_loss: 0.4445 - learning_rate: 0.0010\n",
      "Epoch 24/500\n",
      "\u001b[1m382/383\u001b[0m \u001b[32m━━━━━━━━━━━━━━━━━━━\u001b[0m\u001b[37m━\u001b[0m \u001b[1m0s\u001b[0m 5ms/step - accuracy: 0.7826 - loss: 0.4515"
     ]
    },
    {
     "name": "stderr",
     "output_type": "stream",
     "text": [
      "WARNING:absl:You are saving your model as an HDF5 file via `model.save()` or `keras.saving.save_model(model)`. This file format is considered legacy. We recommend using instead the native Keras format, e.g. `model.save('my_model.keras')` or `keras.saving.save_model(model, 'my_model.keras')`. \n"
     ]
    },
    {
     "name": "stdout",
     "output_type": "stream",
     "text": [
      "\u001b[1m383/383\u001b[0m \u001b[32m━━━━━━━━━━━━━━━━━━━━\u001b[0m\u001b[37m\u001b[0m \u001b[1m2s\u001b[0m 6ms/step - accuracy: 0.7826 - loss: 0.4515 - val_accuracy: 0.7902 - val_loss: 0.4358 - learning_rate: 0.0010\n",
      "Epoch 25/500\n",
      "\u001b[1m375/383\u001b[0m \u001b[32m━━━━━━━━━━━━━━━━━━━\u001b[0m\u001b[37m━\u001b[0m \u001b[1m0s\u001b[0m 4ms/step - accuracy: 0.7832 - loss: 0.4436"
     ]
    },
    {
     "name": "stderr",
     "output_type": "stream",
     "text": [
      "WARNING:absl:You are saving your model as an HDF5 file via `model.save()` or `keras.saving.save_model(model)`. This file format is considered legacy. We recommend using instead the native Keras format, e.g. `model.save('my_model.keras')` or `keras.saving.save_model(model, 'my_model.keras')`. \n"
     ]
    },
    {
     "name": "stdout",
     "output_type": "stream",
     "text": [
      "\u001b[1m383/383\u001b[0m \u001b[32m━━━━━━━━━━━━━━━━━━━━\u001b[0m\u001b[37m\u001b[0m \u001b[1m2s\u001b[0m 5ms/step - accuracy: 0.7832 - loss: 0.4436 - val_accuracy: 0.7829 - val_loss: 0.4293 - learning_rate: 0.0010\n",
      "Epoch 26/500\n",
      "\u001b[1m383/383\u001b[0m \u001b[32m━━━━━━━━━━━━━━━━━━━━\u001b[0m\u001b[37m\u001b[0m \u001b[1m2s\u001b[0m 5ms/step - accuracy: 0.7845 - loss: 0.4499 - val_accuracy: 0.7841 - val_loss: 0.4411 - learning_rate: 0.0010\n",
      "Epoch 27/500\n",
      "\u001b[1m379/383\u001b[0m \u001b[32m━━━━━━━━━━━━━━━━━━━\u001b[0m\u001b[37m━\u001b[0m \u001b[1m0s\u001b[0m 4ms/step - accuracy: 0.7908 - loss: 0.4418"
     ]
    },
    {
     "name": "stderr",
     "output_type": "stream",
     "text": [
      "WARNING:absl:You are saving your model as an HDF5 file via `model.save()` or `keras.saving.save_model(model)`. This file format is considered legacy. We recommend using instead the native Keras format, e.g. `model.save('my_model.keras')` or `keras.saving.save_model(model, 'my_model.keras')`. \n"
     ]
    },
    {
     "name": "stdout",
     "output_type": "stream",
     "text": [
      "\u001b[1m383/383\u001b[0m \u001b[32m━━━━━━━━━━━━━━━━━━━━\u001b[0m\u001b[37m\u001b[0m \u001b[1m2s\u001b[0m 5ms/step - accuracy: 0.7908 - loss: 0.4419 - val_accuracy: 0.7909 - val_loss: 0.4207 - learning_rate: 0.0010\n",
      "Epoch 28/500\n",
      "\u001b[1m383/383\u001b[0m \u001b[32m━━━━━━━━━━━━━━━━━━━━\u001b[0m\u001b[37m\u001b[0m \u001b[1m2s\u001b[0m 5ms/step - accuracy: 0.7911 - loss: 0.4354 - val_accuracy: 0.7917 - val_loss: 0.4354 - learning_rate: 0.0010\n",
      "Epoch 29/500\n",
      "\u001b[1m383/383\u001b[0m \u001b[32m━━━━━━━━━━━━━━━━━━━━\u001b[0m\u001b[37m\u001b[0m \u001b[1m2s\u001b[0m 5ms/step - accuracy: 0.7882 - loss: 0.4393 - val_accuracy: 0.7951 - val_loss: 0.4219 - learning_rate: 0.0010\n",
      "Epoch 30/500\n",
      "\u001b[1m383/383\u001b[0m \u001b[32m━━━━━━━━━━━━━━━━━━━━\u001b[0m\u001b[37m\u001b[0m \u001b[1m2s\u001b[0m 5ms/step - accuracy: 0.7889 - loss: 0.4355 - val_accuracy: 0.7944 - val_loss: 0.4311 - learning_rate: 0.0010\n",
      "Epoch 31/500\n",
      "\u001b[1m382/383\u001b[0m \u001b[32m━━━━━━━━━━━━━━━━━━━\u001b[0m\u001b[37m━\u001b[0m \u001b[1m0s\u001b[0m 4ms/step - accuracy: 0.8006 - loss: 0.4349"
     ]
    },
    {
     "name": "stderr",
     "output_type": "stream",
     "text": [
      "WARNING:absl:You are saving your model as an HDF5 file via `model.save()` or `keras.saving.save_model(model)`. This file format is considered legacy. We recommend using instead the native Keras format, e.g. `model.save('my_model.keras')` or `keras.saving.save_model(model, 'my_model.keras')`. \n"
     ]
    },
    {
     "name": "stdout",
     "output_type": "stream",
     "text": [
      "\u001b[1m383/383\u001b[0m \u001b[32m━━━━━━━━━━━━━━━━━━━━\u001b[0m\u001b[37m\u001b[0m \u001b[1m2s\u001b[0m 5ms/step - accuracy: 0.8006 - loss: 0.4349 - val_accuracy: 0.8062 - val_loss: 0.4085 - learning_rate: 0.0010\n",
      "Epoch 32/500\n",
      "\u001b[1m383/383\u001b[0m \u001b[32m━━━━━━━━━━━━━━━━━━━━\u001b[0m\u001b[37m\u001b[0m \u001b[1m0s\u001b[0m 5ms/step - accuracy: 0.7944 - loss: 0.4380"
     ]
    },
    {
     "name": "stderr",
     "output_type": "stream",
     "text": [
      "WARNING:absl:You are saving your model as an HDF5 file via `model.save()` or `keras.saving.save_model(model)`. This file format is considered legacy. We recommend using instead the native Keras format, e.g. `model.save('my_model.keras')` or `keras.saving.save_model(model, 'my_model.keras')`. \n"
     ]
    },
    {
     "name": "stdout",
     "output_type": "stream",
     "text": [
      "\u001b[1m383/383\u001b[0m \u001b[32m━━━━━━━━━━━━━━━━━━━━\u001b[0m\u001b[37m\u001b[0m \u001b[1m2s\u001b[0m 5ms/step - accuracy: 0.7944 - loss: 0.4380 - val_accuracy: 0.8005 - val_loss: 0.4076 - learning_rate: 0.0010\n",
      "Epoch 33/500\n",
      "\u001b[1m383/383\u001b[0m \u001b[32m━━━━━━━━━━━━━━━━━━━━\u001b[0m\u001b[37m\u001b[0m \u001b[1m2s\u001b[0m 5ms/step - accuracy: 0.7929 - loss: 0.4292 - val_accuracy: 0.7852 - val_loss: 0.4279 - learning_rate: 0.0010\n",
      "Epoch 34/500\n",
      "\u001b[1m383/383\u001b[0m \u001b[32m━━━━━━━━━━━━━━━━━━━━\u001b[0m\u001b[37m\u001b[0m \u001b[1m2s\u001b[0m 5ms/step - accuracy: 0.7904 - loss: 0.4344 - val_accuracy: 0.7932 - val_loss: 0.4251 - learning_rate: 0.0010\n",
      "Epoch 35/500\n",
      "\u001b[1m383/383\u001b[0m \u001b[32m━━━━━━━━━━━━━━━━━━━━\u001b[0m\u001b[37m\u001b[0m \u001b[1m2s\u001b[0m 5ms/step - accuracy: 0.7943 - loss: 0.4286 - val_accuracy: 0.7963 - val_loss: 0.4286 - learning_rate: 0.0010\n",
      "Epoch 36/500\n",
      "\u001b[1m383/383\u001b[0m \u001b[32m━━━━━━━━━━━━━━━━━━━━\u001b[0m\u001b[37m\u001b[0m \u001b[1m2s\u001b[0m 5ms/step - accuracy: 0.7983 - loss: 0.4238 - val_accuracy: 0.8008 - val_loss: 0.4177 - learning_rate: 0.0010\n",
      "Epoch 37/500\n",
      "\u001b[1m383/383\u001b[0m \u001b[32m━━━━━━━━━━━━━━━━━━━━\u001b[0m\u001b[37m\u001b[0m \u001b[1m2s\u001b[0m 5ms/step - accuracy: 0.8022 - loss: 0.4174 - val_accuracy: 0.8046 - val_loss: 0.4102 - learning_rate: 0.0010\n",
      "Epoch 38/500\n",
      "\u001b[1m383/383\u001b[0m \u001b[32m━━━━━━━━━━━━━━━━━━━━\u001b[0m\u001b[37m\u001b[0m \u001b[1m2s\u001b[0m 5ms/step - accuracy: 0.7938 - loss: 0.4273 - val_accuracy: 0.8031 - val_loss: 0.4164 - learning_rate: 0.0010\n",
      "Epoch 39/500\n",
      "\u001b[1m383/383\u001b[0m \u001b[32m━━━━━━━━━━━━━━━━━━━━\u001b[0m\u001b[37m\u001b[0m \u001b[1m2s\u001b[0m 5ms/step - accuracy: 0.8071 - loss: 0.4179 - val_accuracy: 0.7936 - val_loss: 0.4217 - learning_rate: 0.0010\n",
      "Epoch 40/500\n",
      "\u001b[1m383/383\u001b[0m \u001b[32m━━━━━━━━━━━━━━━━━━━━\u001b[0m\u001b[37m\u001b[0m \u001b[1m2s\u001b[0m 5ms/step - accuracy: 0.8108 - loss: 0.4072 - val_accuracy: 0.7974 - val_loss: 0.4296 - learning_rate: 0.0010\n",
      "Epoch 41/500\n",
      "\u001b[1m383/383\u001b[0m \u001b[32m━━━━━━━━━━━━━━━━━━━━\u001b[0m\u001b[37m\u001b[0m \u001b[1m2s\u001b[0m 6ms/step - accuracy: 0.8014 - loss: 0.4245 - val_accuracy: 0.7978 - val_loss: 0.4119 - learning_rate: 0.0010\n",
      "Epoch 42/500\n",
      "\u001b[1m383/383\u001b[0m \u001b[32m━━━━━━━━━━━━━━━━━━━━\u001b[0m\u001b[37m\u001b[0m \u001b[1m2s\u001b[0m 6ms/step - accuracy: 0.8073 - loss: 0.3986 - val_accuracy: 0.7955 - val_loss: 0.4270 - learning_rate: 0.0010\n",
      "Epoch 43/500\n",
      "\u001b[1m383/383\u001b[0m \u001b[32m━━━━━━━━━━━━━━━━━━━━\u001b[0m\u001b[37m\u001b[0m \u001b[1m2s\u001b[0m 5ms/step - accuracy: 0.8015 - loss: 0.4219 - val_accuracy: 0.8035 - val_loss: 0.4233 - learning_rate: 0.0010\n",
      "Epoch 44/500\n",
      "\u001b[1m383/383\u001b[0m \u001b[32m━━━━━━━━━━━━━━━━━━━━\u001b[0m\u001b[37m\u001b[0m \u001b[1m2s\u001b[0m 5ms/step - accuracy: 0.7990 - loss: 0.4186 - val_accuracy: 0.7982 - val_loss: 0.4108 - learning_rate: 0.0010\n",
      "Epoch 45/500\n",
      "\u001b[1m383/383\u001b[0m \u001b[32m━━━━━━━━━━━━━━━━━━━━\u001b[0m\u001b[37m\u001b[0m \u001b[1m2s\u001b[0m 6ms/step - accuracy: 0.8046 - loss: 0.4221 - val_accuracy: 0.7959 - val_loss: 0.4128 - learning_rate: 0.0010\n",
      "Epoch 46/500\n",
      "\u001b[1m383/383\u001b[0m \u001b[32m━━━━━━━━━━━━━━━━━━━━\u001b[0m\u001b[37m\u001b[0m \u001b[1m2s\u001b[0m 5ms/step - accuracy: 0.8045 - loss: 0.4126 - val_accuracy: 0.7780 - val_loss: 0.4424 - learning_rate: 0.0010\n",
      "Epoch 47/500\n",
      "\u001b[1m378/383\u001b[0m \u001b[32m━━━━━━━━━━━━━━━━━━━\u001b[0m\u001b[37m━\u001b[0m \u001b[1m0s\u001b[0m 4ms/step - accuracy: 0.7990 - loss: 0.4130"
     ]
    },
    {
     "name": "stderr",
     "output_type": "stream",
     "text": [
      "WARNING:absl:You are saving your model as an HDF5 file via `model.save()` or `keras.saving.save_model(model)`. This file format is considered legacy. We recommend using instead the native Keras format, e.g. `model.save('my_model.keras')` or `keras.saving.save_model(model, 'my_model.keras')`. \n"
     ]
    },
    {
     "name": "stdout",
     "output_type": "stream",
     "text": [
      "\u001b[1m383/383\u001b[0m \u001b[32m━━━━━━━━━━━━━━━━━━━━\u001b[0m\u001b[37m\u001b[0m \u001b[1m2s\u001b[0m 5ms/step - accuracy: 0.7990 - loss: 0.4130 - val_accuracy: 0.8085 - val_loss: 0.4074 - learning_rate: 0.0010\n",
      "Epoch 48/500\n",
      "\u001b[1m383/383\u001b[0m \u001b[32m━━━━━━━━━━━━━━━━━━━━\u001b[0m\u001b[37m\u001b[0m \u001b[1m2s\u001b[0m 5ms/step - accuracy: 0.8082 - loss: 0.4064 - val_accuracy: 0.7997 - val_loss: 0.4253 - learning_rate: 0.0010\n",
      "Epoch 49/500\n",
      "\u001b[1m383/383\u001b[0m \u001b[32m━━━━━━━━━━━━━━━━━━━━\u001b[0m\u001b[37m\u001b[0m \u001b[1m2s\u001b[0m 5ms/step - accuracy: 0.8053 - loss: 0.4082 - val_accuracy: 0.7951 - val_loss: 0.4262 - learning_rate: 0.0010\n",
      "Epoch 50/500\n",
      "\u001b[1m383/383\u001b[0m \u001b[32m━━━━━━━━━━━━━━━━━━━━\u001b[0m\u001b[37m\u001b[0m \u001b[1m2s\u001b[0m 5ms/step - accuracy: 0.8009 - loss: 0.4213 - val_accuracy: 0.8043 - val_loss: 0.4168 - learning_rate: 0.0010\n",
      "Epoch 51/500\n",
      "\u001b[1m383/383\u001b[0m \u001b[32m━━━━━━━━━━━━━━━━━━━━\u001b[0m\u001b[37m\u001b[0m \u001b[1m2s\u001b[0m 5ms/step - accuracy: 0.8106 - loss: 0.4005 - val_accuracy: 0.7887 - val_loss: 0.4254 - learning_rate: 0.0010\n",
      "Epoch 52/500\n",
      "\u001b[1m383/383\u001b[0m \u001b[32m━━━━━━━━━━━━━━━━━━━━\u001b[0m\u001b[37m\u001b[0m \u001b[1m2s\u001b[0m 5ms/step - accuracy: 0.8124 - loss: 0.3962 - val_accuracy: 0.8035 - val_loss: 0.4094 - learning_rate: 0.0010\n",
      "Epoch 53/500\n",
      "\u001b[1m383/383\u001b[0m \u001b[32m━━━━━━━━━━━━━━━━━━━━\u001b[0m\u001b[37m\u001b[0m \u001b[1m2s\u001b[0m 5ms/step - accuracy: 0.8059 - loss: 0.4124 - val_accuracy: 0.8001 - val_loss: 0.4141 - learning_rate: 0.0010\n",
      "Epoch 54/500\n",
      "\u001b[1m383/383\u001b[0m \u001b[32m━━━━━━━━━━━━━━━━━━━━\u001b[0m\u001b[37m\u001b[0m \u001b[1m2s\u001b[0m 5ms/step - accuracy: 0.8094 - loss: 0.4053 - val_accuracy: 0.7997 - val_loss: 0.4169 - learning_rate: 0.0010\n",
      "Epoch 55/500\n",
      "\u001b[1m383/383\u001b[0m \u001b[32m━━━━━━━━━━━━━━━━━━━━\u001b[0m\u001b[37m\u001b[0m \u001b[1m2s\u001b[0m 5ms/step - accuracy: 0.8112 - loss: 0.4046 - val_accuracy: 0.7898 - val_loss: 0.4209 - learning_rate: 0.0010\n",
      "Epoch 56/500\n",
      "\u001b[1m383/383\u001b[0m \u001b[32m━━━━━━━━━━━━━━━━━━━━\u001b[0m\u001b[37m\u001b[0m \u001b[1m2s\u001b[0m 5ms/step - accuracy: 0.8088 - loss: 0.4077 - val_accuracy: 0.8050 - val_loss: 0.4136 - learning_rate: 0.0010\n",
      "Epoch 57/500\n",
      "\u001b[1m383/383\u001b[0m \u001b[32m━━━━━━━━━━━━━━━━━━━━\u001b[0m\u001b[37m\u001b[0m \u001b[1m2s\u001b[0m 5ms/step - accuracy: 0.8151 - loss: 0.3946 - val_accuracy: 0.7993 - val_loss: 0.4107 - learning_rate: 0.0010\n",
      "Epoch 58/500\n",
      "\u001b[1m383/383\u001b[0m \u001b[32m━━━━━━━━━━━━━━━━━━━━\u001b[0m\u001b[37m\u001b[0m \u001b[1m2s\u001b[0m 6ms/step - accuracy: 0.8157 - loss: 0.4050 - val_accuracy: 0.8020 - val_loss: 0.4266 - learning_rate: 0.0010\n",
      "Epoch 59/500\n",
      "\u001b[1m383/383\u001b[0m \u001b[32m━━━━━━━━━━━━━━━━━━━━\u001b[0m\u001b[37m\u001b[0m \u001b[1m2s\u001b[0m 6ms/step - accuracy: 0.8107 - loss: 0.3978 - val_accuracy: 0.8020 - val_loss: 0.4174 - learning_rate: 0.0010\n",
      "Epoch 60/500\n",
      "\u001b[1m383/383\u001b[0m \u001b[32m━━━━━━━━━━━━━━━━━━━━\u001b[0m\u001b[37m\u001b[0m \u001b[1m2s\u001b[0m 6ms/step - accuracy: 0.8063 - loss: 0.4043 - val_accuracy: 0.8046 - val_loss: 0.4136 - learning_rate: 0.0010\n",
      "Epoch 61/500\n",
      "\u001b[1m383/383\u001b[0m \u001b[32m━━━━━━━━━━━━━━━━━━━━\u001b[0m\u001b[37m\u001b[0m \u001b[1m2s\u001b[0m 6ms/step - accuracy: 0.8018 - loss: 0.4069 - val_accuracy: 0.8149 - val_loss: 0.4100 - learning_rate: 0.0010\n",
      "Epoch 62/500\n",
      "\u001b[1m375/383\u001b[0m \u001b[32m━━━━━━━━━━━━━━━━━━━\u001b[0m\u001b[37m━\u001b[0m \u001b[1m0s\u001b[0m 5ms/step - accuracy: 0.8134 - loss: 0.3950"
     ]
    },
    {
     "name": "stderr",
     "output_type": "stream",
     "text": [
      "WARNING:absl:You are saving your model as an HDF5 file via `model.save()` or `keras.saving.save_model(model)`. This file format is considered legacy. We recommend using instead the native Keras format, e.g. `model.save('my_model.keras')` or `keras.saving.save_model(model, 'my_model.keras')`. \n"
     ]
    },
    {
     "name": "stdout",
     "output_type": "stream",
     "text": [
      "\u001b[1m383/383\u001b[0m \u001b[32m━━━━━━━━━━━━━━━━━━━━\u001b[0m\u001b[37m\u001b[0m \u001b[1m2s\u001b[0m 6ms/step - accuracy: 0.8133 - loss: 0.3952 - val_accuracy: 0.8050 - val_loss: 0.4068 - learning_rate: 0.0010\n",
      "Epoch 63/500\n",
      "\u001b[1m381/383\u001b[0m \u001b[32m━━━━━━━━━━━━━━━━━━━\u001b[0m\u001b[37m━\u001b[0m \u001b[1m0s\u001b[0m 5ms/step - accuracy: 0.8122 - loss: 0.3957"
     ]
    },
    {
     "name": "stderr",
     "output_type": "stream",
     "text": [
      "WARNING:absl:You are saving your model as an HDF5 file via `model.save()` or `keras.saving.save_model(model)`. This file format is considered legacy. We recommend using instead the native Keras format, e.g. `model.save('my_model.keras')` or `keras.saving.save_model(model, 'my_model.keras')`. \n"
     ]
    },
    {
     "name": "stdout",
     "output_type": "stream",
     "text": [
      "\u001b[1m383/383\u001b[0m \u001b[32m━━━━━━━━━━━━━━━━━━━━\u001b[0m\u001b[37m\u001b[0m \u001b[1m2s\u001b[0m 6ms/step - accuracy: 0.8122 - loss: 0.3957 - val_accuracy: 0.8035 - val_loss: 0.4042 - learning_rate: 0.0010\n",
      "Epoch 64/500\n",
      "\u001b[1m383/383\u001b[0m \u001b[32m━━━━━━━━━━━━━━━━━━━━\u001b[0m\u001b[37m\u001b[0m \u001b[1m2s\u001b[0m 6ms/step - accuracy: 0.8176 - loss: 0.3943 - val_accuracy: 0.8016 - val_loss: 0.4116 - learning_rate: 0.0010\n",
      "Epoch 65/500\n",
      "\u001b[1m383/383\u001b[0m \u001b[32m━━━━━━━━━━━━━━━━━━━━\u001b[0m\u001b[37m\u001b[0m \u001b[1m2s\u001b[0m 5ms/step - accuracy: 0.8178 - loss: 0.3965 - val_accuracy: 0.8065 - val_loss: 0.4082 - learning_rate: 0.0010\n",
      "Epoch 66/500\n",
      "\u001b[1m383/383\u001b[0m \u001b[32m━━━━━━━━━━━━━━━━━━━━\u001b[0m\u001b[37m\u001b[0m \u001b[1m2s\u001b[0m 5ms/step - accuracy: 0.8046 - loss: 0.4103 - val_accuracy: 0.8020 - val_loss: 0.4050 - learning_rate: 0.0010\n",
      "Epoch 67/500\n",
      "\u001b[1m383/383\u001b[0m \u001b[32m━━━━━━━━━━━━━━━━━━━━\u001b[0m\u001b[37m\u001b[0m \u001b[1m2s\u001b[0m 5ms/step - accuracy: 0.8107 - loss: 0.3995 - val_accuracy: 0.8039 - val_loss: 0.4073 - learning_rate: 0.0010\n",
      "Epoch 68/500\n",
      "\u001b[1m381/383\u001b[0m \u001b[32m━━━━━━━━━━━━━━━━━━━\u001b[0m\u001b[37m━\u001b[0m \u001b[1m0s\u001b[0m 5ms/step - accuracy: 0.8155 - loss: 0.3908"
     ]
    },
    {
     "name": "stderr",
     "output_type": "stream",
     "text": [
      "WARNING:absl:You are saving your model as an HDF5 file via `model.save()` or `keras.saving.save_model(model)`. This file format is considered legacy. We recommend using instead the native Keras format, e.g. `model.save('my_model.keras')` or `keras.saving.save_model(model, 'my_model.keras')`. \n"
     ]
    },
    {
     "name": "stdout",
     "output_type": "stream",
     "text": [
      "\u001b[1m383/383\u001b[0m \u001b[32m━━━━━━━━━━━━━━━━━━━━\u001b[0m\u001b[37m\u001b[0m \u001b[1m2s\u001b[0m 6ms/step - accuracy: 0.8155 - loss: 0.3908 - val_accuracy: 0.8046 - val_loss: 0.4034 - learning_rate: 0.0010\n",
      "Epoch 69/500\n",
      "\u001b[1m383/383\u001b[0m \u001b[32m━━━━━━━━━━━━━━━━━━━━\u001b[0m\u001b[37m\u001b[0m \u001b[1m2s\u001b[0m 6ms/step - accuracy: 0.8177 - loss: 0.3990 - val_accuracy: 0.8134 - val_loss: 0.4110 - learning_rate: 0.0010\n",
      "Epoch 70/500\n",
      "\u001b[1m383/383\u001b[0m \u001b[32m━━━━━━━━━━━━━━━━━━━━\u001b[0m\u001b[37m\u001b[0m \u001b[1m2s\u001b[0m 5ms/step - accuracy: 0.8220 - loss: 0.3918 - val_accuracy: 0.7993 - val_loss: 0.4125 - learning_rate: 0.0010\n",
      "Epoch 71/500\n",
      "\u001b[1m383/383\u001b[0m \u001b[32m━━━━━━━━━━━━━━━━━━━━\u001b[0m\u001b[37m\u001b[0m \u001b[1m0s\u001b[0m 5ms/step - accuracy: 0.8063 - loss: 0.4048"
     ]
    },
    {
     "name": "stderr",
     "output_type": "stream",
     "text": [
      "WARNING:absl:You are saving your model as an HDF5 file via `model.save()` or `keras.saving.save_model(model)`. This file format is considered legacy. We recommend using instead the native Keras format, e.g. `model.save('my_model.keras')` or `keras.saving.save_model(model, 'my_model.keras')`. \n"
     ]
    },
    {
     "name": "stdout",
     "output_type": "stream",
     "text": [
      "\u001b[1m383/383\u001b[0m \u001b[32m━━━━━━━━━━━━━━━━━━━━\u001b[0m\u001b[37m\u001b[0m \u001b[1m2s\u001b[0m 6ms/step - accuracy: 0.8063 - loss: 0.4047 - val_accuracy: 0.8073 - val_loss: 0.4014 - learning_rate: 0.0010\n",
      "Epoch 72/500\n",
      "\u001b[1m383/383\u001b[0m \u001b[32m━━━━━━━━━━━━━━━━━━━━\u001b[0m\u001b[37m\u001b[0m \u001b[1m2s\u001b[0m 6ms/step - accuracy: 0.8127 - loss: 0.3896 - val_accuracy: 0.8126 - val_loss: 0.4037 - learning_rate: 0.0010\n",
      "Epoch 73/500\n",
      "\u001b[1m383/383\u001b[0m \u001b[32m━━━━━━━━━━━━━━━━━━━━\u001b[0m\u001b[37m\u001b[0m \u001b[1m2s\u001b[0m 6ms/step - accuracy: 0.8174 - loss: 0.3890 - val_accuracy: 0.8069 - val_loss: 0.4070 - learning_rate: 0.0010\n",
      "Epoch 74/500\n",
      "\u001b[1m383/383\u001b[0m \u001b[32m━━━━━━━━━━━━━━━━━━━━\u001b[0m\u001b[37m\u001b[0m \u001b[1m2s\u001b[0m 5ms/step - accuracy: 0.8209 - loss: 0.3934 - val_accuracy: 0.8085 - val_loss: 0.4129 - learning_rate: 0.0010\n",
      "Epoch 75/500\n",
      "\u001b[1m383/383\u001b[0m \u001b[32m━━━━━━━━━━━━━━━━━━━━\u001b[0m\u001b[37m\u001b[0m \u001b[1m2s\u001b[0m 5ms/step - accuracy: 0.8154 - loss: 0.3967 - val_accuracy: 0.8123 - val_loss: 0.4016 - learning_rate: 0.0010\n",
      "Epoch 76/500\n",
      "\u001b[1m383/383\u001b[0m \u001b[32m━━━━━━━━━━━━━━━━━━━━\u001b[0m\u001b[37m\u001b[0m \u001b[1m2s\u001b[0m 5ms/step - accuracy: 0.8187 - loss: 0.3892 - val_accuracy: 0.8138 - val_loss: 0.4092 - learning_rate: 0.0010\n",
      "Epoch 77/500\n",
      "\u001b[1m383/383\u001b[0m \u001b[32m━━━━━━━━━━━━━━━━━━━━\u001b[0m\u001b[37m\u001b[0m \u001b[1m2s\u001b[0m 5ms/step - accuracy: 0.8163 - loss: 0.3870 - val_accuracy: 0.8008 - val_loss: 0.4194 - learning_rate: 0.0010\n",
      "Epoch 78/500\n",
      "\u001b[1m383/383\u001b[0m \u001b[32m━━━━━━━━━━━━━━━━━━━━\u001b[0m\u001b[37m\u001b[0m \u001b[1m2s\u001b[0m 5ms/step - accuracy: 0.8244 - loss: 0.3895 - val_accuracy: 0.8088 - val_loss: 0.4192 - learning_rate: 0.0010\n",
      "Epoch 79/500\n",
      "\u001b[1m383/383\u001b[0m \u001b[32m━━━━━━━━━━━━━━━━━━━━\u001b[0m\u001b[37m\u001b[0m \u001b[1m2s\u001b[0m 5ms/step - accuracy: 0.8209 - loss: 0.3893 - val_accuracy: 0.8039 - val_loss: 0.4077 - learning_rate: 0.0010\n",
      "Epoch 80/500\n",
      "\u001b[1m383/383\u001b[0m \u001b[32m━━━━━━━━━━━━━━━━━━━━\u001b[0m\u001b[37m\u001b[0m \u001b[1m2s\u001b[0m 5ms/step - accuracy: 0.8182 - loss: 0.3898 - val_accuracy: 0.8046 - val_loss: 0.4117 - learning_rate: 0.0010\n",
      "Epoch 81/500\n",
      "\u001b[1m383/383\u001b[0m \u001b[32m━━━━━━━━━━━━━━━━━━━━\u001b[0m\u001b[37m\u001b[0m \u001b[1m2s\u001b[0m 5ms/step - accuracy: 0.8219 - loss: 0.3918 - val_accuracy: 0.8088 - val_loss: 0.4020 - learning_rate: 0.0010\n",
      "Epoch 82/500\n",
      "\u001b[1m383/383\u001b[0m \u001b[32m━━━━━━━━━━━━━━━━━━━━\u001b[0m\u001b[37m\u001b[0m \u001b[1m2s\u001b[0m 5ms/step - accuracy: 0.8181 - loss: 0.3870 - val_accuracy: 0.7986 - val_loss: 0.4123 - learning_rate: 0.0010\n",
      "Epoch 83/500\n",
      "\u001b[1m383/383\u001b[0m \u001b[32m━━━━━━━━━━━━━━━━━━━━\u001b[0m\u001b[37m\u001b[0m \u001b[1m2s\u001b[0m 5ms/step - accuracy: 0.8154 - loss: 0.3957 - val_accuracy: 0.8046 - val_loss: 0.4118 - learning_rate: 0.0010\n",
      "Epoch 84/500\n",
      "\u001b[1m383/383\u001b[0m \u001b[32m━━━━━━━━━━━━━━━━━━━━\u001b[0m\u001b[37m\u001b[0m \u001b[1m2s\u001b[0m 5ms/step - accuracy: 0.8198 - loss: 0.4021 - val_accuracy: 0.8039 - val_loss: 0.4103 - learning_rate: 0.0010\n",
      "Epoch 85/500\n",
      "\u001b[1m383/383\u001b[0m \u001b[32m━━━━━━━━━━━━━━━━━━━━\u001b[0m\u001b[37m\u001b[0m \u001b[1m2s\u001b[0m 5ms/step - accuracy: 0.8171 - loss: 0.3884 - val_accuracy: 0.8035 - val_loss: 0.4071 - learning_rate: 0.0010\n",
      "Epoch 86/500\n",
      "\u001b[1m383/383\u001b[0m \u001b[32m━━━━━━━━━━━━━━━━━━━━\u001b[0m\u001b[37m\u001b[0m \u001b[1m2s\u001b[0m 5ms/step - accuracy: 0.8162 - loss: 0.3852 - val_accuracy: 0.8115 - val_loss: 0.4101 - learning_rate: 0.0010\n",
      "Epoch 87/500\n",
      "\u001b[1m383/383\u001b[0m \u001b[32m━━━━━━━━━━━━━━━━━━━━\u001b[0m\u001b[37m\u001b[0m \u001b[1m2s\u001b[0m 5ms/step - accuracy: 0.8238 - loss: 0.3790 - val_accuracy: 0.8050 - val_loss: 0.4117 - learning_rate: 0.0010\n",
      "Epoch 88/500\n",
      "\u001b[1m383/383\u001b[0m \u001b[32m━━━━━━━━━━━━━━━━━━━━\u001b[0m\u001b[37m\u001b[0m \u001b[1m2s\u001b[0m 4ms/step - accuracy: 0.8226 - loss: 0.3778 - val_accuracy: 0.7978 - val_loss: 0.4156 - learning_rate: 0.0010\n",
      "Epoch 89/500\n",
      "\u001b[1m383/383\u001b[0m \u001b[32m━━━━━━━━━━━━━━━━━━━━\u001b[0m\u001b[37m\u001b[0m \u001b[1m2s\u001b[0m 5ms/step - accuracy: 0.8181 - loss: 0.3796 - val_accuracy: 0.7810 - val_loss: 0.4406 - learning_rate: 0.0010\n",
      "Epoch 90/500\n",
      "\u001b[1m383/383\u001b[0m \u001b[32m━━━━━━━━━━━━━━━━━━━━\u001b[0m\u001b[37m\u001b[0m \u001b[1m2s\u001b[0m 5ms/step - accuracy: 0.8159 - loss: 0.3941 - val_accuracy: 0.8081 - val_loss: 0.4117 - learning_rate: 0.0010\n",
      "Epoch 91/500\n",
      "\u001b[1m383/383\u001b[0m \u001b[32m━━━━━━━━━━━━━━━━━━━━\u001b[0m\u001b[37m\u001b[0m \u001b[1m2s\u001b[0m 5ms/step - accuracy: 0.8149 - loss: 0.3909 - val_accuracy: 0.8012 - val_loss: 0.4136 - learning_rate: 0.0010\n",
      "Epoch 92/500\n",
      "\u001b[1m383/383\u001b[0m \u001b[32m━━━━━━━━━━━━━━━━━━━━\u001b[0m\u001b[37m\u001b[0m \u001b[1m2s\u001b[0m 5ms/step - accuracy: 0.8231 - loss: 0.3740 - val_accuracy: 0.8081 - val_loss: 0.4145 - learning_rate: 0.0010\n",
      "Epoch 93/500\n",
      "\u001b[1m383/383\u001b[0m \u001b[32m━━━━━━━━━━━━━━━━━━━━\u001b[0m\u001b[37m\u001b[0m \u001b[1m2s\u001b[0m 5ms/step - accuracy: 0.8231 - loss: 0.3796 - val_accuracy: 0.8088 - val_loss: 0.4064 - learning_rate: 0.0010\n",
      "Epoch 94/500\n",
      "\u001b[1m383/383\u001b[0m \u001b[32m━━━━━━━━━━━━━━━━━━━━\u001b[0m\u001b[37m\u001b[0m \u001b[1m2s\u001b[0m 5ms/step - accuracy: 0.8196 - loss: 0.3821 - val_accuracy: 0.8134 - val_loss: 0.4035 - learning_rate: 0.0010\n",
      "Epoch 95/500\n",
      "\u001b[1m383/383\u001b[0m \u001b[32m━━━━━━━━━━━━━━━━━━━━\u001b[0m\u001b[37m\u001b[0m \u001b[1m2s\u001b[0m 5ms/step - accuracy: 0.8182 - loss: 0.3816 - val_accuracy: 0.8134 - val_loss: 0.4047 - learning_rate: 0.0010\n",
      "Epoch 96/500\n",
      "\u001b[1m383/383\u001b[0m \u001b[32m━━━━━━━━━━━━━━━━━━━━\u001b[0m\u001b[37m\u001b[0m \u001b[1m2s\u001b[0m 5ms/step - accuracy: 0.8284 - loss: 0.3710 - val_accuracy: 0.7982 - val_loss: 0.4120 - learning_rate: 0.0010\n",
      "Epoch 97/500\n",
      "\u001b[1m374/383\u001b[0m \u001b[32m━━━━━━━━━━━━━━━━━━━\u001b[0m\u001b[37m━\u001b[0m \u001b[1m0s\u001b[0m 4ms/step - accuracy: 0.8199 - loss: 0.3927"
     ]
    },
    {
     "name": "stderr",
     "output_type": "stream",
     "text": [
      "WARNING:absl:You are saving your model as an HDF5 file via `model.save()` or `keras.saving.save_model(model)`. This file format is considered legacy. We recommend using instead the native Keras format, e.g. `model.save('my_model.keras')` or `keras.saving.save_model(model, 'my_model.keras')`. \n"
     ]
    },
    {
     "name": "stdout",
     "output_type": "stream",
     "text": [
      "\u001b[1m383/383\u001b[0m \u001b[32m━━━━━━━━━━━━━━━━━━━━\u001b[0m\u001b[37m\u001b[0m \u001b[1m2s\u001b[0m 5ms/step - accuracy: 0.8199 - loss: 0.3925 - val_accuracy: 0.8104 - val_loss: 0.3983 - learning_rate: 0.0010\n",
      "Epoch 98/500\n",
      "\u001b[1m383/383\u001b[0m \u001b[32m━━━━━━━━━━━━━━━━━━━━\u001b[0m\u001b[37m\u001b[0m \u001b[1m2s\u001b[0m 5ms/step - accuracy: 0.8200 - loss: 0.3747 - val_accuracy: 0.8073 - val_loss: 0.4026 - learning_rate: 0.0010\n",
      "Epoch 99/500\n",
      "\u001b[1m383/383\u001b[0m \u001b[32m━━━━━━━━━━━━━━━━━━━━\u001b[0m\u001b[37m\u001b[0m \u001b[1m2s\u001b[0m 5ms/step - accuracy: 0.8206 - loss: 0.3861 - val_accuracy: 0.8035 - val_loss: 0.4125 - learning_rate: 0.0010\n",
      "Epoch 100/500\n",
      "\u001b[1m383/383\u001b[0m \u001b[32m━━━━━━━━━━━━━━━━━━━━\u001b[0m\u001b[37m\u001b[0m \u001b[1m2s\u001b[0m 5ms/step - accuracy: 0.8283 - loss: 0.3738 - val_accuracy: 0.8073 - val_loss: 0.4133 - learning_rate: 0.0010\n",
      "Epoch 101/500\n",
      "\u001b[1m383/383\u001b[0m \u001b[32m━━━━━━━━━━━━━━━━━━━━\u001b[0m\u001b[37m\u001b[0m \u001b[1m2s\u001b[0m 5ms/step - accuracy: 0.8265 - loss: 0.3878 - val_accuracy: 0.8058 - val_loss: 0.4099 - learning_rate: 0.0010\n",
      "Epoch 102/500\n",
      "\u001b[1m383/383\u001b[0m \u001b[32m━━━━━━━━━━━━━━━━━━━━\u001b[0m\u001b[37m\u001b[0m \u001b[1m2s\u001b[0m 5ms/step - accuracy: 0.8197 - loss: 0.3765 - val_accuracy: 0.7986 - val_loss: 0.4105 - learning_rate: 0.0010\n",
      "Epoch 103/500\n",
      "\u001b[1m383/383\u001b[0m \u001b[32m━━━━━━━━━━━━━━━━━━━━\u001b[0m\u001b[37m\u001b[0m \u001b[1m2s\u001b[0m 5ms/step - accuracy: 0.8216 - loss: 0.3805 - val_accuracy: 0.8088 - val_loss: 0.3993 - learning_rate: 0.0010\n",
      "Epoch 104/500\n",
      "\u001b[1m383/383\u001b[0m \u001b[32m━━━━━━━━━━━━━━━━━━━━\u001b[0m\u001b[37m\u001b[0m \u001b[1m2s\u001b[0m 5ms/step - accuracy: 0.8284 - loss: 0.3687 - val_accuracy: 0.8100 - val_loss: 0.4046 - learning_rate: 0.0010\n",
      "Epoch 105/500\n",
      "\u001b[1m383/383\u001b[0m \u001b[32m━━━━━━━━━━━━━━━━━━━━\u001b[0m\u001b[37m\u001b[0m \u001b[1m2s\u001b[0m 5ms/step - accuracy: 0.8237 - loss: 0.3882 - val_accuracy: 0.8081 - val_loss: 0.4105 - learning_rate: 0.0010\n",
      "Epoch 106/500\n",
      "\u001b[1m383/383\u001b[0m \u001b[32m━━━━━━━━━━━━━━━━━━━━\u001b[0m\u001b[37m\u001b[0m \u001b[1m2s\u001b[0m 5ms/step - accuracy: 0.8225 - loss: 0.3758 - val_accuracy: 0.8104 - val_loss: 0.4029 - learning_rate: 0.0010\n",
      "Epoch 107/500\n",
      "\u001b[1m383/383\u001b[0m \u001b[32m━━━━━━━━━━━━━━━━━━━━\u001b[0m\u001b[37m\u001b[0m \u001b[1m2s\u001b[0m 5ms/step - accuracy: 0.8214 - loss: 0.3837 - val_accuracy: 0.8088 - val_loss: 0.4107 - learning_rate: 0.0010\n",
      "Epoch 108/500\n",
      "\u001b[1m383/383\u001b[0m \u001b[32m━━━━━━━━━━━━━━━━━━━━\u001b[0m\u001b[37m\u001b[0m \u001b[1m2s\u001b[0m 5ms/step - accuracy: 0.8253 - loss: 0.3802 - val_accuracy: 0.8050 - val_loss: 0.4050 - learning_rate: 0.0010\n",
      "Epoch 109/500\n",
      "\u001b[1m383/383\u001b[0m \u001b[32m━━━━━━━━━━━━━━━━━━━━\u001b[0m\u001b[37m\u001b[0m \u001b[1m2s\u001b[0m 5ms/step - accuracy: 0.8281 - loss: 0.3686 - val_accuracy: 0.8145 - val_loss: 0.4006 - learning_rate: 0.0010\n",
      "Epoch 110/500\n",
      "\u001b[1m377/383\u001b[0m \u001b[32m━━━━━━━━━━━━━━━━━━━\u001b[0m\u001b[37m━\u001b[0m \u001b[1m0s\u001b[0m 5ms/step - accuracy: 0.8327 - loss: 0.3716"
     ]
    },
    {
     "name": "stderr",
     "output_type": "stream",
     "text": [
      "WARNING:absl:You are saving your model as an HDF5 file via `model.save()` or `keras.saving.save_model(model)`. This file format is considered legacy. We recommend using instead the native Keras format, e.g. `model.save('my_model.keras')` or `keras.saving.save_model(model, 'my_model.keras')`. \n"
     ]
    },
    {
     "name": "stdout",
     "output_type": "stream",
     "text": [
      "\u001b[1m383/383\u001b[0m \u001b[32m━━━━━━━━━━━━━━━━━━━━\u001b[0m\u001b[37m\u001b[0m \u001b[1m2s\u001b[0m 5ms/step - accuracy: 0.8326 - loss: 0.3718 - val_accuracy: 0.8168 - val_loss: 0.3978 - learning_rate: 0.0010\n",
      "Epoch 111/500\n",
      "\u001b[1m383/383\u001b[0m \u001b[32m━━━━━━━━━━━━━━━━━━━━\u001b[0m\u001b[37m\u001b[0m \u001b[1m2s\u001b[0m 5ms/step - accuracy: 0.8311 - loss: 0.3675 - val_accuracy: 0.8123 - val_loss: 0.4043 - learning_rate: 0.0010\n",
      "Epoch 112/500\n",
      "\u001b[1m383/383\u001b[0m \u001b[32m━━━━━━━━━━━━━━━━━━━━\u001b[0m\u001b[37m\u001b[0m \u001b[1m2s\u001b[0m 5ms/step - accuracy: 0.8272 - loss: 0.3742 - val_accuracy: 0.8081 - val_loss: 0.4038 - learning_rate: 0.0010\n",
      "Epoch 113/500\n",
      "\u001b[1m383/383\u001b[0m \u001b[32m━━━━━━━━━━━━━━━━━━━━\u001b[0m\u001b[37m\u001b[0m \u001b[1m2s\u001b[0m 5ms/step - accuracy: 0.8283 - loss: 0.3708 - val_accuracy: 0.8126 - val_loss: 0.4030 - learning_rate: 0.0010\n",
      "Epoch 114/500\n",
      "\u001b[1m383/383\u001b[0m \u001b[32m━━━━━━━━━━━━━━━━━━━━\u001b[0m\u001b[37m\u001b[0m \u001b[1m2s\u001b[0m 5ms/step - accuracy: 0.8224 - loss: 0.3765 - val_accuracy: 0.8054 - val_loss: 0.4156 - learning_rate: 0.0010\n",
      "Epoch 115/500\n",
      "\u001b[1m383/383\u001b[0m \u001b[32m━━━━━━━━━━━━━━━━━━━━\u001b[0m\u001b[37m\u001b[0m \u001b[1m2s\u001b[0m 5ms/step - accuracy: 0.8263 - loss: 0.3770 - val_accuracy: 0.8024 - val_loss: 0.4179 - learning_rate: 0.0010\n",
      "Epoch 116/500\n",
      "\u001b[1m383/383\u001b[0m \u001b[32m━━━━━━━━━━━━━━━━━━━━\u001b[0m\u001b[37m\u001b[0m \u001b[1m2s\u001b[0m 5ms/step - accuracy: 0.8271 - loss: 0.3760 - val_accuracy: 0.8081 - val_loss: 0.4043 - learning_rate: 0.0010\n",
      "Epoch 117/500\n",
      "\u001b[1m383/383\u001b[0m \u001b[32m━━━━━━━━━━━━━━━━━━━━\u001b[0m\u001b[37m\u001b[0m \u001b[1m2s\u001b[0m 5ms/step - accuracy: 0.8206 - loss: 0.3811 - val_accuracy: 0.8065 - val_loss: 0.4138 - learning_rate: 0.0010\n",
      "Epoch 118/500\n",
      "\u001b[1m383/383\u001b[0m \u001b[32m━━━━━━━━━━━━━━━━━━━━\u001b[0m\u001b[37m\u001b[0m \u001b[1m2s\u001b[0m 5ms/step - accuracy: 0.8232 - loss: 0.3752 - val_accuracy: 0.8062 - val_loss: 0.4060 - learning_rate: 0.0010\n",
      "Epoch 119/500\n",
      "\u001b[1m383/383\u001b[0m \u001b[32m━━━━━━━━━━━━━━━━━━━━\u001b[0m\u001b[37m\u001b[0m \u001b[1m2s\u001b[0m 5ms/step - accuracy: 0.8245 - loss: 0.3792 - val_accuracy: 0.8062 - val_loss: 0.4116 - learning_rate: 0.0010\n",
      "Epoch 120/500\n",
      "\u001b[1m383/383\u001b[0m \u001b[32m━━━━━━━━━━━━━━━━━━━━\u001b[0m\u001b[37m\u001b[0m \u001b[1m2s\u001b[0m 5ms/step - accuracy: 0.8225 - loss: 0.3750 - val_accuracy: 0.8100 - val_loss: 0.4050 - learning_rate: 0.0010\n",
      "Epoch 121/500\n",
      "\u001b[1m383/383\u001b[0m \u001b[32m━━━━━━━━━━━━━━━━━━━━\u001b[0m\u001b[37m\u001b[0m \u001b[1m2s\u001b[0m 5ms/step - accuracy: 0.8270 - loss: 0.3759 - val_accuracy: 0.8039 - val_loss: 0.4125 - learning_rate: 0.0010\n",
      "Epoch 122/500\n",
      "\u001b[1m383/383\u001b[0m \u001b[32m━━━━━━━━━━━━━━━━━━━━\u001b[0m\u001b[37m\u001b[0m \u001b[1m2s\u001b[0m 5ms/step - accuracy: 0.8197 - loss: 0.3784 - val_accuracy: 0.8050 - val_loss: 0.4197 - learning_rate: 0.0010\n",
      "Epoch 123/500\n",
      "\u001b[1m383/383\u001b[0m \u001b[32m━━━━━━━━━━━━━━━━━━━━\u001b[0m\u001b[37m\u001b[0m \u001b[1m2s\u001b[0m 5ms/step - accuracy: 0.8265 - loss: 0.3717 - val_accuracy: 0.7993 - val_loss: 0.4162 - learning_rate: 0.0010\n",
      "Epoch 124/500\n",
      "\u001b[1m383/383\u001b[0m \u001b[32m━━━━━━━━━━━━━━━━━━━━\u001b[0m\u001b[37m\u001b[0m \u001b[1m2s\u001b[0m 5ms/step - accuracy: 0.8266 - loss: 0.3726 - val_accuracy: 0.7955 - val_loss: 0.4105 - learning_rate: 0.0010\n",
      "Epoch 125/500\n",
      "\u001b[1m383/383\u001b[0m \u001b[32m━━━━━━━━━━━━━━━━━━━━\u001b[0m\u001b[37m\u001b[0m \u001b[1m2s\u001b[0m 5ms/step - accuracy: 0.8336 - loss: 0.3665 - val_accuracy: 0.8035 - val_loss: 0.4159 - learning_rate: 0.0010\n",
      "Epoch 126/500\n",
      "\u001b[1m383/383\u001b[0m \u001b[32m━━━━━━━━━━━━━━━━━━━━\u001b[0m\u001b[37m\u001b[0m \u001b[1m2s\u001b[0m 5ms/step - accuracy: 0.8114 - loss: 0.3913 - val_accuracy: 0.8092 - val_loss: 0.4104 - learning_rate: 0.0010\n",
      "Epoch 127/500\n",
      "\u001b[1m379/383\u001b[0m \u001b[32m━━━━━━━━━━━━━━━━━━━\u001b[0m\u001b[37m━\u001b[0m \u001b[1m0s\u001b[0m 5ms/step - accuracy: 0.8291 - loss: 0.3692"
     ]
    },
    {
     "name": "stderr",
     "output_type": "stream",
     "text": [
      "WARNING:absl:You are saving your model as an HDF5 file via `model.save()` or `keras.saving.save_model(model)`. This file format is considered legacy. We recommend using instead the native Keras format, e.g. `model.save('my_model.keras')` or `keras.saving.save_model(model, 'my_model.keras')`. \n"
     ]
    },
    {
     "name": "stdout",
     "output_type": "stream",
     "text": [
      "\u001b[1m383/383\u001b[0m \u001b[32m━━━━━━━━━━━━━━━━━━━━\u001b[0m\u001b[37m\u001b[0m \u001b[1m2s\u001b[0m 6ms/step - accuracy: 0.8291 - loss: 0.3693 - val_accuracy: 0.8111 - val_loss: 0.3943 - learning_rate: 0.0010\n",
      "Epoch 128/500\n",
      "\u001b[1m383/383\u001b[0m \u001b[32m━━━━━━━━━━━━━━━━━━━━\u001b[0m\u001b[37m\u001b[0m \u001b[1m2s\u001b[0m 6ms/step - accuracy: 0.8278 - loss: 0.3679 - val_accuracy: 0.8172 - val_loss: 0.4009 - learning_rate: 0.0010\n",
      "Epoch 129/500\n",
      "\u001b[1m383/383\u001b[0m \u001b[32m━━━━━━━━━━━━━━━━━━━━\u001b[0m\u001b[37m\u001b[0m \u001b[1m2s\u001b[0m 5ms/step - accuracy: 0.8265 - loss: 0.3703 - val_accuracy: 0.8100 - val_loss: 0.4074 - learning_rate: 0.0010\n",
      "Epoch 130/500\n",
      "\u001b[1m383/383\u001b[0m \u001b[32m━━━━━━━━━━━━━━━━━━━━\u001b[0m\u001b[37m\u001b[0m \u001b[1m2s\u001b[0m 5ms/step - accuracy: 0.8311 - loss: 0.3655 - val_accuracy: 0.8111 - val_loss: 0.4044 - learning_rate: 0.0010\n",
      "Epoch 131/500\n",
      "\u001b[1m383/383\u001b[0m \u001b[32m━━━━━━━━━━━━━━━━━━━━\u001b[0m\u001b[37m\u001b[0m \u001b[1m2s\u001b[0m 5ms/step - accuracy: 0.8253 - loss: 0.3780 - val_accuracy: 0.8107 - val_loss: 0.3966 - learning_rate: 0.0010\n",
      "Epoch 132/500\n",
      "\u001b[1m383/383\u001b[0m \u001b[32m━━━━━━━━━━━━━━━━━━━━\u001b[0m\u001b[37m\u001b[0m \u001b[1m2s\u001b[0m 5ms/step - accuracy: 0.8282 - loss: 0.3643 - val_accuracy: 0.8126 - val_loss: 0.4052 - learning_rate: 0.0010\n",
      "Epoch 133/500\n",
      "\u001b[1m383/383\u001b[0m \u001b[32m━━━━━━━━━━━━━━━━━━━━\u001b[0m\u001b[37m\u001b[0m \u001b[1m2s\u001b[0m 5ms/step - accuracy: 0.8245 - loss: 0.3738 - val_accuracy: 0.8054 - val_loss: 0.4079 - learning_rate: 0.0010\n",
      "Epoch 134/500\n",
      "\u001b[1m383/383\u001b[0m \u001b[32m━━━━━━━━━━━━━━━━━━━━\u001b[0m\u001b[37m\u001b[0m \u001b[1m2s\u001b[0m 5ms/step - accuracy: 0.8348 - loss: 0.3720 - val_accuracy: 0.8073 - val_loss: 0.3987 - learning_rate: 0.0010\n",
      "Epoch 135/500\n",
      "\u001b[1m383/383\u001b[0m \u001b[32m━━━━━━━━━━━━━━━━━━━━\u001b[0m\u001b[37m\u001b[0m \u001b[1m2s\u001b[0m 5ms/step - accuracy: 0.8327 - loss: 0.3680 - val_accuracy: 0.8172 - val_loss: 0.4020 - learning_rate: 0.0010\n",
      "Epoch 136/500\n",
      "\u001b[1m383/383\u001b[0m \u001b[32m━━━━━━━━━━━━━━━━━━━━\u001b[0m\u001b[37m\u001b[0m \u001b[1m2s\u001b[0m 5ms/step - accuracy: 0.8292 - loss: 0.3674 - val_accuracy: 0.8168 - val_loss: 0.3966 - learning_rate: 0.0010\n",
      "Epoch 137/500\n",
      "\u001b[1m383/383\u001b[0m \u001b[32m━━━━━━━━━━━━━━━━━━━━\u001b[0m\u001b[37m\u001b[0m \u001b[1m2s\u001b[0m 5ms/step - accuracy: 0.8302 - loss: 0.3644 - val_accuracy: 0.8142 - val_loss: 0.3967 - learning_rate: 0.0010\n",
      "Epoch 138/500\n",
      "\u001b[1m383/383\u001b[0m \u001b[32m━━━━━━━━━━━━━━━━━━━━\u001b[0m\u001b[37m\u001b[0m \u001b[1m2s\u001b[0m 4ms/step - accuracy: 0.8369 - loss: 0.3603 - val_accuracy: 0.8031 - val_loss: 0.4076 - learning_rate: 0.0010\n",
      "Epoch 139/500\n",
      "\u001b[1m383/383\u001b[0m \u001b[32m━━━━━━━━━━━━━━━━━━━━\u001b[0m\u001b[37m\u001b[0m \u001b[1m2s\u001b[0m 5ms/step - accuracy: 0.8316 - loss: 0.3713 - val_accuracy: 0.8107 - val_loss: 0.4086 - learning_rate: 0.0010\n",
      "Epoch 140/500\n",
      "\u001b[1m383/383\u001b[0m \u001b[32m━━━━━━━━━━━━━━━━━━━━\u001b[0m\u001b[37m\u001b[0m \u001b[1m2s\u001b[0m 5ms/step - accuracy: 0.8275 - loss: 0.3734 - val_accuracy: 0.8085 - val_loss: 0.4080 - learning_rate: 0.0010\n",
      "Epoch 141/500\n",
      "\u001b[1m383/383\u001b[0m \u001b[32m━━━━━━━━━━━━━━━━━━━━\u001b[0m\u001b[37m\u001b[0m \u001b[1m2s\u001b[0m 5ms/step - accuracy: 0.8308 - loss: 0.3651 - val_accuracy: 0.8206 - val_loss: 0.4042 - learning_rate: 0.0010\n",
      "Epoch 142/500\n",
      "\u001b[1m383/383\u001b[0m \u001b[32m━━━━━━━━━━━━━━━━━━━━\u001b[0m\u001b[37m\u001b[0m \u001b[1m2s\u001b[0m 5ms/step - accuracy: 0.8294 - loss: 0.3723 - val_accuracy: 0.8153 - val_loss: 0.4012 - learning_rate: 0.0010\n",
      "Epoch 143/500\n",
      "\u001b[1m383/383\u001b[0m \u001b[32m━━━━━━━━━━━━━━━━━━━━\u001b[0m\u001b[37m\u001b[0m \u001b[1m3s\u001b[0m 5ms/step - accuracy: 0.8244 - loss: 0.3816 - val_accuracy: 0.8119 - val_loss: 0.4049 - learning_rate: 0.0010\n",
      "Epoch 144/500\n",
      "\u001b[1m383/383\u001b[0m \u001b[32m━━━━━━━━━━━━━━━━━━━━\u001b[0m\u001b[37m\u001b[0m \u001b[1m2s\u001b[0m 6ms/step - accuracy: 0.8246 - loss: 0.3697 - val_accuracy: 0.8073 - val_loss: 0.4171 - learning_rate: 0.0010\n",
      "Epoch 145/500\n",
      "\u001b[1m383/383\u001b[0m \u001b[32m━━━━━━━━━━━━━━━━━━━━\u001b[0m\u001b[37m\u001b[0m \u001b[1m2s\u001b[0m 6ms/step - accuracy: 0.8270 - loss: 0.3707 - val_accuracy: 0.8172 - val_loss: 0.4007 - learning_rate: 0.0010\n",
      "Epoch 146/500\n",
      "\u001b[1m383/383\u001b[0m \u001b[32m━━━━━━━━━━━━━━━━━━━━\u001b[0m\u001b[37m\u001b[0m \u001b[1m2s\u001b[0m 5ms/step - accuracy: 0.8354 - loss: 0.3569 - val_accuracy: 0.8115 - val_loss: 0.4025 - learning_rate: 0.0010\n",
      "Epoch 147/500\n",
      "\u001b[1m383/383\u001b[0m \u001b[32m━━━━━━━━━━━━━━━━━━━━\u001b[0m\u001b[37m\u001b[0m \u001b[1m2s\u001b[0m 5ms/step - accuracy: 0.8260 - loss: 0.3686 - val_accuracy: 0.8134 - val_loss: 0.4047 - learning_rate: 0.0010\n",
      "Epoch 148/500\n",
      "\u001b[1m383/383\u001b[0m \u001b[32m━━━━━━━━━━━━━━━━━━━━\u001b[0m\u001b[37m\u001b[0m \u001b[1m2s\u001b[0m 5ms/step - accuracy: 0.8251 - loss: 0.3682 - val_accuracy: 0.8104 - val_loss: 0.4046 - learning_rate: 0.0010\n",
      "Epoch 149/500\n",
      "\u001b[1m383/383\u001b[0m \u001b[32m━━━━━━━━━━━━━━━━━━━━\u001b[0m\u001b[37m\u001b[0m \u001b[1m2s\u001b[0m 5ms/step - accuracy: 0.8400 - loss: 0.3549 - val_accuracy: 0.8062 - val_loss: 0.4100 - learning_rate: 0.0010\n",
      "Epoch 150/500\n",
      "\u001b[1m383/383\u001b[0m \u001b[32m━━━━━━━━━━━━━━━━━━━━\u001b[0m\u001b[37m\u001b[0m \u001b[1m2s\u001b[0m 5ms/step - accuracy: 0.8298 - loss: 0.3848 - val_accuracy: 0.8065 - val_loss: 0.3980 - learning_rate: 0.0010\n",
      "Epoch 151/500\n",
      "\u001b[1m383/383\u001b[0m \u001b[32m━━━━━━━━━━━━━━━━━━━━\u001b[0m\u001b[37m\u001b[0m \u001b[1m2s\u001b[0m 5ms/step - accuracy: 0.8376 - loss: 0.3604 - val_accuracy: 0.8027 - val_loss: 0.4029 - learning_rate: 0.0010\n",
      "Epoch 152/500\n",
      "\u001b[1m383/383\u001b[0m \u001b[32m━━━━━━━━━━━━━━━━━━━━\u001b[0m\u001b[37m\u001b[0m \u001b[1m2s\u001b[0m 5ms/step - accuracy: 0.8288 - loss: 0.3675 - val_accuracy: 0.8008 - val_loss: 0.4140 - learning_rate: 0.0010\n",
      "Epoch 153/500\n",
      "\u001b[1m383/383\u001b[0m \u001b[32m━━━━━━━━━━━━━━━━━━━━\u001b[0m\u001b[37m\u001b[0m \u001b[1m2s\u001b[0m 5ms/step - accuracy: 0.8312 - loss: 0.3602 - val_accuracy: 0.8043 - val_loss: 0.4163 - learning_rate: 0.0010\n",
      "Epoch 154/500\n",
      "\u001b[1m383/383\u001b[0m \u001b[32m━━━━━━━━━━━━━━━━━━━━\u001b[0m\u001b[37m\u001b[0m \u001b[1m2s\u001b[0m 5ms/step - accuracy: 0.8255 - loss: 0.3713 - val_accuracy: 0.7978 - val_loss: 0.4112 - learning_rate: 0.0010\n",
      "Epoch 155/500\n",
      "\u001b[1m383/383\u001b[0m \u001b[32m━━━━━━━━━━━━━━━━━━━━\u001b[0m\u001b[37m\u001b[0m \u001b[1m2s\u001b[0m 5ms/step - accuracy: 0.8320 - loss: 0.3715 - val_accuracy: 0.7978 - val_loss: 0.4050 - learning_rate: 0.0010\n",
      "Epoch 156/500\n",
      "\u001b[1m383/383\u001b[0m \u001b[32m━━━━━━━━━━━━━━━━━━━━\u001b[0m\u001b[37m\u001b[0m \u001b[1m2s\u001b[0m 5ms/step - accuracy: 0.8329 - loss: 0.3505 - val_accuracy: 0.8039 - val_loss: 0.4082 - learning_rate: 0.0010\n",
      "Epoch 157/500\n",
      "\u001b[1m383/383\u001b[0m \u001b[32m━━━━━━━━━━━━━━━━━━━━\u001b[0m\u001b[37m\u001b[0m \u001b[1m2s\u001b[0m 5ms/step - accuracy: 0.8350 - loss: 0.3651 - val_accuracy: 0.8016 - val_loss: 0.4080 - learning_rate: 0.0010\n",
      "Epoch 158/500\n",
      "\u001b[1m383/383\u001b[0m \u001b[32m━━━━━━━━━━━━━━━━━━━━\u001b[0m\u001b[37m\u001b[0m \u001b[1m2s\u001b[0m 5ms/step - accuracy: 0.8251 - loss: 0.3667 - val_accuracy: 0.8104 - val_loss: 0.4014 - learning_rate: 0.0010\n",
      "Epoch 159/500\n",
      "\u001b[1m383/383\u001b[0m \u001b[32m━━━━━━━━━━━━━━━━━━━━\u001b[0m\u001b[37m\u001b[0m \u001b[1m2s\u001b[0m 5ms/step - accuracy: 0.8326 - loss: 0.3663 - val_accuracy: 0.8180 - val_loss: 0.4078 - learning_rate: 0.0010\n",
      "Epoch 160/500\n",
      "\u001b[1m383/383\u001b[0m \u001b[32m━━━━━━━━━━━━━━━━━━━━\u001b[0m\u001b[37m\u001b[0m \u001b[1m2s\u001b[0m 5ms/step - accuracy: 0.8279 - loss: 0.3691 - val_accuracy: 0.8142 - val_loss: 0.4072 - learning_rate: 0.0010\n",
      "Epoch 161/500\n",
      "\u001b[1m383/383\u001b[0m \u001b[32m━━━━━━━━━━━━━━━━━━━━\u001b[0m\u001b[37m\u001b[0m \u001b[1m2s\u001b[0m 5ms/step - accuracy: 0.8311 - loss: 0.3700 - val_accuracy: 0.8115 - val_loss: 0.3998 - learning_rate: 0.0010\n",
      "Epoch 162/500\n",
      "\u001b[1m383/383\u001b[0m \u001b[32m━━━━━━━━━━━━━━━━━━━━\u001b[0m\u001b[37m\u001b[0m \u001b[1m2s\u001b[0m 5ms/step - accuracy: 0.8340 - loss: 0.3619 - val_accuracy: 0.8073 - val_loss: 0.4073 - learning_rate: 0.0010\n",
      "Epoch 163/500\n",
      "\u001b[1m383/383\u001b[0m \u001b[32m━━━━━━━━━━━━━━━━━━━━\u001b[0m\u001b[37m\u001b[0m \u001b[1m2s\u001b[0m 5ms/step - accuracy: 0.8294 - loss: 0.3684 - val_accuracy: 0.8100 - val_loss: 0.4048 - learning_rate: 0.0010\n",
      "Epoch 164/500\n",
      "\u001b[1m383/383\u001b[0m \u001b[32m━━━━━━━━━━━━━━━━━━━━\u001b[0m\u001b[37m\u001b[0m \u001b[1m2s\u001b[0m 5ms/step - accuracy: 0.8308 - loss: 0.3586 - val_accuracy: 0.8134 - val_loss: 0.4064 - learning_rate: 0.0010\n",
      "Epoch 165/500\n",
      "\u001b[1m383/383\u001b[0m \u001b[32m━━━━━━━━━━━━━━━━━━━━\u001b[0m\u001b[37m\u001b[0m \u001b[1m2s\u001b[0m 5ms/step - accuracy: 0.8344 - loss: 0.3580 - val_accuracy: 0.8065 - val_loss: 0.4049 - learning_rate: 0.0010\n",
      "Epoch 166/500\n",
      "\u001b[1m383/383\u001b[0m \u001b[32m━━━━━━━━━━━━━━━━━━━━\u001b[0m\u001b[37m\u001b[0m \u001b[1m2s\u001b[0m 5ms/step - accuracy: 0.8306 - loss: 0.3666 - val_accuracy: 0.8043 - val_loss: 0.4124 - learning_rate: 0.0010\n",
      "Epoch 167/500\n",
      "\u001b[1m383/383\u001b[0m \u001b[32m━━━━━━━━━━━━━━━━━━━━\u001b[0m\u001b[37m\u001b[0m \u001b[1m2s\u001b[0m 5ms/step - accuracy: 0.8357 - loss: 0.3575 - val_accuracy: 0.8134 - val_loss: 0.4035 - learning_rate: 0.0010\n",
      "Epoch 168/500\n",
      "\u001b[1m383/383\u001b[0m \u001b[32m━━━━━━━━━━━━━━━━━━━━\u001b[0m\u001b[37m\u001b[0m \u001b[1m2s\u001b[0m 5ms/step - accuracy: 0.8271 - loss: 0.3672 - val_accuracy: 0.8092 - val_loss: 0.3985 - learning_rate: 0.0010\n",
      "Epoch 169/500\n",
      "\u001b[1m383/383\u001b[0m \u001b[32m━━━━━━━━━━━━━━━━━━━━\u001b[0m\u001b[37m\u001b[0m \u001b[1m2s\u001b[0m 5ms/step - accuracy: 0.8310 - loss: 0.3666 - val_accuracy: 0.8077 - val_loss: 0.4191 - learning_rate: 0.0010\n",
      "Epoch 170/500\n",
      "\u001b[1m383/383\u001b[0m \u001b[32m━━━━━━━━━━━━━━━━━━━━\u001b[0m\u001b[37m\u001b[0m \u001b[1m2s\u001b[0m 5ms/step - accuracy: 0.8406 - loss: 0.3541 - val_accuracy: 0.8134 - val_loss: 0.3988 - learning_rate: 0.0010\n",
      "Epoch 171/500\n",
      "\u001b[1m383/383\u001b[0m \u001b[32m━━━━━━━━━━━━━━━━━━━━\u001b[0m\u001b[37m\u001b[0m \u001b[1m2s\u001b[0m 5ms/step - accuracy: 0.8285 - loss: 0.3707 - val_accuracy: 0.8016 - val_loss: 0.4102 - learning_rate: 0.0010\n",
      "Epoch 172/500\n",
      "\u001b[1m383/383\u001b[0m \u001b[32m━━━━━━━━━━━━━━━━━━━━\u001b[0m\u001b[37m\u001b[0m \u001b[1m2s\u001b[0m 5ms/step - accuracy: 0.8368 - loss: 0.3529 - val_accuracy: 0.7997 - val_loss: 0.4119 - learning_rate: 0.0010\n",
      "Epoch 173/500\n",
      "\u001b[1m383/383\u001b[0m \u001b[32m━━━━━━━━━━━━━━━━━━━━\u001b[0m\u001b[37m\u001b[0m \u001b[1m2s\u001b[0m 5ms/step - accuracy: 0.8413 - loss: 0.3528 - val_accuracy: 0.8130 - val_loss: 0.4132 - learning_rate: 0.0010\n",
      "Epoch 174/500\n",
      "\u001b[1m383/383\u001b[0m \u001b[32m━━━━━━━━━━━━━━━━━━━━\u001b[0m\u001b[37m\u001b[0m \u001b[1m2s\u001b[0m 5ms/step - accuracy: 0.8364 - loss: 0.3648 - val_accuracy: 0.8119 - val_loss: 0.4038 - learning_rate: 0.0010\n",
      "Epoch 175/500\n",
      "\u001b[1m383/383\u001b[0m \u001b[32m━━━━━━━━━━━━━━━━━━━━\u001b[0m\u001b[37m\u001b[0m \u001b[1m2s\u001b[0m 5ms/step - accuracy: 0.8278 - loss: 0.3642 - val_accuracy: 0.8199 - val_loss: 0.3971 - learning_rate: 0.0010\n",
      "Epoch 176/500\n",
      "\u001b[1m383/383\u001b[0m \u001b[32m━━━━━━━━━━━━━━━━━━━━\u001b[0m\u001b[37m\u001b[0m \u001b[1m2s\u001b[0m 5ms/step - accuracy: 0.8359 - loss: 0.3604 - val_accuracy: 0.8153 - val_loss: 0.4058 - learning_rate: 0.0010\n",
      "Epoch 177/500\n",
      "\u001b[1m383/383\u001b[0m \u001b[32m━━━━━━━━━━━━━━━━━━━━\u001b[0m\u001b[37m\u001b[0m \u001b[1m2s\u001b[0m 5ms/step - accuracy: 0.8353 - loss: 0.3521 - val_accuracy: 0.8058 - val_loss: 0.4051 - learning_rate: 0.0010\n"
     ]
    }
   ],
   "source": [
    "history_15 = model_15.fit(\n",
    "    audio_and_direction_features_train,  # IMPORTANTE: usare le feature combinate qui\n",
    "    y_train_direction,                   # target - direction labels, not vehicle\n",
    "    epochs=500,\n",
    "    batch_size=32,\n",
    "    validation_data=(audio_and_direction_features_val, y_val_direction),\n",
    "    callbacks=[reduce_lr, early_stopping, model_checkpoint]\n",
    ")"
   ]
  },
  {
   "cell_type": "code",
   "execution_count": 21,
   "id": "47420152",
   "metadata": {},
   "outputs": [
    {
     "name": "stderr",
     "output_type": "stream",
     "text": [
      "WARNING:absl:Compiled the loaded model, but the compiled metrics have yet to be built. `model.compile_metrics` will be empty until you train or evaluate the model.\n"
     ]
    },
    {
     "name": "stdout",
     "output_type": "stream",
     "text": [
      "\u001b[1m83/83\u001b[0m \u001b[32m━━━━━━━━━━━━━━━━━━━━\u001b[0m\u001b[37m\u001b[0m \u001b[1m0s\u001b[0m 2ms/step - accuracy: 0.8348 - loss: 0.3810\n",
      "\n",
      "Test accuracy: 0.8225\n",
      "Test loss: 0.3915\n",
      "\u001b[1m83/83\u001b[0m \u001b[32m━━━━━━━━━━━━━━━━━━━━\u001b[0m\u001b[37m\u001b[0m \u001b[1m0s\u001b[0m 3ms/step\n"
     ]
    }
   ],
   "source": [
    "# TEST\n",
    "best_model_15 = tf.keras.models.load_model('best_model_15.h5')\n",
    "\n",
    "test_loss_15, test_acc_15 = model_15.evaluate(audio_and_direction_features_test, y_test_direction, verbose=1)\n",
    "print(f\"\\nTest accuracy: {test_acc_15:.4f}\")\n",
    "print(f\"Test loss: {test_loss_15:.4f}\")\n",
    "\n",
    "y_pred_prob_15 = model_15.predict(audio_and_direction_features_test)\n",
    "y_pred_15 = np.argmax(y_pred_prob_15, axis=1)\n",
    "y_true_15 = np.argmax(y_test_direction, axis=1)"
   ]
  },
  {
   "cell_type": "code",
   "execution_count": 22,
   "id": "a67032c9",
   "metadata": {},
   "outputs": [
    {
     "data": {
      "image/png": "[encoded data removed]",
      "text/plain": [
       "<Figure size 1200x500 with 2 Axes>"
      ]
     },
     "metadata": {},
     "output_type": "display_data"
    },
    {
     "name": "stdout",
     "output_type": "stream",
     "text": [
      "Miglior accuracy: 0.8206 (epoch 141)\n",
      "\n",
      "--- Classification Report ---\n",
      "              precision    recall  f1-score   support\n",
      "\n",
      "           L       0.70      0.72      0.71       715\n",
      "        None       0.96      0.97      0.96      1213\n",
      "           R       0.71      0.67      0.69       698\n",
      "\n",
      "    accuracy                           0.82      2626\n",
      "   macro avg       0.79      0.79      0.79      2626\n",
      "weighted avg       0.82      0.82      0.82      2626\n",
      "\n"
     ]
    },
    {
     "data": {
      "image/png": "[encoded data removed]",
      "text/plain": [
       "<Figure size 1000x800 with 2 Axes>"
      ]
     },
     "metadata": {},
     "output_type": "display_data"
    },
    {
     "name": "stdout",
     "output_type": "stream",
     "text": [
      "\n",
      "===== RISULTATI CLASSIFICAZIONE DIREZIONI =====\n",
      "Direction accuracy: 0.8225\n",
      "Test loss: 0.3915\n",
      "Test accuracy: 0.8225\n",
      "\n",
      "--- Direction Classification Report ---\n",
      "              precision    recall  f1-score   support\n",
      "\n",
      "           L       0.70      0.72      0.71       715\n",
      "        None       0.96      0.97      0.96      1213\n",
      "           R       0.71      0.67      0.69       698\n",
      "\n",
      "    accuracy                           0.82      2626\n",
      "   macro avg       0.79      0.79      0.79      2626\n",
      "weighted avg       0.82      0.82      0.82      2626\n",
      "\n"
     ]
    },
    {
     "data": {
      "image/png": "[encoded data removed]",
      "text/plain": [
       "<Figure size 1200x1000 with 2 Axes>"
      ]
     },
     "metadata": {},
     "output_type": "display_data"
    },
    {
     "name": "stdout",
     "output_type": "stream",
     "text": [
      "\n",
      "Balanced accuracy score: 0.7862\n"
     ]
    }
   ],
   "source": [
    "# STAMPE RISULTATI\n",
    "plot_single_output_model(\n",
    "    history_15, \n",
    "    y_true_15, \n",
    "    y_pred_15, \n",
    "    class_names=le_direction.classes_\n",
    ")\n",
    "\n",
    "plot_direction_test_results(\n",
    "    y_true_15, \n",
    "    y_pred_15, \n",
    "    le_direction.classes_,\n",
    "    test_results=(test_loss_15, test_acc_15)\n",
    ")"
   ]
  }
 ],
 "metadata": {
  "kernelspec": {
   "display_name": "env_STMAE",
   "language": "python",
   "name": "python3"
  },
  "language_info": {
   "codemirror_mode": {
    "name": "ipython",
    "version": 3
   },
   "file_extension": ".py",
   "mimetype": "text/x-python",
   "name": "python",
   "nbconvert_exporter": "python",
   "pygments_lexer": "ipython3",
   "version": "3.10.16"
  }
 },
 "nbformat": 4,
 "nbformat_minor": 5
}
